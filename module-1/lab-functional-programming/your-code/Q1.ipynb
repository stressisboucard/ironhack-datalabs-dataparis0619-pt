{
 "cells": [
  {
   "cell_type": "markdown",
   "metadata": {},
   "source": [
    "In the cell below, create a Python function that wraps your previous solution for the Bag of Words lab.\n",
    "\n",
    "Requirements:\n",
    "\n",
    "1. Your function should accept the following parameters:\n",
    "    * `docs` [REQUIRED] - array of document paths.\n",
    "    * `stop_words` [OPTIONAL] - array of stop words. The default value is an empty array.\n",
    "\n",
    "1. Your function should return a Python object that contains the following:\n",
    "    * `bag_of_words` - array of strings of normalized unique words in the corpus.\n",
    "    * `term_freq` - array of the term-frequency vectors."
   ]
  },
  {
   "cell_type": "code",
   "execution_count": 29,
   "metadata": {},
   "outputs": [
    {
     "name": "stdout",
     "output_type": "stream",
     "text": [
      "(['ironhack', 'is', 'cool', 'i', 'love', 'am', 'a', 'student', 'at'], [[1, 1, 1, 0, 0, 0, 0, 0, 0], [1, 0, 0, 1, 1, 0, 0, 0, 0], [1, 0, 0, 1, 0, 1, 1, 1, 1]])\n"
     ]
    }
   ],
   "source": [
    "# Import required libraries\n",
    "import re \n",
    "import os \n",
    "docs = ['doc1.txt','doc2.txt','doc3.txt']\n",
    "stop_words = ['all', 'six', 'less', 'being', 'indeed', 'over', 'move', 'anyway', 'fifty', 'four', 'not', 'own', 'through', 'yourselves', 'go', 'where', 'mill', 'only', 'find', 'before', 'one', 'whose', 'system', 'how', 'somewhere', 'with', 'thick', 'show', 'had', 'enough', 'should', 'to', 'must', 'whom', 'seeming', 'under', 'ours', 'has', 'might', 'thereafter', 'latterly', 'do', 'them', 'his', 'around', 'than', 'get', 'very', 'de', 'none', 'cannot', 'every', 'whether', 'they', 'front', 'during', 'thus', 'now', 'him', 'nor', 'name', 'several', 'hereafter', 'always', 'who', 'cry', 'whither', 'this', 'someone', 'either', 'each', 'become', 'thereupon', 'sometime', 'side', 'two', 'therein', 'twelve', 'because', 'often', 'ten', 'our', 'eg', 'some', 'back', 'up', 'namely', 'towards', 'are', 'further', 'beyond', 'ourselves', 'yet', 'out', 'even', 'will', 'what', 'still', 'for', 'bottom', 'mine', 'since', 'please', 'forty', 'per', 'its', 'everything', 'behind', 'un', 'above', 'between', 'it', 'neither', 'seemed', 'ever', 'across', 'she', 'somehow', 'be', 'we', 'full', 'never', 'sixty', 'however', 'here', 'otherwise', 'were', 'whereupon', 'nowhere', 'although', 'found', 'alone', 're', 'along', 'fifteen', 'by', 'both', 'about', 'last', 'would', 'anything', 'via', 'many', 'could', 'thence', 'put', 'against', 'keep', 'etc', 'amount', 'became', 'ltd', 'hence', 'onto', 'or', 'con', 'among', 'already', 'co', 'afterwards', 'formerly', 'within', 'seems', 'into', 'others', 'while', 'whatever', 'except', 'down', 'hers', 'everyone', 'done', 'least', 'another', 'whoever', 'moreover', 'couldnt', 'throughout', 'anyhow', 'yourself', 'three', 'from', 'her', 'few', 'together', 'top', 'there', 'due', 'been', 'next', 'anyone', 'eleven', 'much', 'call', 'therefore', 'interest', 'then', 'thru', 'themselves', 'hundred', 'was', 'sincere', 'empty', 'more', 'himself', 'elsewhere', 'mostly', 'on', 'fire', 'am', 'becoming', 'hereby', 'amongst', 'else', 'part', 'everywhere', 'too', 'herself', 'former', 'those', 'he', 'me', 'myself', 'made', 'twenty', 'these', 'bill', 'cant', 'us', 'until', 'besides', 'nevertheless', 'below', 'anywhere', 'nine', 'can', 'of', 'your', 'toward', 'my', 'something', 'and', 'whereafter', 'whenever', 'give', 'almost', 'wherever', 'is', 'describe', 'beforehand', 'herein', 'an', 'as', 'itself', 'at', 'have', 'in', 'seem', 'whence', 'ie', 'any', 'fill', 'again', 'hasnt', 'inc', 'thereby', 'thin', 'no', 'perhaps', 'latter', 'meanwhile', 'when', 'detail', 'same', 'wherein', 'beside', 'also', 'that', 'other', 'take', 'which', 'becomes', 'you', 'if', 'nobody', 'see', 'though', 'may', 'after', 'upon', 'most', 'hereupon', 'eight', 'but', 'serious', 'nothing', 'such', 'why', 'a', 'off', 'whereby', 'third', 'i', 'whole', 'noone', 'sometimes', 'well', 'amoungst', 'yours', 'their', 'rather', 'without', 'so', 'five', 'the', 'first', 'whereas', 'once']\n",
    "stop_words = []\n",
    "\n",
    "# In the function, first define the variables you will use such as `corpus`, `bag_of_words`, and `term_freq`.\n",
    "def get_bow_from_docs(docs, stop_words=[]):\n",
    "    \n",
    "    \"\"\"\n",
    "    Loop `docs` and read the content of each doc into a string in `corpus`.\n",
    "    Remember to convert the doc content to lowercases and remove punctuation.\n",
    "    \"\"\"\n",
    "    \n",
    "    corpus = []\n",
    "    for text in docs:\n",
    "        with open(text, \"r\") as f:\n",
    "            corpus.append(f.read())\n",
    "    \n",
    "    corpus = [phrase.lower() for phrase in corpus]\n",
    "    corpus = [re.sub('[^a-z ]', ' ',doc) for doc in corpus] \n",
    "    \n",
    "    corpus_splitted = [phrase.split(\" \") for phrase in corpus]\n",
    "    \n",
    "    \"\"\"\n",
    "    Loop `corpus`. Append the terms in each doc into the `bag_of_words` array. The terms in `bag_of_words` \n",
    "    should be unique which means before adding each term you need to check if it's already added to the array.\n",
    "    In addition, check if each term is in the `stop_words` array. Only append the term to `bag_of_words`\n",
    "    if it is not a stop word.\n",
    "    \"\"\"\n",
    "    \n",
    "    bag_of_words = []\n",
    "    for term in corpus: \n",
    "        sous_list = term.split()\n",
    "        for term in sous_list: \n",
    "            if term not in bag_of_words: \n",
    "                bag_of_words.append(term)\n",
    "    \n",
    "    \"\"\"\n",
    "    Loop `corpus` again. For each doc string, count the number of occurrences of each term in `bag_of_words`. \n",
    "    Create an array for each doc's term frequency and append it to `term_freq`.\n",
    "    \"\"\"\n",
    "    \n",
    "    term_freq = []\n",
    "    for phrase_liste in corpus_splitted:\n",
    "        sous_liste = []\n",
    "        for word in bag_of_words:\n",
    "            if word not in stop_words: \n",
    "                if word in phrase_liste: \n",
    "                    sous_liste.append(1)\n",
    "                else: \n",
    "                    sous_liste.append(0)\n",
    "        term_freq.append(sous_liste)\n",
    "    \n",
    "    return bag_of_words, term_freq\n",
    "\n",
    "print(get_bow_from_docs(\n",
    "    [\"../../lab-string-operations/your-code/\" + f for f in os.listdir(\"../../lab-string-operations/your-code\") if f.endswith('.txt')],\n",
    "    stop_words=stop_words\n",
    "))"
   ]
  },
  {
   "cell_type": "markdown",
   "metadata": {},
   "source": [
    "Test your function without stop words. You should see the output like below:\n",
    "\n",
    "```{'bag_of_words': ['ironhack', 'is', 'cool', 'i', 'love', 'am', 'a', 'student', 'at'], 'term_freq': [[1, 1, 1, 0, 0, 0, 0, 0, 0], [1, 0, 0, 1, 1, 0, 0, 0, 0], [1, 0, 0, 1, 0, 1, 1, 1, 1]]}```"
   ]
  },
  {
   "cell_type": "code",
   "execution_count": 38,
   "metadata": {},
   "outputs": [
    {
     "name": "stdout",
     "output_type": "stream",
     "text": [
      "[]\n"
     ]
    },
    {
     "ename": "TypeError",
     "evalue": "get_bow_from_docs() missing 1 required positional argument: 'docs'",
     "output_type": "error",
     "traceback": [
      "\u001b[1;31m---------------------------------------------------------------------------\u001b[0m",
      "\u001b[1;31mTypeError\u001b[0m                                 Traceback (most recent call last)",
      "\u001b[1;32m<ipython-input-38-7ff769397aee>\u001b[0m in \u001b[0;36m<module>\u001b[1;34m\u001b[0m\n\u001b[0;32m      5\u001b[0m \u001b[1;33m\u001b[0m\u001b[0m\n\u001b[0;32m      6\u001b[0m \u001b[1;31m# Obtain BoW from your function\u001b[0m\u001b[1;33m\u001b[0m\u001b[1;33m\u001b[0m\u001b[1;33m\u001b[0m\u001b[0m\n\u001b[1;32m----> 7\u001b[1;33m \u001b[0mbow\u001b[0m \u001b[1;33m=\u001b[0m \u001b[0mget_bow_from_docs\u001b[0m\u001b[1;33m(\u001b[0m\u001b[1;33m)\u001b[0m\u001b[1;33m\u001b[0m\u001b[1;33m\u001b[0m\u001b[0m\n\u001b[0m\u001b[0;32m      8\u001b[0m \u001b[1;33m\u001b[0m\u001b[0m\n\u001b[0;32m      9\u001b[0m \u001b[1;31m# Print BoW\u001b[0m\u001b[1;33m\u001b[0m\u001b[1;33m\u001b[0m\u001b[1;33m\u001b[0m\u001b[0m\n",
      "\u001b[1;31mTypeError\u001b[0m: get_bow_from_docs() missing 1 required positional argument: 'docs'"
     ]
    }
   ],
   "source": [
    "# Define doc paths array\n",
    "import os\n",
    "file_list = [f for f in os.listdir() if f.endswith('.txt')]\n",
    "print(file_list)\n",
    "\n",
    "# Obtain BoW from your function\n",
    "bow = get_bow_from_docs()\n",
    "\n",
    "# Print BoW\n",
    "#print(bow)"
   ]
  },
  {
   "cell_type": "markdown",
   "metadata": {},
   "source": [
    "If your attempt above is successful, nice work done!\n",
    "\n",
    "Now test your function again with the stop words. In the previous lab we defined the stop words in a large array. In this lab, we'll import the stop words from Scikit-Learn."
   ]
  },
  {
   "cell_type": "code",
   "execution_count": 32,
   "metadata": {},
   "outputs": [
    {
     "name": "stdout",
     "output_type": "stream",
     "text": [
      "frozenset({'us', 'hasnt', 'here', 'under', 'he', 'why', 'eleven', 'which', 'must', 'ours', 'nevertheless', 'will', 'whither', 'whoever', 'fill', 'yours', 'hereby', 'nowhere', 'all', 'an', 'it', 'himself', 'con', 'both', 'nor', 're', 'find', 'such', 'out', 'un', 'could', 'nothing', 'cry', 'but', 'me', 'whereafter', 'can', 'else', 'hers', 'thru', 'de', 'namely', 'seeming', 'again', 'should', 'among', 'co', 'beforehand', 'sincere', 'someone', 'over', 'fifteen', 'many', 'hundred', 'afterwards', 'twenty', 'a', 'per', 'whereupon', 'being', 'back', 'now', 'last', 'thin', 'hereupon', 'sixty', 'thick', 'thereupon', 'ten', 'own', 'were', 'mostly', 'made', 'three', 'full', 'whatever', 'be', 'amoungst', 'hereafter', 'around', 'everyone', 'though', 'might', 'below', 'became', 'behind', 'alone', 'so', 'eight', 'is', 'thence', 'down', 'please', 'very', 'thereby', 'four', 'becomes', 'am', 'twelve', 'mill', 'these', 'without', 'off', 'too', 'when', 'meanwhile', 'onto', 'from', 'into', 'during', 'anyhow', 'had', 'since', 'our', 'until', 'your', 'third', 'him', 'empty', 'up', 'first', 'get', 'formerly', 'seems', 'go', 'its', 'other', 'nine', 'each', 'than', 'former', 'six', 'one', 'with', 'cannot', 'sometime', 'much', 'except', 'before', 'anywhere', 'however', 'fire', 'wherein', 'see', 'well', 'because', 'cant', 'against', 'fifty', 'itself', 'been', 'several', 'then', 'already', 'some', 'take', 'or', 'we', 'on', 'myself', 'herself', 'further', 'nobody', 'system', 'that', 'at', 'inc', 'indeed', 'seemed', 'etc', 'enough', 'move', 'another', 'ourselves', 'name', 'somehow', 'whole', 'my', 'seem', 'those', 'latterly', 'toward', 'none', 'by', 'part', 'i', 'bill', 'either', 'thereafter', 'towards', 'side', 'sometimes', 'ie', 'forty', 'although', 'bottom', 'for', 'are', 'may', 'not', 'whenever', 'where', 'elsewhere', 'as', 'any', 'do', 'everything', 'how', 'most', 'no', 'yourselves', 'only', 'least', 'yet', 'done', 'together', 'whose', 'have', 'was', 'somewhere', 'them', 'they', 'everywhere', 'wherever', 'she', 'via', 'hence', 'also', 'yourself', 'almost', 'herein', 'who', 'others', 'along', 'amount', 'five', 'within', 'two', 'his', 'anything', 'anyone', 'front', 'her', 'more', 'once', 'describe', 'the', 'if', 'while', 'serious', 'beyond', 'still', 'through', 'becoming', 'never', 'ltd', 'neither', 'this', 'same', 'become', 'keep', 'found', 'in', 'whether', 'next', 'mine', 'call', 'put', 'of', 'throughout', 'themselves', 'after', 'due', 'always', 'often', 'whence', 'perhaps', 'thus', 'across', 'to', 'moreover', 'what', 'detail', 'less', 'whom', 'eg', 'rather', 'about', 'every', 'ever', 'whereby', 'even', 'amongst', 'few', 'beside', 'upon', 'besides', 'otherwise', 'give', 'above', 'noone', 'something', 'between', 'whereas', 'their', 'there', 'show', 'interest', 'anyway', 'and', 'would', 'therein', 'you', 'latter', 'couldnt', 'has', 'top', 'therefore'})\n"
     ]
    }
   ],
   "source": [
    "from sklearn.feature_extraction import stop_words\n",
    "print(stop_words.ENGLISH_STOP_WORDS)"
   ]
  },
  {
   "cell_type": "markdown",
   "metadata": {},
   "source": [
    "You should have seen a large list of words that looks like:\n",
    "\n",
    "```frozenset({'across', 'mine', 'cannot', ...})```\n",
    "\n",
    "`frozenset` is a type of Python object that is immutable. In this lab you can use it just like an array without conversion."
   ]
  },
  {
   "cell_type": "markdown",
   "metadata": {},
   "source": [
    "Next, test your function with supplying `stop_words.ENGLISH_STOP_WORDS` as the second parameter."
   ]
  },
  {
   "cell_type": "code",
   "execution_count": null,
   "metadata": {},
   "outputs": [],
   "source": [
    "bow = get_bow_from_docs(bow, stop_words.ENGLISH_STOP_WORDS)\n",
    "\n",
    "print(bow)"
   ]
  },
  {
   "cell_type": "markdown",
   "metadata": {},
   "source": [
    "You should have seen:\n",
    "\n",
    "```{'bag_of_words': ['ironhack', 'cool', 'love', 'student'], 'term_freq': [[1, 1, 0, 0], [1, 0, 1, 0], [1, 0, 0, 1]]}```"
   ]
  },
  {
   "cell_type": "code",
   "execution_count": null,
   "metadata": {},
   "outputs": [],
   "source": []
  }
 ],
 "metadata": {
  "kernelspec": {
   "display_name": "Python 3",
   "language": "python",
   "name": "python3"
  },
  "language_info": {
   "codemirror_mode": {
    "name": "ipython",
    "version": 3
   },
   "file_extension": ".py",
   "mimetype": "text/x-python",
   "name": "python",
   "nbconvert_exporter": "python",
   "pygments_lexer": "ipython3",
   "version": "3.7.3"
  }
 },
 "nbformat": 4,
 "nbformat_minor": 2
}
