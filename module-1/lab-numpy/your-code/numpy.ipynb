{
 "cells": [
  {
   "cell_type": "code",
   "execution_count": 8,
   "metadata": {},
   "outputs": [],
   "source": [
    "#1. Import the NUMPY package under the name np.\n",
    "import numpy as np"
   ]
  },
  {
   "cell_type": "code",
   "execution_count": 9,
   "metadata": {},
   "outputs": [
    {
     "name": "stdout",
     "output_type": "stream",
     "text": [
      "1.16.2\n",
      "mkl_info:\n",
      "    libraries = ['mkl_rt']\n",
      "    library_dirs = ['C:/Users/Stressis/Anaconda3\\\\Library\\\\lib']\n",
      "    define_macros = [('SCIPY_MKL_H', None), ('HAVE_CBLAS', None)]\n",
      "    include_dirs = ['C:\\\\Program Files (x86)\\\\IntelSWTools\\\\compilers_and_libraries_2019.0.117\\\\windows\\\\mkl', 'C:\\\\Program Files (x86)\\\\IntelSWTools\\\\compilers_and_libraries_2019.0.117\\\\windows\\\\mkl\\\\include', 'C:\\\\Program Files (x86)\\\\IntelSWTools\\\\compilers_and_libraries_2019.0.117\\\\windows\\\\mkl\\\\lib', 'C:/Users/Stressis/Anaconda3\\\\Library\\\\include']\n",
      "blas_mkl_info:\n",
      "    libraries = ['mkl_rt']\n",
      "    library_dirs = ['C:/Users/Stressis/Anaconda3\\\\Library\\\\lib']\n",
      "    define_macros = [('SCIPY_MKL_H', None), ('HAVE_CBLAS', None)]\n",
      "    include_dirs = ['C:\\\\Program Files (x86)\\\\IntelSWTools\\\\compilers_and_libraries_2019.0.117\\\\windows\\\\mkl', 'C:\\\\Program Files (x86)\\\\IntelSWTools\\\\compilers_and_libraries_2019.0.117\\\\windows\\\\mkl\\\\include', 'C:\\\\Program Files (x86)\\\\IntelSWTools\\\\compilers_and_libraries_2019.0.117\\\\windows\\\\mkl\\\\lib', 'C:/Users/Stressis/Anaconda3\\\\Library\\\\include']\n",
      "blas_opt_info:\n",
      "    libraries = ['mkl_rt']\n",
      "    library_dirs = ['C:/Users/Stressis/Anaconda3\\\\Library\\\\lib']\n",
      "    define_macros = [('SCIPY_MKL_H', None), ('HAVE_CBLAS', None)]\n",
      "    include_dirs = ['C:\\\\Program Files (x86)\\\\IntelSWTools\\\\compilers_and_libraries_2019.0.117\\\\windows\\\\mkl', 'C:\\\\Program Files (x86)\\\\IntelSWTools\\\\compilers_and_libraries_2019.0.117\\\\windows\\\\mkl\\\\include', 'C:\\\\Program Files (x86)\\\\IntelSWTools\\\\compilers_and_libraries_2019.0.117\\\\windows\\\\mkl\\\\lib', 'C:/Users/Stressis/Anaconda3\\\\Library\\\\include']\n",
      "lapack_mkl_info:\n",
      "    libraries = ['mkl_rt']\n",
      "    library_dirs = ['C:/Users/Stressis/Anaconda3\\\\Library\\\\lib']\n",
      "    define_macros = [('SCIPY_MKL_H', None), ('HAVE_CBLAS', None)]\n",
      "    include_dirs = ['C:\\\\Program Files (x86)\\\\IntelSWTools\\\\compilers_and_libraries_2019.0.117\\\\windows\\\\mkl', 'C:\\\\Program Files (x86)\\\\IntelSWTools\\\\compilers_and_libraries_2019.0.117\\\\windows\\\\mkl\\\\include', 'C:\\\\Program Files (x86)\\\\IntelSWTools\\\\compilers_and_libraries_2019.0.117\\\\windows\\\\mkl\\\\lib', 'C:/Users/Stressis/Anaconda3\\\\Library\\\\include']\n",
      "lapack_opt_info:\n",
      "    libraries = ['mkl_rt']\n",
      "    library_dirs = ['C:/Users/Stressis/Anaconda3\\\\Library\\\\lib']\n",
      "    define_macros = [('SCIPY_MKL_H', None), ('HAVE_CBLAS', None)]\n",
      "    include_dirs = ['C:\\\\Program Files (x86)\\\\IntelSWTools\\\\compilers_and_libraries_2019.0.117\\\\windows\\\\mkl', 'C:\\\\Program Files (x86)\\\\IntelSWTools\\\\compilers_and_libraries_2019.0.117\\\\windows\\\\mkl\\\\include', 'C:\\\\Program Files (x86)\\\\IntelSWTools\\\\compilers_and_libraries_2019.0.117\\\\windows\\\\mkl\\\\lib', 'C:/Users/Stressis/Anaconda3\\\\Library\\\\include']\n",
      "None\n"
     ]
    }
   ],
   "source": [
    "#2. Print the NUMPY version and the configuration.\n",
    "print(np.__version__)\n",
    "print(np.show_config())"
   ]
  },
  {
   "cell_type": "code",
   "execution_count": 11,
   "metadata": {},
   "outputs": [
    {
     "name": "stdout",
     "output_type": "stream",
     "text": [
      "[[[0.19344695 0.85518066 0.40935031 0.41143893 0.89216526]\n",
      "  [0.12246201 0.88650778 0.61630716 0.35810022 0.87355364]\n",
      "  [0.26673347 0.42182447 0.72163371 0.64918985 0.18269863]]\n",
      "\n",
      " [[0.76184108 0.82850163 0.75857049 0.12993161 0.9703229 ]\n",
      "  [0.26897718 0.88687418 0.4555253  0.61197428 0.04858939]\n",
      "  [0.26826224 0.64509845 0.30008153 0.85685363 0.47432335]]]\n"
     ]
    }
   ],
   "source": [
    "#3. Generate a 2x3x5 3-dimensional array with random values. Assign the array to variable \"a\"\n",
    "# Challenge: there are at least three easy ways that use numpy to generate random arrays. How many ways can you find?\n",
    "a = np.random.random((2,3,5))\n",
    "#np.random.randn(2,3,5)\n",
    "#np.ramdom.rand(2,3,5)\n",
    "\n",
    "#4. Print a.\n",
    "print(a)\n"
   ]
  },
  {
   "cell_type": "code",
   "execution_count": 12,
   "metadata": {},
   "outputs": [
    {
     "name": "stdout",
     "output_type": "stream",
     "text": [
      "[[[1. 1. 1.]\n",
      "  [1. 1. 1.]]\n",
      "\n",
      " [[1. 1. 1.]\n",
      "  [1. 1. 1.]]\n",
      "\n",
      " [[1. 1. 1.]\n",
      "  [1. 1. 1.]]\n",
      "\n",
      " [[1. 1. 1.]\n",
      "  [1. 1. 1.]]\n",
      "\n",
      " [[1. 1. 1.]\n",
      "  [1. 1. 1.]]]\n"
     ]
    }
   ],
   "source": [
    "#5. Create a 5x2x3 3-dimensional array with all values equaling 1.\n",
    "#Assign the array to variable \"b\"\n",
    "b= np.ones((5,2,3))\n",
    "\n",
    "#6. Print b.\n",
    "print (b)"
   ]
  },
  {
   "cell_type": "code",
   "execution_count": 13,
   "metadata": {},
   "outputs": [
    {
     "name": "stdout",
     "output_type": "stream",
     "text": [
      "a = 30\n",
      "b = 30\n"
     ]
    }
   ],
   "source": [
    "#7. Do a and b have the same size? How do you prove that in Python code?\n",
    "a.size\n",
    "print(\"a =\",a.size)\n",
    "b.size\n",
    "print(\"b =\", b.size)"
   ]
  },
  {
   "cell_type": "code",
   "execution_count": 14,
   "metadata": {},
   "outputs": [
    {
     "ename": "ValueError",
     "evalue": "operands could not be broadcast together with shapes (2,3,5) (5,2,3) ",
     "output_type": "error",
     "traceback": [
      "\u001b[1;31m---------------------------------------------------------------------------\u001b[0m",
      "\u001b[1;31mValueError\u001b[0m                                Traceback (most recent call last)",
      "\u001b[1;32m<ipython-input-14-588bb905e47f>\u001b[0m in \u001b[0;36m<module>\u001b[1;34m\u001b[0m\n\u001b[0;32m      1\u001b[0m \u001b[1;31m#8. Are you able to add a and b? Why or why not?\u001b[0m\u001b[1;33m\u001b[0m\u001b[1;33m\u001b[0m\u001b[1;33m\u001b[0m\u001b[0m\n\u001b[1;32m----> 2\u001b[1;33m \u001b[0mc\u001b[0m\u001b[1;33m=\u001b[0m \u001b[0ma\u001b[0m \u001b[1;33m+\u001b[0m\u001b[0mb\u001b[0m\u001b[1;33m\u001b[0m\u001b[1;33m\u001b[0m\u001b[0m\n\u001b[0m\u001b[0;32m      3\u001b[0m \u001b[0mprint\u001b[0m\u001b[1;33m(\u001b[0m\u001b[0mc\u001b[0m\u001b[1;33m)\u001b[0m\u001b[1;33m\u001b[0m\u001b[1;33m\u001b[0m\u001b[0m\n",
      "\u001b[1;31mValueError\u001b[0m: operands could not be broadcast together with shapes (2,3,5) (5,2,3) "
     ]
    }
   ],
   "source": [
    "#8. Are you able to add a and b? Why or why not?\n",
    "c= a +b\n",
    "print(c)\n",
    "#not the same shape"
   ]
  },
  {
   "cell_type": "code",
   "execution_count": 17,
   "metadata": {},
   "outputs": [
    {
     "name": "stdout",
     "output_type": "stream",
     "text": [
      "[[[1. 1. 1. 1. 1.]\n",
      "  [1. 1. 1. 1. 1.]\n",
      "  [1. 1. 1. 1. 1.]]\n",
      "\n",
      " [[1. 1. 1. 1. 1.]\n",
      "  [1. 1. 1. 1. 1.]\n",
      "  [1. 1. 1. 1. 1.]]]\n"
     ]
    }
   ],
   "source": [
    "#9. Transpose b so that it has the same structure of a (i.e. become a 2x3x5 array). Assign the transposed array to varialbe \"c\".\n",
    "c = b.reshape(2,3,5)\n",
    "print(c)"
   ]
  },
  {
   "cell_type": "code",
   "execution_count": 19,
   "metadata": {},
   "outputs": [
    {
     "name": "stdout",
     "output_type": "stream",
     "text": [
      "[[[1.19344695 1.85518066 1.40935031 1.41143893 1.89216526]\n",
      "  [1.12246201 1.88650778 1.61630716 1.35810022 1.87355364]\n",
      "  [1.26673347 1.42182447 1.72163371 1.64918985 1.18269863]]\n",
      "\n",
      " [[1.76184108 1.82850163 1.75857049 1.12993161 1.9703229 ]\n",
      "  [1.26897718 1.88687418 1.4555253  1.61197428 1.04858939]\n",
      "  [1.26826224 1.64509845 1.30008153 1.85685363 1.47432335]]]\n"
     ]
    }
   ],
   "source": [
    "#10. Try to add a and c. Now it should work. Assign the sum to varialbe \"d\". But why does it work now?\n",
    "d = a +c\n",
    "print(d)\n",
    "# same shapes "
   ]
  },
  {
   "cell_type": "code",
   "execution_count": 20,
   "metadata": {},
   "outputs": [
    {
     "name": "stdout",
     "output_type": "stream",
     "text": [
      "[[[0.19344695 0.85518066 0.40935031 0.41143893 0.89216526]\n",
      "  [0.12246201 0.88650778 0.61630716 0.35810022 0.87355364]\n",
      "  [0.26673347 0.42182447 0.72163371 0.64918985 0.18269863]]\n",
      "\n",
      " [[0.76184108 0.82850163 0.75857049 0.12993161 0.9703229 ]\n",
      "  [0.26897718 0.88687418 0.4555253  0.61197428 0.04858939]\n",
      "  [0.26826224 0.64509845 0.30008153 0.85685363 0.47432335]]]\n",
      "[[[1.19344695 1.85518066 1.40935031 1.41143893 1.89216526]\n",
      "  [1.12246201 1.88650778 1.61630716 1.35810022 1.87355364]\n",
      "  [1.26673347 1.42182447 1.72163371 1.64918985 1.18269863]]\n",
      "\n",
      " [[1.76184108 1.82850163 1.75857049 1.12993161 1.9703229 ]\n",
      "  [1.26897718 1.88687418 1.4555253  1.61197428 1.04858939]\n",
      "  [1.26826224 1.64509845 1.30008153 1.85685363 1.47432335]]]\n"
     ]
    }
   ],
   "source": [
    "#11. Print a and d. Notice the difference and relation of the two array in terms of the values? Explain.\n",
    "print(a)\n",
    "print(d)\n",
    "#addition +1"
   ]
  },
  {
   "cell_type": "code",
   "execution_count": 22,
   "metadata": {},
   "outputs": [
    {
     "name": "stdout",
     "output_type": "stream",
     "text": [
      "[[[0.19344695 0.85518066 0.40935031 0.41143893 0.89216526]\n",
      "  [0.12246201 0.88650778 0.61630716 0.35810022 0.87355364]\n",
      "  [0.26673347 0.42182447 0.72163371 0.64918985 0.18269863]]\n",
      "\n",
      " [[0.76184108 0.82850163 0.75857049 0.12993161 0.9703229 ]\n",
      "  [0.26897718 0.88687418 0.4555253  0.61197428 0.04858939]\n",
      "  [0.26826224 0.64509845 0.30008153 0.85685363 0.47432335]]]\n",
      "[[[0.19344695 0.85518066 0.40935031 0.41143893 0.89216526]\n",
      "  [0.12246201 0.88650778 0.61630716 0.35810022 0.87355364]\n",
      "  [0.26673347 0.42182447 0.72163371 0.64918985 0.18269863]]\n",
      "\n",
      " [[0.76184108 0.82850163 0.75857049 0.12993161 0.9703229 ]\n",
      "  [0.26897718 0.88687418 0.4555253  0.61197428 0.04858939]\n",
      "  [0.26826224 0.64509845 0.30008153 0.85685363 0.47432335]]]\n"
     ]
    }
   ],
   "source": [
    "#12. Multiply a and c. Assign the result to e.\n",
    "e = a*c\n",
    "print(e)\n",
    "print(a)\n",
    "##13. Does e equal to a? Why or why not?\n",
    "# multiple par 1"
   ]
  },
  {
   "cell_type": "code",
   "execution_count": 23,
   "metadata": {},
   "outputs": [],
   "source": [
    "#14. Identify the max, min, and mean values in d. Assign those values to variables \"d_max\", \"d_min\", and \"d_mean\"\n",
    "d_max = d.max()\n",
    "d_min = d.min()\n",
    "d_mean = d.mean()"
   ]
  },
  {
   "cell_type": "code",
   "execution_count": 28,
   "metadata": {},
   "outputs": [
    {
     "name": "stdout",
     "output_type": "stream",
     "text": [
      "[[[ 25.  75.  25.  25.  75.]\n",
      "  [ 25.  75.  75.  25.  75.]\n",
      "  [ 25.  25.  75.  75.  25.]]\n",
      "\n",
      " [[ 75.  75.  75.  25. 100.]\n",
      "  [ 25.  75.  25.  75.   0.]\n",
      "  [ 25.  75.  25.  75.  25.]]]\n"
     ]
    }
   ],
   "source": [
    "#15. Now we want to label the values in d. First create an empty array \"f\" with the same shape (i.e. 2x3x5) as d using `np.empty`.\n",
    "\n",
    "f = np.empty((2,3,5))\n",
    "f[np.where(d<d_mean)] = 25\n",
    "f[np.where(d>d_mean)] = 75\n",
    "f[np.where(d==d_min)] = 0\n",
    "f[np.where(d==d_max)] = 100\n",
    "\n",
    "print(f)"
   ]
  },
  {
   "cell_type": "code",
   "execution_count": 34,
   "metadata": {},
   "outputs": [
    {
     "name": "stdout",
     "output_type": "stream",
     "text": [
      "[[[1.19344695 1.85518066 1.40935031 1.41143893 1.89216526]\n",
      "  [1.12246201 1.88650778 1.61630716 1.35810022 1.87355364]\n",
      "  [1.26673347 1.42182447 1.72163371 1.64918985 1.18269863]]\n",
      "\n",
      " [[1.76184108 1.82850163 1.75857049 1.12993161 1.9703229 ]\n",
      "  [1.26897718 1.88687418 1.4555253  1.61197428 1.04858939]\n",
      "  [1.26826224 1.64509845 1.30008153 1.85685363 1.47432335]]]\n",
      "[[[ 25.  75.  25.  25.  75.]\n",
      "  [ 25.  75.  75.  25.  75.]\n",
      "  [ 25.  25.  75.  75.  25.]]\n",
      "\n",
      " [[ 75.  75.  75.  25. 100.]\n",
      "  [ 25.  75.  25.  75.   0.]\n",
      "  [ 25.  75.  25.  75.  25.]]]\n"
     ]
    }
   ],
   "source": [
    "#16. Populate the values in f. For each value in d, if it's larger than d_min but smaller than d_mean, assign 25 to the corresponding value in f.\n",
    "#If a value in d is larger than d_mean but smaller than d_max, assign 75 to the corresponding value in f.\n",
    "#If a value equals to d_mean, assign 50 to the corresponding value in f.\n",
    "#Assign 0 to the corresponding value(s) in f for d_min in d.\n",
    "#Assign 100 to the corresponding value(s) in f for d_max in d.\n",
    "#In the end, f should have only the following values: 0, 25, 50, 75, and 100.\n",
    "#Note: you don't have to use Numpy in this question.\n",
    "\n",
    "f[np.where(d<d_mean)] = 25\n",
    "f[np.where(d>d_mean)] = 75\n",
    "f[np.where(d==d_min)] = 0\n",
    "f[np.where(d==d_max)] = 100\n",
    "\n",
    "#17. Print d and f. Do you have your expected f?\n",
    "print(d)\n",
    "print(f)"
   ]
  },
  {
   "cell_type": "code",
   "execution_count": 38,
   "metadata": {},
   "outputs": [
    {
     "name": "stdout",
     "output_type": "stream",
     "text": [
      "[[['B' 'C' 'B' 'B' 'C']\n",
      "  ['B' 'C' 'C' 'B' 'C']\n",
      "  ['B' 'B' 'C' 'C' 'B']]\n",
      "\n",
      " [['C' 'C' 'C' 'B' 'E']\n",
      "  ['B' 'C' 'B' 'C' 'A']\n",
      "  ['B' 'C' 'B' 'C' 'B']]]\n"
     ]
    }
   ],
   "source": [
    "#18. Bonus question: instead of using numbers (i.e. 0, 25, 50, 75, and 100), how to use string values \n",
    "#(\"A\", \"B\", \"C\", \"D\", and \"E\") to label the array elements? You are expecting the result to be:\n",
    "#f = ','.join(f)\n",
    "f = np.empty((2,3,5), dtype=object)\n",
    "f[np.where(d<d_mean)] = \"B\"\n",
    "f[np.where(d>d_mean)] = \"C\"\n",
    "f[np.where(d==d_min)] = \"A\"\n",
    "f[np.where(d==d_max)] = \"E\"\n",
    "f[np.where(d==d_mean)] = \"D\"\n",
    "\n",
    "print(f)"
   ]
  },
  {
   "cell_type": "code",
   "execution_count": null,
   "metadata": {},
   "outputs": [],
   "source": [
    "#18. Bonus question: instead of using numbers (i.e. 0, 25, 50, 75, and 100), how to use string values \n",
    "#(\"A\", \"B\", \"C\", \"D\", and \"E\") to label the array elements? You are expecting the result to be:\n",
    "#array([[[ 'D',  'D',  'D',  'B',  'D'],\n",
    "        #[ 'D',  'D',  'B',  'B',  'B'],\n",
    "        #[ 'D',  'B',  'D',  'D',  'D']],\n",
    "\n",
    "       #[[ 'B',  'B',  'B',  'B',  'E'],\n",
    "        #[ 'D',  'D',  'D',  'D',  'D'],\n",
    "        #[ 'B',  'D',   'A',  'D', 'D']]])\n",
    "#Again, you don't need Numpy in this question."
   ]
  }
 ],
 "metadata": {
  "kernelspec": {
   "display_name": "Python 3",
   "language": "python",
   "name": "python3"
  },
  "language_info": {
   "codemirror_mode": {
    "name": "ipython",
    "version": 3
   },
   "file_extension": ".py",
   "mimetype": "text/x-python",
   "name": "python",
   "nbconvert_exporter": "python",
   "pygments_lexer": "ipython3",
   "version": "3.7.3"
  }
 },
 "nbformat": 4,
 "nbformat_minor": 2
}
