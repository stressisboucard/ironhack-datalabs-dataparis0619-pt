{
 "cells": [
  {
   "cell_type": "markdown",
   "metadata": {},
   "source": [
    "# Web Scraping Lab\n",
    "\n",
    "You will find in this notebook some scrapy exercises to practise your scraping skills.\n",
    "\n",
    "**Tips:**\n",
    "\n",
    "- Check the response status code for each request to ensure you have obtained the intended contennt.\n",
    "- Print the response text in each request to understand the kind of info you are getting and its format.\n",
    "- Check for patterns in the response text to extract the data/info requested in each question.\n",
    "- Visit each url and take a look at its source through Chrome DevTools. You'll need to identify the html tags, special class names etc. used for the html content you are expected to extract."
   ]
  },
  {
   "cell_type": "markdown",
   "metadata": {},
   "source": [
    "- [Requests library](http://docs.python-requests.org/en/master/#the-user-guide) documentation \n",
    "- [Beautiful Soup Doc](https://www.crummy.com/software/BeautifulSoup/bs4/doc/)\n",
    "- [Urllib](https://docs.python.org/3/library/urllib.html#module-urllib)\n",
    "- [re lib](https://docs.python.org/3/library/re.html)\n",
    "- [lxml lib](https://lxml.de/)\n",
    "- [Scrapy](https://scrapy.org/)\n",
    "- [List of HTTP status codes](https://en.wikipedia.org/wiki/List_of_HTTP_status_codes)\n",
    "- [HTML basics](http://www.simplehtmlguide.com/cheatsheet.php)\n",
    "- [CSS basics](https://www.cssbasics.com/#page_start)"
   ]
  },
  {
   "cell_type": "markdown",
   "metadata": {},
   "source": [
    "#### Below are the libraries and modules you may need. `requests`,  `BeautifulSoup` and `pandas` are imported for you. If you prefer to use additional libraries feel free to uncomment them."
   ]
  },
  {
   "cell_type": "code",
   "execution_count": 29,
   "metadata": {},
   "outputs": [],
   "source": [
    "import requests\n",
    "from bs4 import BeautifulSoup\n",
    "import pandas as pd\n",
    "# from pprint import pprint\n",
    "# from lxml import html\n",
    "# from lxml.html import fromstring\n",
    "# import urllib.request\n",
    "# from urllib.request import urlopen\n",
    "# import random\n",
    "import re\n",
    "# import scrapy"
   ]
  },
  {
   "cell_type": "markdown",
   "metadata": {},
   "source": [
    "#### Download, parse (using BeautifulSoup), and print the content from the Trending Developers page from GitHub:"
   ]
  },
  {
   "cell_type": "code",
   "execution_count": 30,
   "metadata": {},
   "outputs": [],
   "source": [
    "# This is the url you will scrape in this exercise\n",
    "url = 'https://github.com/trending/developers'\n",
    "html = requests.get('https://github.com/trending/developers').content\n"
   ]
  },
  {
   "cell_type": "code",
   "execution_count": 31,
   "metadata": {},
   "outputs": [
    {
     "data": {
      "text/plain": [
       "['Learn & contribute',\n",
       " 'Connect with others',\n",
       " 'Trending',\n",
       " '\\n      These are the\\n      developers\\n      building the hot tools today.\\n    ',\n",
       " 'Kenneth Reitz',\n",
       " '\\nkennethreitz\\n',\n",
       " '\\n\\n\\n\\n      requests\\n    \\n',\n",
       " 'Marco Pivetta',\n",
       " '\\nOcramius\\n',\n",
       " '\\n\\n\\n\\n      ProxyManager\\n    \\n',\n",
       " 'Frank Denis',\n",
       " '\\njedisct1\\n',\n",
       " '\\n\\n\\n\\n      libsodium\\n    \\n',\n",
       " 'Vadim Demedes',\n",
       " '\\nvadimdemedes\\n',\n",
       " '\\n\\n\\n\\n      ink\\n    \\n',\n",
       " 'Burak Yigit Kaya',\n",
       " '\\nBYK\\n',\n",
       " '\\n\\n\\n\\n      pyresto\\n    \\n',\n",
       " 'Norman Maurer',\n",
       " '\\nnormanmaurer\\n',\n",
       " '\\n\\n\\n\\n      netty-in-action\\n    \\n',\n",
       " 'Francois Zaninotto',\n",
       " '\\nfzaninotto\\n',\n",
       " '\\n\\n\\n\\n      Faker\\n    \\n',\n",
       " 'Manu MA',\n",
       " '\\nmanucorporat\\n',\n",
       " '\\n\\n\\n\\n      sse\\n    \\n',\n",
       " 'Michał Lytek',\n",
       " '\\n19majkel94\\n',\n",
       " '\\n\\n\\n\\n      type-graphql\\n    \\n',\n",
       " 'Federico Zivolo',\n",
       " '\\nFezVrasta\\n',\n",
       " '\\n\\n\\n\\n      bootstrap-material-design\\n    \\n',\n",
       " 'David Anthoff',\n",
       " '\\ndavidanthoff\\n',\n",
       " '\\n\\n\\n\\n      Electron.jl\\n    \\n',\n",
       " 'Alex Gaynor',\n",
       " '\\nalex\\n',\n",
       " '\\n\\n\\n\\n      what-happens-when\\n    \\n',\n",
       " 'Steven Kirk',\n",
       " '\\ngrokys\\n',\n",
       " '\\n\\n\\n\\n      Avalonia\\n    \\n',\n",
       " 'Mihai Maruseac',\n",
       " '\\nmihaimaruseac\\n',\n",
       " '\\n\\n\\n\\n      HsMaze\\n    \\n',\n",
       " 'Jason Quense',\n",
       " '\\njquense\\n',\n",
       " '\\n\\n\\n\\n      yup\\n    \\n',\n",
       " 'Brent Jackson',\n",
       " '\\njxnblk\\n',\n",
       " '\\n\\n\\n\\n      mdx-deck\\n    \\n',\n",
       " '吴晟 Wu Sheng',\n",
       " '\\nwu-sheng\\n',\n",
       " '\\n\\n\\n\\n      DataCarrier\\n    \\n',\n",
       " '子骅',\n",
       " '\\nluin\\n',\n",
       " '\\n\\n\\n\\n      medis\\n    \\n',\n",
       " 'Thomas Wolf',\n",
       " '\\nthomwolf\\n',\n",
       " '\\n\\n\\n\\n      Magic-Sand\\n    \\n',\n",
       " 'Uri Goldshtein',\n",
       " '\\nUrigo\\n',\n",
       " '\\n\\n\\n\\n      angular-meteor\\n    \\n',\n",
       " 'Ivan Popelyshev',\n",
       " '\\nivanpopelyshev\\n',\n",
       " '\\n\\n\\n\\n      bombermine-shuffle\\n    \\n',\n",
       " 'Vinta Chen',\n",
       " '\\nvinta\\n',\n",
       " '\\n\\n\\n\\n      awesome-python\\n    \\n',\n",
       " 'Pascal Vizeli',\n",
       " '\\npvizeli\\n',\n",
       " '\\n\\n\\n\\n      CmdParser\\n    \\n',\n",
       " 'Jens Segers',\n",
       " '\\njenssegers\\n',\n",
       " '\\n\\n\\n\\n      laravel-mongodb\\n    \\n',\n",
       " 'Vsevolod Tolstopyatov',\n",
       " '\\nqwwdfsad\\n',\n",
       " '\\n\\n\\n\\n      kotlinx-fs\\n    \\n',\n",
       " 'Product',\n",
       " 'Platform',\n",
       " 'Support',\n",
       " 'Company']"
      ]
     },
     "execution_count": 31,
     "metadata": {},
     "output_type": "execute_result"
    }
   ],
   "source": [
    "#your code\n",
    "soup = BeautifulSoup(html, \"lxml\")\n",
    "soup\n",
    "tags = ['h1', 'h2', 'h3', 'h4', 'h5', 'h6', 'h7', 'p']\n",
    "text = [element.text for element in soup.find_all(tags)]\n",
    "text\n"
   ]
  },
  {
   "cell_type": "markdown",
   "metadata": {},
   "source": [
    "#### Display the names of the trending developers retrieved in the previous step.\n",
    "\n",
    "Your output should be a Python list of developer names. Each name should not contain any html tag.\n",
    "\n",
    "**Instructions:**\n",
    "\n",
    "1. Find out the html tag and class names used for the developer names. You can achieve this using Chrome DevTools.\n",
    "\n",
    "1. Use BeautifulSoup to extract all the html elements that contain the developer names.\n",
    "\n",
    "1. Use string manipulation techniques to replace whitespaces and linebreaks (i.e. `\\n`) in the *text* of each html element. Use a list to store the clean names.\n",
    "\n",
    "1. Print the list of names.\n",
    "\n",
    "Your output should look like below:\n",
    "\n",
    "```\n",
    "['trimstray (@trimstray)',\n",
    " 'joewalnes (JoeWalnes)',\n",
    " 'charlax (Charles-AxelDein)',\n",
    " 'ForrestKnight (ForrestKnight)',\n",
    " 'revery-ui (revery-ui)',\n",
    " 'alibaba (Alibaba)',\n",
    " 'Microsoft (Microsoft)',\n",
    " 'github (GitHub)',\n",
    " 'facebook (Facebook)',\n",
    " 'boazsegev (Bo)',\n",
    " 'google (Google)',\n",
    " 'cloudfetch',\n",
    " 'sindresorhus (SindreSorhus)',\n",
    " 'tensorflow',\n",
    " 'apache (TheApacheSoftwareFoundation)',\n",
    " 'DevonCrawford (DevonCrawford)',\n",
    " 'ARMmbed (ArmMbed)',\n",
    " 'vuejs (vuejs)',\n",
    " 'fastai (fast.ai)',\n",
    " 'QiShaoXuan (Qi)',\n",
    " 'joelparkerhenderson (JoelParkerHenderson)',\n",
    " 'torvalds (LinusTorvalds)',\n",
    " 'CyC2018',\n",
    " 'komeiji-satori (神楽坂覚々)',\n",
    " 'script-8']\n",
    " ```"
   ]
  },
  {
   "cell_type": "code",
   "execution_count": 67,
   "metadata": {},
   "outputs": [
    {
     "data": {
      "text/plain": [
       "['Kenneth Reitz (kennethreitz)',\n",
       " 'Marco Pivetta (Ocramius)',\n",
       " 'Frank Denis (jedisct1)',\n",
       " 'Vadim Demedes (vadimdemedes)',\n",
       " 'Burak Yigit Kaya (BYK)',\n",
       " 'Norman Maurer (normanmaurer)',\n",
       " 'Francois Zaninotto (fzaninotto)',\n",
       " 'Manu MA (manucorporat)',\n",
       " 'Michał Lytek (19majkel94)',\n",
       " 'Federico Zivolo (FezVrasta)',\n",
       " 'David Anthoff (davidanthoff)',\n",
       " 'Alex Gaynor (alex)',\n",
       " 'Steven Kirk (grokys)',\n",
       " 'Mihai Maruseac (mihaimaruseac)',\n",
       " 'Jason Quense (jquense)',\n",
       " 'Brent Jackson (jxnblk)',\n",
       " '吴晟 Wu Sheng (wu-sheng)',\n",
       " '子骅 (luin)',\n",
       " 'Thomas Wolf (thomwolf)',\n",
       " 'Uri Goldshtein (Urigo)',\n",
       " 'Ivan Popelyshev (ivanpopelyshev)',\n",
       " 'Vinta Chen (vinta)',\n",
       " 'Pascal Vizeli (pvizeli)',\n",
       " 'Jens Segers (jenssegers)',\n",
       " 'Vsevolod Tolstopyatov (qwwdfsad)']"
      ]
     },
     "execution_count": 67,
     "metadata": {},
     "output_type": "execute_result"
    }
   ],
   "source": [
    "#your code\n",
    "liste = []\n",
    "soup = BeautifulSoup(html, \"lxml\")\n",
    "soup\n",
    "tags = ['h1']\n",
    "tags_1 = ['p']\n",
    "text = [element.find_all('a')[0].text.strip() for element in soup.find_all(tags, class_='h3 lh-condensed') if element.find_all('a') != []]\n",
    "text_1 = [element.find_all('a')[0].text.strip() for element in soup.find_all(tags_1, class_='f4 text-normal mb-1') if element.find_all('a') != []]\n",
    "\n",
    "result = [f'{t[0]} ({t[1]})' for t in zip(text,text_1)]\n",
    "result\n"
   ]
  },
  {
   "cell_type": "markdown",
   "metadata": {},
   "source": [
    "Display the trending Python repositories in GitHub\n",
    "The steps to solve this problem is similar to the previous one except that you need to find out the repository names instead of developer names."
   ]
  },
  {
   "cell_type": "code",
   "execution_count": 69,
   "metadata": {},
   "outputs": [],
   "source": [
    "# This is the url you will scrape in this exercise\n",
    "url = 'https://github.com/trending/python?since=daily'\n",
    "html = requests.get(url).content\n"
   ]
  },
  {
   "cell_type": "code",
   "execution_count": 73,
   "metadata": {},
   "outputs": [
    {
     "data": {
      "text/plain": [
       "['0voice/interview_internal_reference',\n",
       " 'zllrunning/video-object-removal',\n",
       " 'huggingface/pytorch-transformers',\n",
       " 'NVIDIA/DeepLearningExamples',\n",
       " 'vipstone/faceai',\n",
       " 'foolwood/SiamMask',\n",
       " 'home-assistant/home-assistant',\n",
       " 'microsoft/nni',\n",
       " 'wistbean/learn_python3_spider',\n",
       " 'Tencent/NeuralNLP-NeuralClassifier',\n",
       " 'openai/gym',\n",
       " 'cchen156/Learning-to-See-in-the-Dark',\n",
       " 'danaugrs/huskarl',\n",
       " 'vincent-thevenin/Realistic-Neural-Talking-Head-Models',\n",
       " 'PaddlePaddle/models',\n",
       " 'openatx/uiautomator2',\n",
       " 'thtrieu/darkflow',\n",
       " 'chinese-poetry/chinese-poetry',\n",
       " 'Azure/azure-sdk-for-python',\n",
       " 'idealo/image-super-resolution',\n",
       " 'awslabs/gluon-ts',\n",
       " 'Rayhane-mamah/Tacotron-2',\n",
       " 'gogcom/galaxy-integrations-python-api',\n",
       " 'sergiomsilva/alpr-unconstrained',\n",
       " 'mlflow/mlflow']"
      ]
     },
     "execution_count": 73,
     "metadata": {},
     "output_type": "execute_result"
    }
   ],
   "source": [
    "#your code\n",
    "lists = []\n",
    "soup = BeautifulSoup(html, \"lxml\")\n",
    "tags = ['h1']\n",
    "text = [element.find_all('a')[0].text.strip().replace(' ','') for element in soup.find_all(tags, class_='h3 lh-condensed') if element.find_all('a') != []]\n",
    "text"
   ]
  },
  {
   "cell_type": "markdown",
   "metadata": {},
   "source": [
    "#### Display all the image links from Walt Disney wikipedia page"
   ]
  },
  {
   "cell_type": "code",
   "execution_count": 74,
   "metadata": {},
   "outputs": [],
   "source": [
    "# This is the url you will scrape in this exercise\n",
    "url = 'https://en.wikipedia.org/wiki/Walt_Disney'\n",
    "html = requests.get(url).content"
   ]
  },
  {
   "cell_type": "code",
   "execution_count": 83,
   "metadata": {},
   "outputs": [
    {
     "data": {
      "text/plain": [
       "['//upload.wikimedia.org/wikipedia/en/thumb/e/e7/Cscr-featured.svg/20px-Cscr-featured.svg.png',\n",
       " '//upload.wikimedia.org/wikipedia/en/thumb/1/1b/Semi-protection-shackle.svg/20px-Semi-protection-shackle.svg.png',\n",
       " '//upload.wikimedia.org/wikipedia/commons/thumb/d/df/Walt_Disney_1946.JPG/220px-Walt_Disney_1946.JPG',\n",
       " '//upload.wikimedia.org/wikipedia/commons/thumb/8/87/Walt_Disney_1942_signature.svg/150px-Walt_Disney_1942_signature.svg.png',\n",
       " '//upload.wikimedia.org/wikipedia/commons/thumb/c/c4/Walt_Disney_envelope_ca._1921.jpg/220px-Walt_Disney_envelope_ca._1921.jpg',\n",
       " '//upload.wikimedia.org/wikipedia/commons/thumb/4/4d/Newman_Laugh-O-Gram_%281921%29.webm/220px-seek%3D2-Newman_Laugh-O-Gram_%281921%29.webm.jpg',\n",
       " '//upload.wikimedia.org/wikipedia/commons/thumb/0/0d/Trolley_Troubles_poster.jpg/170px-Trolley_Troubles_poster.jpg',\n",
       " '//upload.wikimedia.org/wikipedia/commons/thumb/7/71/Walt_Disney_and_his_cartoon_creation_%22Mickey_Mouse%22_-_National_Board_of_Review_Magazine.jpg/170px-Walt_Disney_and_his_cartoon_creation_%22Mickey_Mouse%22_-_National_Board_of_Review_Magazine.jpg',\n",
       " '//upload.wikimedia.org/wikipedia/en/thumb/4/4e/Steamboat-willie.jpg/170px-Steamboat-willie.jpg',\n",
       " '//upload.wikimedia.org/wikipedia/commons/thumb/5/57/Walt_Disney_1935.jpg/170px-Walt_Disney_1935.jpg',\n",
       " '//upload.wikimedia.org/wikipedia/commons/thumb/c/cd/Walt_Disney_Snow_white_1937_trailer_screenshot_%2813%29.jpg/220px-Walt_Disney_Snow_white_1937_trailer_screenshot_%2813%29.jpg',\n",
       " '//upload.wikimedia.org/wikipedia/commons/thumb/1/15/Disney_drawing_goofy.jpg/170px-Disney_drawing_goofy.jpg',\n",
       " '//upload.wikimedia.org/wikipedia/commons/thumb/1/13/DisneySchiphol1951.jpg/220px-DisneySchiphol1951.jpg',\n",
       " '//upload.wikimedia.org/wikipedia/commons/thumb/8/8c/WaltDisneyplansDisneylandDec1954.jpg/220px-WaltDisneyplansDisneylandDec1954.jpg',\n",
       " '//upload.wikimedia.org/wikipedia/commons/thumb/f/ff/Walt_disney_portrait_right.jpg/170px-Walt_disney_portrait_right.jpg',\n",
       " '//upload.wikimedia.org/wikipedia/commons/thumb/1/1a/Walt_Disney_Grave.JPG/170px-Walt_Disney_Grave.JPG',\n",
       " '//upload.wikimedia.org/wikipedia/commons/thumb/2/2d/Roy_O._Disney_with_Company_at_Press_Conference.jpg/170px-Roy_O._Disney_with_Company_at_Press_Conference.jpg',\n",
       " '//upload.wikimedia.org/wikipedia/commons/thumb/a/a9/Disney_Display_Case.JPG/170px-Disney_Display_Case.JPG',\n",
       " '//upload.wikimedia.org/wikipedia/commons/thumb/6/6c/Disney1968.jpg/170px-Disney1968.jpg',\n",
       " '//upload.wikimedia.org/wikipedia/en/thumb/8/8a/OOjs_UI_icon_edit-ltr-progressive.svg/10px-OOjs_UI_icon_edit-ltr-progressive.svg.png',\n",
       " '//upload.wikimedia.org/wikipedia/commons/thumb/d/da/Animation_disc.svg/30px-Animation_disc.svg.png',\n",
       " '//upload.wikimedia.org/wikipedia/en/thumb/6/69/P_vip.svg/29px-P_vip.svg.png',\n",
       " '//upload.wikimedia.org/wikipedia/commons/thumb/1/1a/Magic_Kingdom_castle.jpg/24px-Magic_Kingdom_castle.jpg',\n",
       " '//upload.wikimedia.org/wikipedia/en/thumb/e/e7/Video-x-generic.svg/30px-Video-x-generic.svg.png',\n",
       " '//upload.wikimedia.org/wikipedia/commons/thumb/a/a3/Flag_of_Los_Angeles_County%2C_California.svg/30px-Flag_of_Los_Angeles_County%2C_California.svg.png',\n",
       " '//upload.wikimedia.org/wikipedia/commons/thumb/a/a3/USA_flag_on_television.svg/30px-USA_flag_on_television.svg.png',\n",
       " '//upload.wikimedia.org/wikipedia/en/thumb/4/4a/Commons-logo.svg/22px-Commons-logo.svg.png',\n",
       " '//upload.wikimedia.org/wikipedia/commons/thumb/f/fa/Wikiquote-logo.svg/25px-Wikiquote-logo.svg.png',\n",
       " '//upload.wikimedia.org/wikipedia/commons/thumb/f/ff/Wikidata-logo.svg/30px-Wikidata-logo.svg.png',\n",
       " '//upload.wikimedia.org/wikipedia/en/thumb/8/8a/OOjs_UI_icon_edit-ltr-progressive.svg/10px-OOjs_UI_icon_edit-ltr-progressive.svg.png',\n",
       " '//en.wikipedia.org/wiki/Special:CentralAutoLogin/start?type=1x1',\n",
       " '/static/images/wikimedia-button.png',\n",
       " '/static/images/poweredby_mediawiki_88x31.png']"
      ]
     },
     "execution_count": 83,
     "metadata": {},
     "output_type": "execute_result"
    }
   ],
   "source": [
    "#your code\n",
    "lists = []\n",
    "soup = BeautifulSoup(html, \"lxml\")\n",
    "image = [img.get('src') for img in soup.find_all('img') ]\n",
    "image"
   ]
  },
  {
   "cell_type": "markdown",
   "metadata": {},
   "source": [
    "#### Retrieve an arbitary Wikipedia page of \"Python\" and create a list of links on that page"
   ]
  },
  {
   "cell_type": "code",
   "execution_count": 86,
   "metadata": {},
   "outputs": [
    {
     "data": {
      "text/plain": [
       "b'<!DOCTYPE html>\\n<html class=\"client-nojs\" lang=\"en\" dir=\"ltr\">\\n<head>\\n<meta charset=\"UTF-8\"/>\\n<title>Python - Wikipedia</title>\\n<script>document.documentElement.className=document.documentElement.className.replace(/(^|\\\\s)client-nojs(\\\\s|$)/,\"$1client-js$2\");RLCONF={\"wgCanonicalNamespace\":\"\",\"wgCanonicalSpecialPageName\":!1,\"wgNamespaceNumber\":0,\"wgPageName\":\"Python\",\"wgTitle\":\"Python\",\"wgCurRevisionId\":905477736,\"wgRevisionId\":905477736,\"wgArticleId\":46332325,\"wgIsArticle\":!0,\"wgIsRedirect\":!1,\"wgAction\":\"view\",\"wgUserName\":null,\"wgUserGroups\":[\"*\"],\"wgCategories\":[\"Disambiguation pages with short description\",\"All article disambiguation pages\",\"All disambiguation pages\",\"Animal common name disambiguation pages\",\"Disambiguation pages\"],\"wgBreakFrames\":!1,\"wgPageContentLanguage\":\"en\",\"wgPageContentModel\":\"wikitext\",\"wgSeparatorTransformTable\":[\"\",\"\"],\"wgDigitTransformTable\":[\"\",\"\"],\"wgDefaultDateFormat\":\"dmy\",\"wgMonthNames\":[\"\",\"January\",\"February\",\"March\",\"April\",\"May\",\"June\",\"July\",\"August\",\"September\",\"October\",\"November\",\"December\"],\"wgMonthNamesShort\":[\"\",\"Jan\",\"Feb\",\"Mar\",\"Apr\",\"May\",\"Jun\",\"Jul\",\"Aug\",\\n\"Sep\",\"Oct\",\"Nov\",\"Dec\"],\"wgRelevantPageName\":\"Python\",\"wgRelevantArticleId\":46332325,\"wgRequestId\":\"XSs80ApAMFMAADkrqSAAAAAX\",\"wgCSPNonce\":!1,\"wgIsProbablyEditable\":!0,\"wgRelevantPageIsProbablyEditable\":!0,\"wgRestrictionEdit\":[],\"wgRestrictionMove\":[],\"wgMediaViewerOnClick\":!0,\"wgMediaViewerEnabledByDefault\":!0,\"wgPopupsReferencePreviews\":!1,\"wgPopupsConflictsWithNavPopupGadget\":!1,\"wgVisualEditor\":{\"pageLanguageCode\":\"en\",\"pageLanguageDir\":\"ltr\",\"pageVariantFallbacks\":\"en\"},\"wgMFDisplayWikibaseDescriptions\":{\"search\":!0,\"nearby\":!0,\"watchlist\":!0,\"tagline\":!1},\"wgWMESchemaEditAttemptStepOversample\":!1,\"wgPoweredByHHVM\":!0,\"wgULSCurrentAutonym\":\"English\",\"wgNoticeProject\":\"wikipedia\",\"wgWikibaseItemId\":\"Q747452\",\"wgCentralAuthMobileDomain\":!1,\"wgEditSubmitButtonLabelPublish\":!0};RLSTATE={\"ext.gadget.charinsert-styles\":\"ready\",\"ext.globalCssJs.user.styles\":\"ready\",\"ext.globalCssJs.site.styles\":\"ready\",\"site.styles\":\"ready\",\"noscript\":\"ready\",\\n\"user.styles\":\"ready\",\"ext.globalCssJs.user\":\"ready\",\"ext.globalCssJs.site\":\"ready\",\"user\":\"ready\",\"user.options\":\"ready\",\"user.tokens\":\"loading\",\"mediawiki.legacy.shared\":\"ready\",\"mediawiki.legacy.commonPrint\":\"ready\",\"mediawiki.toc.styles\":\"ready\",\"wikibase.client.init\":\"ready\",\"ext.visualEditor.desktopArticleTarget.noscript\":\"ready\",\"ext.uls.interlanguage\":\"ready\",\"ext.wikimediaBadges\":\"ready\",\"ext.3d.styles\":\"ready\",\"mediawiki.skinning.interface\":\"ready\",\"skins.vector.styles\":\"ready\"};RLPAGEMODULES=[\"site\",\"mediawiki.page.startup\",\"mediawiki.page.ready\",\"mediawiki.toc\",\"mediawiki.searchSuggest\",\"ext.gadget.teahouse\",\"ext.gadget.ReferenceTooltips\",\"ext.gadget.watchlist-notice\",\"ext.gadget.DRN-wizard\",\"ext.gadget.charinsert\",\"ext.gadget.refToolbar\",\"ext.gadget.extra-toolbar-buttons\",\"ext.gadget.switcher\",\"ext.centralauth.centralautologin\",\"mmv.head\",\"mmv.bootstrap.autostart\",\"ext.popups\",\"ext.visualEditor.desktopArticleTarget.init\",\"ext.visualEditor.targetLoader\",\"ext.eventLogging\",\\n\"ext.wikimediaEvents\",\"ext.navigationTiming\",\"ext.uls.compactlinks\",\"ext.uls.interface\",\"ext.quicksurveys.init\",\"ext.centralNotice.geoIP\",\"ext.centralNotice.startUp\",\"skins.vector.js\"];</script>\\n<script>(RLQ=window.RLQ||[]).push(function(){mw.loader.implement(\"user.tokens@0tffind\",function($,jQuery,require,module){/*@nomin*/mw.user.tokens.set({\"editToken\":\"+\\\\\\\\\",\"patrolToken\":\"+\\\\\\\\\",\"watchToken\":\"+\\\\\\\\\",\"csrfToken\":\"+\\\\\\\\\"});\\n});});</script>\\n<link rel=\"stylesheet\" href=\"/w/load.php?lang=en&amp;modules=ext.3d.styles%7Cext.uls.interlanguage%7Cext.visualEditor.desktopArticleTarget.noscript%7Cext.wikimediaBadges%7Cmediawiki.legacy.commonPrint%2Cshared%7Cmediawiki.skinning.interface%7Cmediawiki.toc.styles%7Cskins.vector.styles%7Cwikibase.client.init&amp;only=styles&amp;skin=vector\"/>\\n<script async=\"\" src=\"/w/load.php?lang=en&amp;modules=startup&amp;only=scripts&amp;raw=1&amp;skin=vector\"></script>\\n<meta name=\"ResourceLoaderDynamicStyles\" content=\"\"/>\\n<link rel=\"stylesheet\" href=\"/w/load.php?lang=en&amp;modules=ext.gadget.charinsert-styles&amp;only=styles&amp;skin=vector\"/>\\n<link rel=\"stylesheet\" href=\"/w/load.php?lang=en&amp;modules=site.styles&amp;only=styles&amp;skin=vector\"/>\\n<meta name=\"generator\" content=\"MediaWiki 1.34.0-wmf.13\"/>\\n<meta name=\"referrer\" content=\"origin\"/>\\n<meta name=\"referrer\" content=\"origin-when-crossorigin\"/>\\n<meta name=\"referrer\" content=\"origin-when-cross-origin\"/>\\n<link rel=\"alternate\" href=\"android-app://org.wikipedia/http/en.m.wikipedia.org/wiki/Python\"/>\\n<link rel=\"alternate\" type=\"application/x-wiki\" title=\"Edit this page\" href=\"/w/index.php?title=Python&amp;action=edit\"/>\\n<link rel=\"edit\" title=\"Edit this page\" href=\"/w/index.php?title=Python&amp;action=edit\"/>\\n<link rel=\"apple-touch-icon\" href=\"/static/apple-touch/wikipedia.png\"/>\\n<link rel=\"shortcut icon\" href=\"/static/favicon/wikipedia.ico\"/>\\n<link rel=\"search\" type=\"application/opensearchdescription+xml\" href=\"/w/opensearch_desc.php\" title=\"Wikipedia (en)\"/>\\n<link rel=\"EditURI\" type=\"application/rsd+xml\" href=\"//en.wikipedia.org/w/api.php?action=rsd\"/>\\n<link rel=\"license\" href=\"//creativecommons.org/licenses/by-sa/3.0/\"/>\\n<link rel=\"canonical\" href=\"https://en.wikipedia.org/wiki/Python\"/>\\n<link rel=\"dns-prefetch\" href=\"//login.wikimedia.org\"/>\\n<link rel=\"dns-prefetch\" href=\"//meta.wikimedia.org\" />\\n<!--[if lt IE 9]><script src=\"/w/resources/lib/html5shiv/html5shiv.js\"></script><![endif]-->\\n</head>\\n<body class=\"mediawiki ltr sitedir-ltr mw-hide-empty-elt ns-0 ns-subject mw-editable page-Python rootpage-Python skin-vector action-view\">\\n<div id=\"mw-page-base\" class=\"noprint\"></div>\\n<div id=\"mw-head-base\" class=\"noprint\"></div>\\n<div id=\"content\" class=\"mw-body\" role=\"main\">\\n\\t<a id=\"top\"></a>\\n\\t<div id=\"siteNotice\" class=\"mw-body-content\"><!-- CentralNotice --></div>\\n\\t<div class=\"mw-indicators mw-body-content\">\\n</div>\\n\\n\\t<h1 id=\"firstHeading\" class=\"firstHeading\" lang=\"en\">Python</h1>\\n\\t\\n\\t<div id=\"bodyContent\" class=\"mw-body-content\">\\n\\t\\t<div id=\"siteSub\" class=\"noprint\">From Wikipedia, the free encyclopedia</div>\\n\\t\\t<div id=\"contentSub\"></div>\\n\\t\\t\\n\\t\\t\\n\\t\\t\\n\\t\\t<div id=\"jump-to-nav\"></div>\\n\\t\\t<a class=\"mw-jump-link\" href=\"#mw-head\">Jump to navigation</a>\\n\\t\\t<a class=\"mw-jump-link\" href=\"#p-search\">Jump to search</a>\\n\\t\\t<div id=\"mw-content-text\" lang=\"en\" dir=\"ltr\" class=\"mw-content-ltr\"><div class=\"mw-parser-output\"><table role=\"presentation\" class=\"mbox-small plainlinks sistersitebox\" style=\"background-color:#f9f9f9;border:1px solid #aaa;color:#000\">\\n<tbody><tr>\\n<td class=\"mbox-image\"><img alt=\"\" src=\"//upload.wikimedia.org/wikipedia/commons/thumb/9/99/Wiktionary-logo-en-v2.svg/40px-Wiktionary-logo-en-v2.svg.png\" decoding=\"async\" width=\"40\" height=\"40\" class=\"noviewer\" srcset=\"//upload.wikimedia.org/wikipedia/commons/thumb/9/99/Wiktionary-logo-en-v2.svg/60px-Wiktionary-logo-en-v2.svg.png 1.5x, //upload.wikimedia.org/wikipedia/commons/thumb/9/99/Wiktionary-logo-en-v2.svg/80px-Wiktionary-logo-en-v2.svg.png 2x\" data-file-width=\"512\" data-file-height=\"512\" /></td>\\n<td class=\"mbox-text plainlist\">Look up <i><b><a href=\"https://en.wiktionary.org/wiki/Python\" class=\"extiw\" title=\"wiktionary:Python\">Python</a></b></i>&#160;or <i><b><a href=\"https://en.wiktionary.org/wiki/python\" class=\"extiw\" title=\"wiktionary:python\">python</a></b></i> in Wiktionary, the free dictionary.</td></tr>\\n</tbody></table>\\n<p><b>Python</b> may refer to:\\n</p>\\n<style data-mw-deduplicate=\"TemplateStyles:r886049878\">.mw-parser-output .tocright{float:right;clear:right;width:auto;background:none;padding:.5em 0 .8em 1.4em;margin-bottom:.5em}.mw-parser-output .tocright-clear-left{clear:left}.mw-parser-output .tocright-clear-both{clear:both}.mw-parser-output .tocright-clear-none{clear:none}</style><div class=\"tocright\" style=\"\"><div id=\"toc\" class=\"toc\"><input type=\"checkbox\" role=\"button\" id=\"toctogglecheckbox\" class=\"toctogglecheckbox\" style=\"display:none\" /><div class=\"toctitle\" lang=\"en\" dir=\"ltr\"><h2>Contents</h2><span class=\"toctogglespan\"><label class=\"toctogglelabel\" for=\"toctogglecheckbox\"></label></span></div>\\n<ul>\\n<li class=\"toclevel-1 tocsection-1\"><a href=\"#Snakes\"><span class=\"tocnumber\">1</span> <span class=\"toctext\">Snakes</span></a></li>\\n<li class=\"toclevel-1 tocsection-2\"><a href=\"#Ancient_Greece\"><span class=\"tocnumber\">2</span> <span class=\"toctext\">Ancient Greece</span></a></li>\\n<li class=\"toclevel-1 tocsection-3\"><a href=\"#Media_and_entertainment\"><span class=\"tocnumber\">3</span> <span class=\"toctext\">Media and entertainment</span></a></li>\\n<li class=\"toclevel-1 tocsection-4\"><a href=\"#Computing\"><span class=\"tocnumber\">4</span> <span class=\"toctext\">Computing</span></a></li>\\n<li class=\"toclevel-1 tocsection-5\"><a href=\"#Engineering\"><span class=\"tocnumber\">5</span> <span class=\"toctext\">Engineering</span></a>\\n<ul>\\n<li class=\"toclevel-2 tocsection-6\"><a href=\"#Roller_coasters\"><span class=\"tocnumber\">5.1</span> <span class=\"toctext\">Roller coasters</span></a></li>\\n<li class=\"toclevel-2 tocsection-7\"><a href=\"#Vehicles\"><span class=\"tocnumber\">5.2</span> <span class=\"toctext\">Vehicles</span></a></li>\\n<li class=\"toclevel-2 tocsection-8\"><a href=\"#Weaponry\"><span class=\"tocnumber\">5.3</span> <span class=\"toctext\">Weaponry</span></a></li>\\n</ul>\\n</li>\\n<li class=\"toclevel-1 tocsection-9\"><a href=\"#People\"><span class=\"tocnumber\">6</span> <span class=\"toctext\">People</span></a></li>\\n<li class=\"toclevel-1 tocsection-10\"><a href=\"#Other_uses\"><span class=\"tocnumber\">7</span> <span class=\"toctext\">Other uses</span></a></li>\\n<li class=\"toclevel-1 tocsection-11\"><a href=\"#See_also\"><span class=\"tocnumber\">8</span> <span class=\"toctext\">See also</span></a></li>\\n</ul>\\n</div>\\n</div>\\n<h2><span class=\"mw-headline\" id=\"Snakes\">Snakes</span><span class=\"mw-editsection\"><span class=\"mw-editsection-bracket\">[</span><a href=\"/w/index.php?title=Python&amp;action=edit&amp;section=1\" title=\"Edit section: Snakes\">edit</a><span class=\"mw-editsection-bracket\">]</span></span></h2>\\n<ul><li><a href=\"/wiki/Pythonidae\" title=\"Pythonidae\">Pythonidae</a>, a family of nonvenomous snakes found in Africa, Asia, and Australia known as pythons\\n<ul><li><a href=\"/wiki/Python_(genus)\" title=\"Python (genus)\"><i>Python</i> (genus)</a>, of nonvenomous Pythonidae found in Africa and Asia</li></ul></li></ul>\\n<h2><span class=\"mw-headline\" id=\"Ancient_Greece\">Ancient Greece</span><span class=\"mw-editsection\"><span class=\"mw-editsection-bracket\">[</span><a href=\"/w/index.php?title=Python&amp;action=edit&amp;section=2\" title=\"Edit section: Ancient Greece\">edit</a><span class=\"mw-editsection-bracket\">]</span></span></h2>\\n<ul><li><a href=\"/wiki/Python_(mythology)\" title=\"Python (mythology)\">Python (mythology)</a>, a serpent, the earth-dragon of Delphi</li>\\n<li><a href=\"/wiki/Python_of_Aenus\" title=\"Python of Aenus\">Python of Aenus</a> (4th-century BCE), student of Plato</li>\\n<li><a href=\"/wiki/Python_(painter)\" title=\"Python (painter)\">Python (painter)</a>, (ca. 360-320 BCE) vase painter in Poseidonia</li>\\n<li><a href=\"/wiki/Python_of_Byzantium\" title=\"Python of Byzantium\">Python of Byzantium</a>, orator, diplomat of Philip II of Macedon</li>\\n<li><a href=\"/wiki/Python_of_Catana\" title=\"Python of Catana\">Python of Catana</a>, poet who accompanied Alexander the Great</li></ul>\\n<h2><span class=\"mw-headline\" id=\"Media_and_entertainment\">Media and entertainment</span><span class=\"mw-editsection\"><span class=\"mw-editsection-bracket\">[</span><a href=\"/w/index.php?title=Python&amp;action=edit&amp;section=3\" title=\"Edit section: Media and entertainment\">edit</a><span class=\"mw-editsection-bracket\">]</span></span></h2>\\n<ul><li><a href=\"/wiki/Python_(film)\" title=\"Python (film)\"><i>Python</i> (film)</a>, a 2000 horror film by Richard Clabaugh\\n<ul><li><i><a href=\"/wiki/Pythons_2\" title=\"Pythons 2\">Pythons 2</a></i>, or <i>Python II</i>, a 2002 sequel to <i>Python</i></li></ul></li>\\n<li>The Pythons, or <a href=\"/wiki/Monty_Python\" title=\"Monty Python\">Monty Python</a>, a British comedy group\\n<ul><li><a href=\"/wiki/Python_(Monty)_Pictures\" title=\"Python (Monty) Pictures\">Python (Monty) Pictures</a>, a company owned by the troupe\\'s surviving members</li></ul></li></ul>\\n<h2><span class=\"mw-headline\" id=\"Computing\">Computing</span><span class=\"mw-editsection\"><span class=\"mw-editsection-bracket\">[</span><a href=\"/w/index.php?title=Python&amp;action=edit&amp;section=4\" title=\"Edit section: Computing\">edit</a><span class=\"mw-editsection-bracket\">]</span></span></h2>\\n<ul><li><a href=\"/wiki/Python_(programming_language)\" title=\"Python (programming language)\">Python (programming language)</a>\\n<ul><li><a href=\"/wiki/CPython\" title=\"CPython\">CPython</a>, the reference implementation of the Python programming language</li></ul></li>\\n<li>Python, a native code compiler for <a href=\"/wiki/CMU_Common_Lisp\" title=\"CMU Common Lisp\">CMU Common Lisp</a></li>\\n<li>Python, the internal project name for the <a href=\"/wiki/PERQ#PERQ_3\" title=\"PERQ\">PERQ 3</a> computer workstation</li></ul>\\n<h2><span class=\"mw-headline\" id=\"Engineering\">Engineering</span><span class=\"mw-editsection\"><span class=\"mw-editsection-bracket\">[</span><a href=\"/w/index.php?title=Python&amp;action=edit&amp;section=5\" title=\"Edit section: Engineering\">edit</a><span class=\"mw-editsection-bracket\">]</span></span></h2>\\n<h3><span class=\"mw-headline\" id=\"Roller_coasters\">Roller coasters</span><span class=\"mw-editsection\"><span class=\"mw-editsection-bracket\">[</span><a href=\"/w/index.php?title=Python&amp;action=edit&amp;section=6\" title=\"Edit section: Roller coasters\">edit</a><span class=\"mw-editsection-bracket\">]</span></span></h3>\\n<ul><li><a href=\"/wiki/Python_(Busch_Gardens_Tampa_Bay)\" title=\"Python (Busch Gardens Tampa Bay)\">Python (Busch Gardens Tampa Bay)</a>, a defunct roller coaster at Busch Gardens Africa</li>\\n<li><a href=\"/wiki/Python_(Coney_Island,_Cincinnati,_Ohio)\" title=\"Python (Coney Island, Cincinnati, Ohio)\">Python (Coney Island, Cincinnati, Ohio)</a>, a D.P.V. Rides designed Zyklon-style steel roller coaster that operated from 1996 to 1999 at Splash Zone Water Park but was relocated to Coney Island at the end of the 1999 season</li>\\n<li><a href=\"/wiki/Python_(Efteling)\" title=\"Python (Efteling)\">Python (Efteling)</a>, a roller coaster in Efteling, the Netherlands</li></ul>\\n<h3><span class=\"mw-headline\" id=\"Vehicles\">Vehicles</span><span class=\"mw-editsection\"><span class=\"mw-editsection-bracket\">[</span><a href=\"/w/index.php?title=Python&amp;action=edit&amp;section=7\" title=\"Edit section: Vehicles\">edit</a><span class=\"mw-editsection-bracket\">]</span></span></h3>\\n<ul><li><a href=\"/wiki/Python_(automobile_maker)\" title=\"Python (automobile maker)\">Python (automobile maker)</a>, an Australian car company</li>\\n<li><a href=\"/wiki/Python_(Ford_prototype)\" title=\"Python (Ford prototype)\">Python (Ford prototype)</a>, a Ford prototype sports car</li></ul>\\n<h3><span class=\"mw-headline\" id=\"Weaponry\">Weaponry</span><span class=\"mw-editsection\"><span class=\"mw-editsection-bracket\">[</span><a href=\"/w/index.php?title=Python&amp;action=edit&amp;section=8\" title=\"Edit section: Weaponry\">edit</a><span class=\"mw-editsection-bracket\">]</span></span></h3>\\n<ul><li><a href=\"/wiki/Colt_Python\" title=\"Colt Python\">Colt Python</a>, a revolver</li>\\n<li><a href=\"/wiki/Python_(missile)\" title=\"Python (missile)\">Python (missile)</a>, a series of Israeli air-to-air missiles</li>\\n<li><a href=\"/wiki/Python_(nuclear_primary)\" title=\"Python (nuclear primary)\">Python (nuclear primary)</a>, a gas-boosted fission primary used in thermonuclear weapons</li></ul>\\n<h2><span class=\"mw-headline\" id=\"People\">People</span><span class=\"mw-editsection\"><span class=\"mw-editsection-bracket\">[</span><a href=\"/w/index.php?title=Python&amp;action=edit&amp;section=9\" title=\"Edit section: People\">edit</a><span class=\"mw-editsection-bracket\">]</span></span></h2>\\n<ul><li><a href=\"/wiki/Python_Anghelo\" title=\"Python Anghelo\">Python Anghelo</a> (1954\\xe2\\x80\\x932014) Romanian graphic artist</li></ul>\\n<h2><span class=\"mw-headline\" id=\"Other_uses\">Other uses</span><span class=\"mw-editsection\"><span class=\"mw-editsection-bracket\">[</span><a href=\"/w/index.php?title=Python&amp;action=edit&amp;section=10\" title=\"Edit section: Other uses\">edit</a><span class=\"mw-editsection-bracket\">]</span></span></h2>\\n<ul><li><a href=\"/wiki/PYTHON\" title=\"PYTHON\">PYTHON</a>, British nuclear war contingency plan</li></ul>\\n<h2><span class=\"mw-headline\" id=\"See_also\">See also</span><span class=\"mw-editsection\"><span class=\"mw-editsection-bracket\">[</span><a href=\"/w/index.php?title=Python&amp;action=edit&amp;section=11\" title=\"Edit section: See also\">edit</a><span class=\"mw-editsection-bracket\">]</span></span></h2>\\n<ul><li><a href=\"/wiki/Cython\" title=\"Cython\">Cython</a>, a programming language superset of Python with a foreign function interface for invoking C/C++ routines</li>\\n<li><i><a href=\"/wiki/Pyton\" title=\"Pyton\">Pyton</a></i>, a Norwegian adult humour magazine</li></ul>\\n<style data-mw-deduplicate=\"TemplateStyles:r889293728\">.mw-parser-output table.dmbox{clear:both;margin:0.9em 1em;border-top:1px solid #ccc;border-bottom:1px solid #ccc;background-color:transparent}</style>\\n<table id=\"disambigbox\" class=\"metadata plainlinks dmbox dmbox-disambig\" style=\"\" role=\"presentation\">\\n<tbody><tr>\\n<td class=\"mbox-image\" style=\"padding: 2px 0 2px 0.4em;\"> <a href=\"/wiki/File:Disambig_gray.svg\" class=\"image\"><img alt=\"Disambiguation icon\" src=\"//upload.wikimedia.org/wikipedia/en/thumb/5/5f/Disambig_gray.svg/30px-Disambig_gray.svg.png\" decoding=\"async\" width=\"30\" height=\"23\" srcset=\"//upload.wikimedia.org/wikipedia/en/thumb/5/5f/Disambig_gray.svg/45px-Disambig_gray.svg.png 1.5x, //upload.wikimedia.org/wikipedia/en/thumb/5/5f/Disambig_gray.svg/60px-Disambig_gray.svg.png 2x\" data-file-width=\"220\" data-file-height=\"168\" /></a></td>\\n<td class=\"mbox-text\" style=\"padding: 0.25em 0.4em; font-style: italic;\"> <div class=\"shortdescription nomobile noexcerpt noprint searchaux\" style=\"display:none\">Disambiguation page providing links to topics that could be referred to by the same search term</div>This <a href=\"/wiki/Help:Disambiguation\" title=\"Help:Disambiguation\">disambiguation</a> page lists  articles associated with the title <b>Python</b>. <br /> <small>If an <a class=\"external text\" href=\"//en.wikipedia.org/w/index.php?title=Special:WhatLinksHere/Python&amp;namespace=0\">internal link</a> led you here, you may wish to change the link to point directly to the intended article.</small> </td>\\n</tr>\\n</tbody></table>\\n<!-- \\nNewPP limit report\\nParsed by mw1290\\nCached time: 20190709103553\\nCache expiry: 2592000\\nDynamic content: false\\nComplications: []\\nCPU time usage: 0.124 seconds\\nReal time usage: 0.176 seconds\\nPreprocessor visited node count: 1333/1000000\\nPreprocessor generated node count: 0/1500000\\nPost\\xe2\\x80\\x90expand include size: 5727/2097152 bytes\\nTemplate argument size: 1207/2097152 bytes\\nHighest expansion depth: 16/40\\nExpensive parser function count: 1/500\\nUnstrip recursion depth: 0/20\\nUnstrip post\\xe2\\x80\\x90expand size: 626/5000000 bytes\\nNumber of Wikibase entities loaded: 0/400\\nLua time usage: 0.019/10.000 seconds\\nLua memory usage: 973 KB/50 MB\\n-->\\n<!--\\nTransclusion expansion time report (%,ms,calls,template)\\n100.00%  128.965      1 -total\\n 64.59%   83.295      1 Template:Disambiguation\\n 47.51%   61.268      1 Template:Dmbox\\n 24.75%   31.913      1 Template:Wiktionary\\n 21.62%   27.878      1 Template:Sister_project\\n 19.78%   25.515      1 Template:Category_handler\\n 19.09%   24.623      1 Template:Side_box\\n 12.63%   16.290      2 Template:Title_disambig_text\\n 10.86%   14.006      1 Template:Main_other\\n 10.41%   13.423      1 Template:TOC_right\\n-->\\n\\n<!-- Saved in parser cache with key enwiki:pcache:idhash:46332325-0!canonical and timestamp 20190709103553 and revision id 905477736\\n -->\\n</div><noscript><img src=\"//en.wikipedia.org/wiki/Special:CentralAutoLogin/start?type=1x1\" alt=\"\" title=\"\" width=\"1\" height=\"1\" style=\"border: none; position: absolute;\" /></noscript></div>\\n\\t\\t\\n\\t\\t<div class=\"printfooter\">Retrieved from \"<a dir=\"ltr\" href=\"https://en.wikipedia.org/w/index.php?title=Python&amp;oldid=905477736\">https://en.wikipedia.org/w/index.php?title=Python&amp;oldid=905477736</a>\"</div>\\n\\t\\t\\n\\t\\t<div id=\"catlinks\" class=\"catlinks\" data-mw=\"interface\"><div id=\"mw-normal-catlinks\" class=\"mw-normal-catlinks\"><a href=\"/wiki/Help:Category\" title=\"Help:Category\">Categories</a>: <ul><li><a href=\"/wiki/Category:Disambiguation_pages\" title=\"Category:Disambiguation pages\">Disambiguation pages</a></li></ul></div><div id=\"mw-hidden-catlinks\" class=\"mw-hidden-catlinks mw-hidden-cats-hidden\">Hidden categories: <ul><li><a href=\"/wiki/Category:Disambiguation_pages_with_short_description\" title=\"Category:Disambiguation pages with short description\">Disambiguation pages with short description</a></li><li><a href=\"/wiki/Category:All_article_disambiguation_pages\" title=\"Category:All article disambiguation pages\">All article disambiguation pages</a></li><li><a href=\"/wiki/Category:All_disambiguation_pages\" title=\"Category:All disambiguation pages\">All disambiguation pages</a></li><li><a href=\"/wiki/Category:Animal_common_name_disambiguation_pages\" title=\"Category:Animal common name disambiguation pages\">Animal common name disambiguation pages</a></li></ul></div></div>\\n\\t\\t<div class=\"visualClear\"></div>\\n\\t\\t\\n\\t</div>\\n</div>\\n\\n\\n\\t\\t<div id=\"mw-navigation\">\\n\\t\\t\\t<h2>Navigation menu</h2>\\n\\t\\t\\t<div id=\"mw-head\">\\n\\t\\t\\t\\t\\t\\t\\t\\t\\t<div id=\"p-personal\" role=\"navigation\" aria-labelledby=\"p-personal-label\">\\n\\t\\t\\t\\t\\t\\t<h3 id=\"p-personal-label\">Personal tools</h3>\\n\\t\\t\\t\\t\\t\\t<ul>\\n\\t\\t\\t\\t\\t\\t\\t<li id=\"pt-anonuserpage\">Not logged in</li><li id=\"pt-anontalk\"><a href=\"/wiki/Special:MyTalk\" title=\"Discussion about edits from this IP address [n]\" accesskey=\"n\">Talk</a></li><li id=\"pt-anoncontribs\"><a href=\"/wiki/Special:MyContributions\" title=\"A list of edits made from this IP address [y]\" accesskey=\"y\">Contributions</a></li><li id=\"pt-createaccount\"><a href=\"/w/index.php?title=Special:CreateAccount&amp;returnto=Python\" title=\"You are encouraged to create an account and log in; however, it is not mandatory\">Create account</a></li><li id=\"pt-login\"><a href=\"/w/index.php?title=Special:UserLogin&amp;returnto=Python\" title=\"You&#039;re encouraged to log in; however, it&#039;s not mandatory. [o]\" accesskey=\"o\">Log in</a></li>\\t\\t\\t\\t\\t\\t</ul>\\n\\t\\t\\t\\t\\t</div>\\n\\t\\t\\t\\t\\t\\t\\t\\t\\t<div id=\"left-navigation\">\\n\\t\\t\\t\\t\\t\\t\\t\\t\\t\\t<div id=\"p-namespaces\" role=\"navigation\" class=\"vectorTabs\" aria-labelledby=\"p-namespaces-label\">\\n\\t\\t\\t\\t\\t\\t<h3 id=\"p-namespaces-label\">Namespaces</h3>\\n\\t\\t\\t\\t\\t\\t<ul>\\n\\t\\t\\t\\t\\t\\t\\t<li id=\"ca-nstab-main\" class=\"selected\"><span><a href=\"/wiki/Python\" title=\"View the content page [c]\" accesskey=\"c\">Article</a></span></li><li id=\"ca-talk\"><span><a href=\"/wiki/Talk:Python\" rel=\"discussion\" title=\"Discussion about the content page [t]\" accesskey=\"t\">Talk</a></span></li>\\t\\t\\t\\t\\t\\t</ul>\\n\\t\\t\\t\\t\\t</div>\\n\\t\\t\\t\\t\\t\\t\\t\\t\\t\\t<div id=\"p-variants\" role=\"navigation\" class=\"vectorMenu emptyPortlet\" aria-labelledby=\"p-variants-label\">\\n\\t\\t\\t\\t\\t\\t\\t\\t\\t\\t\\t\\t<input type=\"checkbox\" class=\"vectorMenuCheckbox\" aria-labelledby=\"p-variants-label\" />\\n\\t\\t\\t\\t\\t\\t<h3 id=\"p-variants-label\">\\n\\t\\t\\t\\t\\t\\t\\t<span>Variants</span>\\n\\t\\t\\t\\t\\t\\t</h3>\\n\\t\\t\\t\\t\\t\\t<ul class=\"menu\">\\n\\t\\t\\t\\t\\t\\t\\t\\t\\t\\t\\t\\t\\t</ul>\\n\\t\\t\\t\\t\\t</div>\\n\\t\\t\\t\\t\\t\\t\\t\\t\\t</div>\\n\\t\\t\\t\\t<div id=\"right-navigation\">\\n\\t\\t\\t\\t\\t\\t\\t\\t\\t\\t<div id=\"p-views\" role=\"navigation\" class=\"vectorTabs\" aria-labelledby=\"p-views-label\">\\n\\t\\t\\t\\t\\t\\t<h3 id=\"p-views-label\">Views</h3>\\n\\t\\t\\t\\t\\t\\t<ul>\\n\\t\\t\\t\\t\\t\\t\\t<li id=\"ca-view\" class=\"collapsible selected\"><span><a href=\"/wiki/Python\">Read</a></span></li><li id=\"ca-edit\" class=\"collapsible\"><span><a href=\"/w/index.php?title=Python&amp;action=edit\" title=\"Edit this page [e]\" accesskey=\"e\">Edit</a></span></li><li id=\"ca-history\" class=\"collapsible\"><span><a href=\"/w/index.php?title=Python&amp;action=history\" title=\"Past revisions of this page [h]\" accesskey=\"h\">View history</a></span></li>\\t\\t\\t\\t\\t\\t</ul>\\n\\t\\t\\t\\t\\t</div>\\n\\t\\t\\t\\t\\t\\t\\t\\t\\t\\t<div id=\"p-cactions\" role=\"navigation\" class=\"vectorMenu emptyPortlet\" aria-labelledby=\"p-cactions-label\">\\n\\t\\t\\t\\t\\t\\t<input type=\"checkbox\" class=\"vectorMenuCheckbox\" aria-labelledby=\"p-cactions-label\" />\\n\\t\\t\\t\\t\\t\\t<h3 id=\"p-cactions-label\"><span>More</span></h3>\\n\\t\\t\\t\\t\\t\\t<ul class=\"menu\">\\n\\t\\t\\t\\t\\t\\t\\t\\t\\t\\t\\t\\t\\t</ul>\\n\\t\\t\\t\\t\\t</div>\\n\\t\\t\\t\\t\\t\\t\\t\\t\\t\\t<div id=\"p-search\" role=\"search\">\\n\\t\\t\\t\\t\\t\\t<h3>\\n\\t\\t\\t\\t\\t\\t\\t<label for=\"searchInput\">Search</label>\\n\\t\\t\\t\\t\\t\\t</h3>\\n\\t\\t\\t\\t\\t\\t<form action=\"/w/index.php\" id=\"searchform\">\\n\\t\\t\\t\\t\\t\\t\\t<div id=\"simpleSearch\">\\n\\t\\t\\t\\t\\t\\t\\t\\t<input type=\"search\" name=\"search\" placeholder=\"Search Wikipedia\" title=\"Search Wikipedia [f]\" accesskey=\"f\" id=\"searchInput\"/><input type=\"hidden\" value=\"Special:Search\" name=\"title\"/><input type=\"submit\" name=\"fulltext\" value=\"Search\" title=\"Search Wikipedia for this text\" id=\"mw-searchButton\" class=\"searchButton mw-fallbackSearchButton\"/><input type=\"submit\" name=\"go\" value=\"Go\" title=\"Go to a page with this exact name if it exists\" id=\"searchButton\" class=\"searchButton\"/>\\t\\t\\t\\t\\t\\t\\t</div>\\n\\t\\t\\t\\t\\t\\t</form>\\n\\t\\t\\t\\t\\t</div>\\n\\t\\t\\t\\t\\t\\t\\t\\t\\t</div>\\n\\t\\t\\t</div>\\n\\t\\t\\t<div id=\"mw-panel\">\\n\\t\\t\\t\\t<div id=\"p-logo\" role=\"banner\"><a class=\"mw-wiki-logo\" href=\"/wiki/Main_Page\" title=\"Visit the main page\"></a></div>\\n\\t\\t\\t\\t\\t\\t<div class=\"portal\" role=\"navigation\" id=\"p-navigation\" aria-labelledby=\"p-navigation-label\">\\n\\t\\t\\t<h3 id=\"p-navigation-label\">Navigation</h3>\\n\\t\\t\\t<div class=\"body\">\\n\\t\\t\\t\\t\\t\\t\\t\\t<ul>\\n\\t\\t\\t\\t\\t<li id=\"n-mainpage-description\"><a href=\"/wiki/Main_Page\" title=\"Visit the main page [z]\" accesskey=\"z\">Main page</a></li><li id=\"n-contents\"><a href=\"/wiki/Portal:Contents\" title=\"Guides to browsing Wikipedia\">Contents</a></li><li id=\"n-featuredcontent\"><a href=\"/wiki/Portal:Featured_content\" title=\"Featured content \\xe2\\x80\\x93 the best of Wikipedia\">Featured content</a></li><li id=\"n-currentevents\"><a href=\"/wiki/Portal:Current_events\" title=\"Find background information on current events\">Current events</a></li><li id=\"n-randompage\"><a href=\"/wiki/Special:Random\" title=\"Load a random article [x]\" accesskey=\"x\">Random article</a></li><li id=\"n-sitesupport\"><a href=\"https://donate.wikimedia.org/wiki/Special:FundraiserRedirector?utm_source=donate&amp;utm_medium=sidebar&amp;utm_campaign=C13_en.wikipedia.org&amp;uselang=en\" title=\"Support us\">Donate to Wikipedia</a></li><li id=\"n-shoplink\"><a href=\"//shop.wikimedia.org\" title=\"Visit the Wikipedia store\">Wikipedia store</a></li>\\t\\t\\t\\t</ul>\\n\\t\\t\\t\\t\\t\\t\\t</div>\\n\\t\\t</div>\\n\\t\\t\\t<div class=\"portal\" role=\"navigation\" id=\"p-interaction\" aria-labelledby=\"p-interaction-label\">\\n\\t\\t\\t<h3 id=\"p-interaction-label\">Interaction</h3>\\n\\t\\t\\t<div class=\"body\">\\n\\t\\t\\t\\t\\t\\t\\t\\t<ul>\\n\\t\\t\\t\\t\\t<li id=\"n-help\"><a href=\"/wiki/Help:Contents\" title=\"Guidance on how to use and edit Wikipedia\">Help</a></li><li id=\"n-aboutsite\"><a href=\"/wiki/Wikipedia:About\" title=\"Find out about Wikipedia\">About Wikipedia</a></li><li id=\"n-portal\"><a href=\"/wiki/Wikipedia:Community_portal\" title=\"About the project, what you can do, where to find things\">Community portal</a></li><li id=\"n-recentchanges\"><a href=\"/wiki/Special:RecentChanges\" title=\"A list of recent changes in the wiki [r]\" accesskey=\"r\">Recent changes</a></li><li id=\"n-contactpage\"><a href=\"//en.wikipedia.org/wiki/Wikipedia:Contact_us\" title=\"How to contact Wikipedia\">Contact page</a></li>\\t\\t\\t\\t</ul>\\n\\t\\t\\t\\t\\t\\t\\t</div>\\n\\t\\t</div>\\n\\t\\t\\t<div class=\"portal\" role=\"navigation\" id=\"p-tb\" aria-labelledby=\"p-tb-label\">\\n\\t\\t\\t<h3 id=\"p-tb-label\">Tools</h3>\\n\\t\\t\\t<div class=\"body\">\\n\\t\\t\\t\\t\\t\\t\\t\\t<ul>\\n\\t\\t\\t\\t\\t<li id=\"t-whatlinkshere\"><a href=\"/wiki/Special:WhatLinksHere/Python\" title=\"List of all English Wikipedia pages containing links to this page [j]\" accesskey=\"j\">What links here</a></li><li id=\"t-recentchangeslinked\"><a href=\"/wiki/Special:RecentChangesLinked/Python\" rel=\"nofollow\" title=\"Recent changes in pages linked from this page [k]\" accesskey=\"k\">Related changes</a></li><li id=\"t-upload\"><a href=\"/wiki/Wikipedia:File_Upload_Wizard\" title=\"Upload files [u]\" accesskey=\"u\">Upload file</a></li><li id=\"t-specialpages\"><a href=\"/wiki/Special:SpecialPages\" title=\"A list of all special pages [q]\" accesskey=\"q\">Special pages</a></li><li id=\"t-permalink\"><a href=\"/w/index.php?title=Python&amp;oldid=905477736\" title=\"Permanent link to this revision of the page\">Permanent link</a></li><li id=\"t-info\"><a href=\"/w/index.php?title=Python&amp;action=info\" title=\"More information about this page\">Page information</a></li><li id=\"t-wikibase\"><a href=\"https://www.wikidata.org/wiki/Special:EntityPage/Q747452\" title=\"Link to connected data repository item [g]\" accesskey=\"g\">Wikidata item</a></li><li id=\"t-cite\"><a href=\"/w/index.php?title=Special:CiteThisPage&amp;page=Python&amp;id=905477736\" title=\"Information on how to cite this page\">Cite this page</a></li>\\t\\t\\t\\t</ul>\\n\\t\\t\\t\\t\\t\\t\\t</div>\\n\\t\\t</div>\\n\\t\\t\\t<div class=\"portal\" role=\"navigation\" id=\"p-wikibase-otherprojects\" aria-labelledby=\"p-wikibase-otherprojects-label\">\\n\\t\\t\\t<h3 id=\"p-wikibase-otherprojects-label\">In other projects</h3>\\n\\t\\t\\t<div class=\"body\">\\n\\t\\t\\t\\t\\t\\t\\t\\t<ul>\\n\\t\\t\\t\\t\\t<li class=\"wb-otherproject-link wb-otherproject-commons\"><a href=\"https://commons.wikimedia.org/wiki/Category:Python\" hreflang=\"en\">Wikimedia Commons</a></li>\\t\\t\\t\\t</ul>\\n\\t\\t\\t\\t\\t\\t\\t</div>\\n\\t\\t</div>\\n\\t\\t\\t<div class=\"portal\" role=\"navigation\" id=\"p-coll-print_export\" aria-labelledby=\"p-coll-print_export-label\">\\n\\t\\t\\t<h3 id=\"p-coll-print_export-label\">Print/export</h3>\\n\\t\\t\\t<div class=\"body\">\\n\\t\\t\\t\\t\\t\\t\\t\\t<ul>\\n\\t\\t\\t\\t\\t<li id=\"coll-create_a_book\"><a href=\"/w/index.php?title=Special:Book&amp;bookcmd=book_creator&amp;referer=Python\">Create a book</a></li><li id=\"coll-download-as-rl\"><a href=\"/w/index.php?title=Special:ElectronPdf&amp;page=Python&amp;action=show-download-screen\">Download as PDF</a></li><li id=\"t-print\"><a href=\"/w/index.php?title=Python&amp;printable=yes\" title=\"Printable version of this page [p]\" accesskey=\"p\">Printable version</a></li>\\t\\t\\t\\t</ul>\\n\\t\\t\\t\\t\\t\\t\\t</div>\\n\\t\\t</div>\\n\\t\\t\\t<div class=\"portal\" role=\"navigation\" id=\"p-lang\" aria-labelledby=\"p-lang-label\">\\n\\t\\t\\t<h3 id=\"p-lang-label\">Languages</h3>\\n\\t\\t\\t<div class=\"body\">\\n\\t\\t\\t\\t\\t\\t\\t\\t<ul>\\n\\t\\t\\t\\t\\t<li class=\"interlanguage-link interwiki-af\"><a href=\"https://af.wikipedia.org/wiki/Python\" title=\"Python \\xe2\\x80\\x93 Afrikaans\" lang=\"af\" hreflang=\"af\" class=\"interlanguage-link-target\">Afrikaans</a></li><li class=\"interlanguage-link interwiki-als\"><a href=\"https://als.wikipedia.org/wiki/Python\" title=\"Python \\xe2\\x80\\x93 Alemannisch\" lang=\"gsw\" hreflang=\"gsw\" class=\"interlanguage-link-target\">Alemannisch</a></li><li class=\"interlanguage-link interwiki-az\"><a href=\"https://az.wikipedia.org/wiki/Python\" title=\"Python \\xe2\\x80\\x93 Azerbaijani\" lang=\"az\" hreflang=\"az\" class=\"interlanguage-link-target\">Az\\xc9\\x99rbaycanca</a></li><li class=\"interlanguage-link interwiki-bn\"><a href=\"https://bn.wikipedia.org/wiki/%E0%A6%AA%E0%A6%BE%E0%A6%87%E0%A6%A5%E0%A6%A8_(%E0%A6%A6%E0%A7%8D%E0%A6%AC%E0%A7%8D%E0%A6%AF%E0%A6%B0%E0%A7%8D%E0%A6%A5%E0%A6%A4%E0%A6%BE_%E0%A6%A8%E0%A6%BF%E0%A6%B0%E0%A6%B8%E0%A6%A8)\" title=\"\\xe0\\xa6\\xaa\\xe0\\xa6\\xbe\\xe0\\xa6\\x87\\xe0\\xa6\\xa5\\xe0\\xa6\\xa8 (\\xe0\\xa6\\xa6\\xe0\\xa7\\x8d\\xe0\\xa6\\xac\\xe0\\xa7\\x8d\\xe0\\xa6\\xaf\\xe0\\xa6\\xb0\\xe0\\xa7\\x8d\\xe0\\xa6\\xa5\\xe0\\xa6\\xa4\\xe0\\xa6\\xbe \\xe0\\xa6\\xa8\\xe0\\xa6\\xbf\\xe0\\xa6\\xb0\\xe0\\xa6\\xb8\\xe0\\xa6\\xa8) \\xe2\\x80\\x93 Bangla\" lang=\"bn\" hreflang=\"bn\" class=\"interlanguage-link-target\">\\xe0\\xa6\\xac\\xe0\\xa6\\xbe\\xe0\\xa6\\x82\\xe0\\xa6\\xb2\\xe0\\xa6\\xbe</a></li><li class=\"interlanguage-link interwiki-be\"><a href=\"https://be.wikipedia.org/wiki/Python\" title=\"Python \\xe2\\x80\\x93 Belarusian\" lang=\"be\" hreflang=\"be\" class=\"interlanguage-link-target\">\\xd0\\x91\\xd0\\xb5\\xd0\\xbb\\xd0\\xb0\\xd1\\x80\\xd1\\x83\\xd1\\x81\\xd0\\xba\\xd0\\xb0\\xd1\\x8f</a></li><li class=\"interlanguage-link interwiki-bg\"><a href=\"https://bg.wikipedia.org/wiki/%D0%9F%D0%B8%D1%82%D0%BE%D0%BD_(%D0%BF%D0%BE%D1%8F%D1%81%D0%BD%D0%B5%D0%BD%D0%B8%D0%B5)\" title=\"\\xd0\\x9f\\xd0\\xb8\\xd1\\x82\\xd0\\xbe\\xd0\\xbd (\\xd0\\xbf\\xd0\\xbe\\xd1\\x8f\\xd1\\x81\\xd0\\xbd\\xd0\\xb5\\xd0\\xbd\\xd0\\xb8\\xd0\\xb5) \\xe2\\x80\\x93 Bulgarian\" lang=\"bg\" hreflang=\"bg\" class=\"interlanguage-link-target\">\\xd0\\x91\\xd1\\x8a\\xd0\\xbb\\xd0\\xb3\\xd0\\xb0\\xd1\\x80\\xd1\\x81\\xd0\\xba\\xd0\\xb8</a></li><li class=\"interlanguage-link interwiki-cs\"><a href=\"https://cs.wikipedia.org/wiki/Python_(rozcestn%C3%ADk)\" title=\"Python (rozcestn\\xc3\\xadk) \\xe2\\x80\\x93 Czech\" lang=\"cs\" hreflang=\"cs\" class=\"interlanguage-link-target\">\\xc4\\x8ce\\xc5\\xa1tina</a></li><li class=\"interlanguage-link interwiki-da\"><a href=\"https://da.wikipedia.org/wiki/Python\" title=\"Python \\xe2\\x80\\x93 Danish\" lang=\"da\" hreflang=\"da\" class=\"interlanguage-link-target\">Dansk</a></li><li class=\"interlanguage-link interwiki-de\"><a href=\"https://de.wikipedia.org/wiki/Python\" title=\"Python \\xe2\\x80\\x93 German\" lang=\"de\" hreflang=\"de\" class=\"interlanguage-link-target\">Deutsch</a></li><li class=\"interlanguage-link interwiki-eo\"><a href=\"https://eo.wikipedia.org/wiki/Pitono_(apartigilo)\" title=\"Pitono (apartigilo) \\xe2\\x80\\x93 Esperanto\" lang=\"eo\" hreflang=\"eo\" class=\"interlanguage-link-target\">Esperanto</a></li><li class=\"interlanguage-link interwiki-eu\"><a href=\"https://eu.wikipedia.org/wiki/Python_(argipena)\" title=\"Python (argipena) \\xe2\\x80\\x93 Basque\" lang=\"eu\" hreflang=\"eu\" class=\"interlanguage-link-target\">Euskara</a></li><li class=\"interlanguage-link interwiki-fa\"><a href=\"https://fa.wikipedia.org/wiki/%D9%BE%D8%A7%DB%8C%D8%AA%D9%88%D9%86\" title=\"\\xd9\\xbe\\xd8\\xa7\\xdb\\x8c\\xd8\\xaa\\xd9\\x88\\xd9\\x86 \\xe2\\x80\\x93 Persian\" lang=\"fa\" hreflang=\"fa\" class=\"interlanguage-link-target\">\\xd9\\x81\\xd8\\xa7\\xd8\\xb1\\xd8\\xb3\\xdb\\x8c</a></li><li class=\"interlanguage-link interwiki-fr\"><a href=\"https://fr.wikipedia.org/wiki/Python\" title=\"Python \\xe2\\x80\\x93 French\" lang=\"fr\" hreflang=\"fr\" class=\"interlanguage-link-target\">Fran\\xc3\\xa7ais</a></li><li class=\"interlanguage-link interwiki-ko\"><a href=\"https://ko.wikipedia.org/wiki/%ED%8C%8C%EC%9D%B4%EC%84%A0\" title=\"\\xed\\x8c\\x8c\\xec\\x9d\\xb4\\xec\\x84\\xa0 \\xe2\\x80\\x93 Korean\" lang=\"ko\" hreflang=\"ko\" class=\"interlanguage-link-target\">\\xed\\x95\\x9c\\xea\\xb5\\xad\\xec\\x96\\xb4</a></li><li class=\"interlanguage-link interwiki-hr\"><a href=\"https://hr.wikipedia.org/wiki/Python_(razdvojba)\" title=\"Python (razdvojba) \\xe2\\x80\\x93 Croatian\" lang=\"hr\" hreflang=\"hr\" class=\"interlanguage-link-target\">Hrvatski</a></li><li class=\"interlanguage-link interwiki-io\"><a href=\"https://io.wikipedia.org/wiki/Pitono\" title=\"Pitono \\xe2\\x80\\x93 Ido\" lang=\"io\" hreflang=\"io\" class=\"interlanguage-link-target\">Ido</a></li><li class=\"interlanguage-link interwiki-id\"><a href=\"https://id.wikipedia.org/wiki/Python\" title=\"Python \\xe2\\x80\\x93 Indonesian\" lang=\"id\" hreflang=\"id\" class=\"interlanguage-link-target\">Bahasa Indonesia</a></li><li class=\"interlanguage-link interwiki-ia\"><a href=\"https://ia.wikipedia.org/wiki/Python_(disambiguation)\" title=\"Python (disambiguation) \\xe2\\x80\\x93 Interlingua\" lang=\"ia\" hreflang=\"ia\" class=\"interlanguage-link-target\">Interlingua</a></li><li class=\"interlanguage-link interwiki-is\"><a href=\"https://is.wikipedia.org/wiki/Python_(a%C3%B0greining)\" title=\"Python (a\\xc3\\xb0greining) \\xe2\\x80\\x93 Icelandic\" lang=\"is\" hreflang=\"is\" class=\"interlanguage-link-target\">\\xc3\\x8dslenska</a></li><li class=\"interlanguage-link interwiki-it\"><a href=\"https://it.wikipedia.org/wiki/Python_(disambigua)\" title=\"Python (disambigua) \\xe2\\x80\\x93 Italian\" lang=\"it\" hreflang=\"it\" class=\"interlanguage-link-target\">Italiano</a></li><li class=\"interlanguage-link interwiki-he\"><a href=\"https://he.wikipedia.org/wiki/%D7%A4%D7%99%D7%AA%D7%95%D7%9F\" title=\"\\xd7\\xa4\\xd7\\x99\\xd7\\xaa\\xd7\\x95\\xd7\\x9f \\xe2\\x80\\x93 Hebrew\" lang=\"he\" hreflang=\"he\" class=\"interlanguage-link-target\">\\xd7\\xa2\\xd7\\x91\\xd7\\xa8\\xd7\\x99\\xd7\\xaa</a></li><li class=\"interlanguage-link interwiki-ka\"><a href=\"https://ka.wikipedia.org/wiki/%E1%83%9E%E1%83%98%E1%83%97%E1%83%9D%E1%83%9C%E1%83%98_(%E1%83%9B%E1%83%A0%E1%83%90%E1%83%95%E1%83%90%E1%83%9A%E1%83%9B%E1%83%9C%E1%83%98%E1%83%A8%E1%83%95%E1%83%9C%E1%83%94%E1%83%9A%E1%83%9D%E1%83%95%E1%83%90%E1%83%9C%E1%83%98)\" title=\"\\xe1\\x83\\x9e\\xe1\\x83\\x98\\xe1\\x83\\x97\\xe1\\x83\\x9d\\xe1\\x83\\x9c\\xe1\\x83\\x98 (\\xe1\\x83\\x9b\\xe1\\x83\\xa0\\xe1\\x83\\x90\\xe1\\x83\\x95\\xe1\\x83\\x90\\xe1\\x83\\x9a\\xe1\\x83\\x9b\\xe1\\x83\\x9c\\xe1\\x83\\x98\\xe1\\x83\\xa8\\xe1\\x83\\x95\\xe1\\x83\\x9c\\xe1\\x83\\x94\\xe1\\x83\\x9a\\xe1\\x83\\x9d\\xe1\\x83\\x95\\xe1\\x83\\x90\\xe1\\x83\\x9c\\xe1\\x83\\x98) \\xe2\\x80\\x93 Georgian\" lang=\"ka\" hreflang=\"ka\" class=\"interlanguage-link-target\">\\xe1\\x83\\xa5\\xe1\\x83\\x90\\xe1\\x83\\xa0\\xe1\\x83\\x97\\xe1\\x83\\xa3\\xe1\\x83\\x9a\\xe1\\x83\\x98</a></li><li class=\"interlanguage-link interwiki-kg\"><a href=\"https://kg.wikipedia.org/wiki/Mboma_(nyoka)\" title=\"Mboma (nyoka) \\xe2\\x80\\x93 Kongo\" lang=\"kg\" hreflang=\"kg\" class=\"interlanguage-link-target\">Kongo</a></li><li class=\"interlanguage-link interwiki-la\"><a href=\"https://la.wikipedia.org/wiki/Python_(discretiva)\" title=\"Python (discretiva) \\xe2\\x80\\x93 Latin\" lang=\"la\" hreflang=\"la\" class=\"interlanguage-link-target\">Latina</a></li><li class=\"interlanguage-link interwiki-lb\"><a href=\"https://lb.wikipedia.org/wiki/Python\" title=\"Python \\xe2\\x80\\x93 Luxembourgish\" lang=\"lb\" hreflang=\"lb\" class=\"interlanguage-link-target\">L\\xc3\\xabtzebuergesch</a></li><li class=\"interlanguage-link interwiki-hu\"><a href=\"https://hu.wikipedia.org/wiki/Python_(egy%C3%A9rtelm%C5%B1s%C3%ADt%C5%91_lap)\" title=\"Python (egy\\xc3\\xa9rtelm\\xc5\\xb1s\\xc3\\xadt\\xc5\\x91 lap) \\xe2\\x80\\x93 Hungarian\" lang=\"hu\" hreflang=\"hu\" class=\"interlanguage-link-target\">Magyar</a></li><li class=\"interlanguage-link interwiki-mr\"><a href=\"https://mr.wikipedia.org/wiki/%E0%A4%AA%E0%A4%BE%E0%A4%AF%E0%A4%A5%E0%A5%89%E0%A4%A8_(%E0%A4%86%E0%A4%9C%E0%A5%8D%E0%A4%9E%E0%A4%BE%E0%A4%B5%E0%A4%B2%E0%A5%80_%E0%A4%AD%E0%A4%BE%E0%A4%B7%E0%A4%BE)\" title=\"\\xe0\\xa4\\xaa\\xe0\\xa4\\xbe\\xe0\\xa4\\xaf\\xe0\\xa4\\xa5\\xe0\\xa5\\x89\\xe0\\xa4\\xa8 (\\xe0\\xa4\\x86\\xe0\\xa4\\x9c\\xe0\\xa5\\x8d\\xe0\\xa4\\x9e\\xe0\\xa4\\xbe\\xe0\\xa4\\xb5\\xe0\\xa4\\xb2\\xe0\\xa5\\x80 \\xe0\\xa4\\xad\\xe0\\xa4\\xbe\\xe0\\xa4\\xb7\\xe0\\xa4\\xbe) \\xe2\\x80\\x93 Marathi\" lang=\"mr\" hreflang=\"mr\" class=\"interlanguage-link-target\">\\xe0\\xa4\\xae\\xe0\\xa4\\xb0\\xe0\\xa4\\xbe\\xe0\\xa4\\xa0\\xe0\\xa5\\x80</a></li><li class=\"interlanguage-link interwiki-nl\"><a href=\"https://nl.wikipedia.org/wiki/Python\" title=\"Python \\xe2\\x80\\x93 Dutch\" lang=\"nl\" hreflang=\"nl\" class=\"interlanguage-link-target\">Nederlands</a></li><li class=\"interlanguage-link interwiki-ja\"><a href=\"https://ja.wikipedia.org/wiki/%E3%83%91%E3%82%A4%E3%82%BD%E3%83%B3\" title=\"\\xe3\\x83\\x91\\xe3\\x82\\xa4\\xe3\\x82\\xbd\\xe3\\x83\\xb3 \\xe2\\x80\\x93 Japanese\" lang=\"ja\" hreflang=\"ja\" class=\"interlanguage-link-target\">\\xe6\\x97\\xa5\\xe6\\x9c\\xac\\xe8\\xaa\\x9e</a></li><li class=\"interlanguage-link interwiki-no\"><a href=\"https://no.wikipedia.org/wiki/Pyton\" title=\"Pyton \\xe2\\x80\\x93 Norwegian\" lang=\"no\" hreflang=\"no\" class=\"interlanguage-link-target\">Norsk</a></li><li class=\"interlanguage-link interwiki-pl\"><a href=\"https://pl.wikipedia.org/wiki/Pyton\" title=\"Pyton \\xe2\\x80\\x93 Polish\" lang=\"pl\" hreflang=\"pl\" class=\"interlanguage-link-target\">Polski</a></li><li class=\"interlanguage-link interwiki-pt\"><a href=\"https://pt.wikipedia.org/wiki/Python_(desambigua%C3%A7%C3%A3o)\" title=\"Python (desambigua\\xc3\\xa7\\xc3\\xa3o) \\xe2\\x80\\x93 Portuguese\" lang=\"pt\" hreflang=\"pt\" class=\"interlanguage-link-target\">Portugu\\xc3\\xaas</a></li><li class=\"interlanguage-link interwiki-ru\"><a href=\"https://ru.wikipedia.org/wiki/Python_(%D0%B7%D0%BD%D0%B0%D1%87%D0%B5%D0%BD%D0%B8%D1%8F)\" title=\"Python (\\xd0\\xb7\\xd0\\xbd\\xd0\\xb0\\xd1\\x87\\xd0\\xb5\\xd0\\xbd\\xd0\\xb8\\xd1\\x8f) \\xe2\\x80\\x93 Russian\" lang=\"ru\" hreflang=\"ru\" class=\"interlanguage-link-target\">\\xd0\\xa0\\xd1\\x83\\xd1\\x81\\xd1\\x81\\xd0\\xba\\xd0\\xb8\\xd0\\xb9</a></li><li class=\"interlanguage-link interwiki-sd\"><a href=\"https://sd.wikipedia.org/wiki/%D8%A7%D8%B1%DA%99\" title=\"\\xd8\\xa7\\xd8\\xb1\\xda\\x99 \\xe2\\x80\\x93 Sindhi\" lang=\"sd\" hreflang=\"sd\" class=\"interlanguage-link-target\">\\xd8\\xb3\\xd9\\x86\\xda\\x8c\\xd9\\x8a</a></li><li class=\"interlanguage-link interwiki-sk\"><a href=\"https://sk.wikipedia.org/wiki/Python\" title=\"Python \\xe2\\x80\\x93 Slovak\" lang=\"sk\" hreflang=\"sk\" class=\"interlanguage-link-target\">Sloven\\xc4\\x8dina</a></li><li class=\"interlanguage-link interwiki-sh\"><a href=\"https://sh.wikipedia.org/wiki/Python\" title=\"Python \\xe2\\x80\\x93 Serbo-Croatian\" lang=\"sh\" hreflang=\"sh\" class=\"interlanguage-link-target\">Srpskohrvatski / \\xd1\\x81\\xd1\\x80\\xd0\\xbf\\xd1\\x81\\xd0\\xba\\xd0\\xbe\\xd1\\x85\\xd1\\x80\\xd0\\xb2\\xd0\\xb0\\xd1\\x82\\xd1\\x81\\xd0\\xba\\xd0\\xb8</a></li><li class=\"interlanguage-link interwiki-fi\"><a href=\"https://fi.wikipedia.org/wiki/Python\" title=\"Python \\xe2\\x80\\x93 Finnish\" lang=\"fi\" hreflang=\"fi\" class=\"interlanguage-link-target\">Suomi</a></li><li class=\"interlanguage-link interwiki-sv\"><a href=\"https://sv.wikipedia.org/wiki/Pyton\" title=\"Pyton \\xe2\\x80\\x93 Swedish\" lang=\"sv\" hreflang=\"sv\" class=\"interlanguage-link-target\">Svenska</a></li><li class=\"interlanguage-link interwiki-th\"><a href=\"https://th.wikipedia.org/wiki/%E0%B9%84%E0%B8%9E%E0%B8%97%E0%B8%AD%E0%B8%99\" title=\"\\xe0\\xb9\\x84\\xe0\\xb8\\x9e\\xe0\\xb8\\x97\\xe0\\xb8\\xad\\xe0\\xb8\\x99 \\xe2\\x80\\x93 Thai\" lang=\"th\" hreflang=\"th\" class=\"interlanguage-link-target\">\\xe0\\xb9\\x84\\xe0\\xb8\\x97\\xe0\\xb8\\xa2</a></li><li class=\"interlanguage-link interwiki-tr\"><a href=\"https://tr.wikipedia.org/wiki/Python\" title=\"Python \\xe2\\x80\\x93 Turkish\" lang=\"tr\" hreflang=\"tr\" class=\"interlanguage-link-target\">T\\xc3\\xbcrk\\xc3\\xa7e</a></li><li class=\"interlanguage-link interwiki-uk\"><a href=\"https://uk.wikipedia.org/wiki/%D0%9F%D1%96%D1%84%D0%BE%D0%BD\" title=\"\\xd0\\x9f\\xd1\\x96\\xd1\\x84\\xd0\\xbe\\xd0\\xbd \\xe2\\x80\\x93 Ukrainian\" lang=\"uk\" hreflang=\"uk\" class=\"interlanguage-link-target\">\\xd0\\xa3\\xd0\\xba\\xd1\\x80\\xd0\\xb0\\xd1\\x97\\xd0\\xbd\\xd1\\x81\\xd1\\x8c\\xd0\\xba\\xd0\\xb0</a></li><li class=\"interlanguage-link interwiki-ur\"><a href=\"https://ur.wikipedia.org/wiki/%D9%BE%D8%A7%D8%A6%DB%8C%D8%AA%DA%BE%D9%88%D9%86\" title=\"\\xd9\\xbe\\xd8\\xa7\\xd8\\xa6\\xdb\\x8c\\xd8\\xaa\\xda\\xbe\\xd9\\x88\\xd9\\x86 \\xe2\\x80\\x93 Urdu\" lang=\"ur\" hreflang=\"ur\" class=\"interlanguage-link-target\">\\xd8\\xa7\\xd8\\xb1\\xd8\\xaf\\xd9\\x88</a></li><li class=\"interlanguage-link interwiki-vi\"><a href=\"https://vi.wikipedia.org/wiki/Python\" title=\"Python \\xe2\\x80\\x93 Vietnamese\" lang=\"vi\" hreflang=\"vi\" class=\"interlanguage-link-target\">Ti\\xe1\\xba\\xbfng Vi\\xe1\\xbb\\x87t</a></li><li class=\"interlanguage-link interwiki-zh\"><a href=\"https://zh.wikipedia.org/wiki/Python_(%E6%B6%88%E6%AD%A7%E4%B9%89)\" title=\"Python (\\xe6\\xb6\\x88\\xe6\\xad\\xa7\\xe4\\xb9\\x89) \\xe2\\x80\\x93 Chinese\" lang=\"zh\" hreflang=\"zh\" class=\"interlanguage-link-target\">\\xe4\\xb8\\xad\\xe6\\x96\\x87</a></li>\\t\\t\\t\\t</ul>\\n\\t\\t\\t\\t<div class=\"after-portlet after-portlet-lang\"><span class=\"wb-langlinks-edit wb-langlinks-link\"><a href=\"https://www.wikidata.org/wiki/Special:EntityPage/Q747452#sitelinks-wikipedia\" title=\"Edit interlanguage links\" class=\"wbc-editpage\">Edit links</a></span></div>\\t\\t\\t</div>\\n\\t\\t</div>\\n\\t\\t\\t\\t</div>\\n\\t\\t</div>\\n\\t\\t\\t\\t<div id=\"footer\" role=\"contentinfo\">\\n\\t\\t\\t\\t\\t\\t<ul id=\"footer-info\">\\n\\t\\t\\t\\t\\t\\t\\t\\t<li id=\"footer-info-lastmod\"> This page was last edited on 9 July 2019, at 10:35<span class=\"anonymous-show\">&#160;(UTC)</span>.</li>\\n\\t\\t\\t\\t\\t\\t\\t\\t<li id=\"footer-info-copyright\">Text is available under the <a rel=\"license\" href=\"//en.wikipedia.org/wiki/Wikipedia:Text_of_Creative_Commons_Attribution-ShareAlike_3.0_Unported_License\">Creative Commons Attribution-ShareAlike License</a><a rel=\"license\" href=\"//creativecommons.org/licenses/by-sa/3.0/\" style=\"display:none;\"></a>;\\nadditional terms may apply.  By using this site, you agree to the <a href=\"//foundation.wikimedia.org/wiki/Terms_of_Use\">Terms of Use</a> and <a href=\"//foundation.wikimedia.org/wiki/Privacy_policy\">Privacy Policy</a>. Wikipedia\\xc2\\xae is a registered trademark of the <a href=\"//www.wikimediafoundation.org/\">Wikimedia Foundation, Inc.</a>, a non-profit organization.</li>\\n\\t\\t\\t\\t\\t\\t\\t</ul>\\n\\t\\t\\t\\t\\t\\t<ul id=\"footer-places\">\\n\\t\\t\\t\\t\\t\\t\\t\\t<li id=\"footer-places-privacy\"><a href=\"https://foundation.wikimedia.org/wiki/Privacy_policy\" class=\"extiw\" title=\"wmf:Privacy policy\">Privacy policy</a></li>\\n\\t\\t\\t\\t\\t\\t\\t\\t<li id=\"footer-places-about\"><a href=\"/wiki/Wikipedia:About\" title=\"Wikipedia:About\">About Wikipedia</a></li>\\n\\t\\t\\t\\t\\t\\t\\t\\t<li id=\"footer-places-disclaimer\"><a href=\"/wiki/Wikipedia:General_disclaimer\" title=\"Wikipedia:General disclaimer\">Disclaimers</a></li>\\n\\t\\t\\t\\t\\t\\t\\t\\t<li id=\"footer-places-contact\"><a href=\"//en.wikipedia.org/wiki/Wikipedia:Contact_us\">Contact Wikipedia</a></li>\\n\\t\\t\\t\\t\\t\\t\\t\\t<li id=\"footer-places-developers\"><a href=\"https://www.mediawiki.org/wiki/Special:MyLanguage/How_to_contribute\">Developers</a></li>\\n\\t\\t\\t\\t\\t\\t\\t\\t<li id=\"footer-places-cookiestatement\"><a href=\"https://foundation.wikimedia.org/wiki/Cookie_statement\">Cookie statement</a></li>\\n\\t\\t\\t\\t\\t\\t\\t\\t<li id=\"footer-places-mobileview\"><a href=\"//en.m.wikipedia.org/w/index.php?title=Python&amp;mobileaction=toggle_view_mobile\" class=\"noprint stopMobileRedirectToggle\">Mobile view</a></li>\\n\\t\\t\\t\\t\\t\\t\\t</ul>\\n\\t\\t\\t\\t\\t\\t\\t\\t\\t\\t<ul id=\"footer-icons\" class=\"noprint\">\\n\\t\\t\\t\\t\\t\\t\\t\\t\\t\\t<li id=\"footer-copyrightico\">\\n\\t\\t\\t\\t\\t\\t<a href=\"https://wikimediafoundation.org/\"><img src=\"/static/images/wikimedia-button.png\" srcset=\"/static/images/wikimedia-button-1.5x.png 1.5x, /static/images/wikimedia-button-2x.png 2x\" width=\"88\" height=\"31\" alt=\"Wikimedia Foundation\"/></a>\\t\\t\\t\\t\\t</li>\\n\\t\\t\\t\\t\\t\\t\\t\\t\\t\\t<li id=\"footer-poweredbyico\">\\n\\t\\t\\t\\t\\t\\t<a href=\"https://www.mediawiki.org/\"><img src=\"/static/images/poweredby_mediawiki_88x31.png\" alt=\"Powered by MediaWiki\" srcset=\"/static/images/poweredby_mediawiki_132x47.png 1.5x, /static/images/poweredby_mediawiki_176x62.png 2x\" width=\"88\" height=\"31\"/></a>\\t\\t\\t\\t\\t</li>\\n\\t\\t\\t\\t\\t\\t\\t\\t\\t</ul>\\n\\t\\t\\t\\t\\t\\t<div style=\"clear: both;\"></div>\\n\\t\\t</div>\\n\\t\\t\\n\\n<script>(RLQ=window.RLQ||[]).push(function(){mw.config.set({\"wgPageParseReport\":{\"limitreport\":{\"cputime\":\"0.124\",\"walltime\":\"0.176\",\"ppvisitednodes\":{\"value\":1333,\"limit\":1000000},\"ppgeneratednodes\":{\"value\":0,\"limit\":1500000},\"postexpandincludesize\":{\"value\":5727,\"limit\":2097152},\"templateargumentsize\":{\"value\":1207,\"limit\":2097152},\"expansiondepth\":{\"value\":16,\"limit\":40},\"expensivefunctioncount\":{\"value\":1,\"limit\":500},\"unstrip-depth\":{\"value\":0,\"limit\":20},\"unstrip-size\":{\"value\":626,\"limit\":5000000},\"entityaccesscount\":{\"value\":0,\"limit\":400},\"timingprofile\":[\"100.00%  128.965      1 -total\",\" 64.59%   83.295      1 Template:Disambiguation\",\" 47.51%   61.268      1 Template:Dmbox\",\" 24.75%   31.913      1 Template:Wiktionary\",\" 21.62%   27.878      1 Template:Sister_project\",\" 19.78%   25.515      1 Template:Category_handler\",\" 19.09%   24.623      1 Template:Side_box\",\" 12.63%   16.290      2 Template:Title_disambig_text\",\" 10.86%   14.006      1 Template:Main_other\",\" 10.41%   13.423      1 Template:TOC_right\"]},\"scribunto\":{\"limitreport-timeusage\":{\"value\":\"0.019\",\"limit\":\"10.000\"},\"limitreport-memusage\":{\"value\":995962,\"limit\":52428800}},\"cachereport\":{\"origin\":\"mw1290\",\"timestamp\":\"20190709103553\",\"ttl\":2592000,\"transientcontent\":false}}});});</script>\\n<script type=\"application/ld+json\">{\"@context\":\"https:\\\\/\\\\/schema.org\",\"@type\":\"Article\",\"name\":\"Python\",\"url\":\"https:\\\\/\\\\/en.wikipedia.org\\\\/wiki\\\\/Python\",\"sameAs\":\"http:\\\\/\\\\/www.wikidata.org\\\\/entity\\\\/Q747452\",\"mainEntity\":\"http:\\\\/\\\\/www.wikidata.org\\\\/entity\\\\/Q747452\",\"author\":{\"@type\":\"Organization\",\"name\":\"Contributors to Wikimedia projects\"},\"publisher\":{\"@type\":\"Organization\",\"name\":\"Wikimedia Foundation, Inc.\",\"logo\":{\"@type\":\"ImageObject\",\"url\":\"https:\\\\/\\\\/www.wikimedia.org\\\\/static\\\\/images\\\\/wmf-hor-googpub.png\"}},\"datePublished\":\"2004-05-11T17:28:52Z\",\"dateModified\":\"2019-07-09T10:35:53Z\",\"headline\":\"Wikimedia disambiguation page\"}</script>\\n<script>(RLQ=window.RLQ||[]).push(function(){mw.config.set({\"wgBackendResponseTime\":117,\"wgHostname\":\"mw1248\"});});</script>\\n</body>\\n</html>\\n'"
      ]
     },
     "execution_count": 86,
     "metadata": {},
     "output_type": "execute_result"
    }
   ],
   "source": [
    "# This is the url you will scrape in this exercise\n",
    "url ='https://en.wikipedia.org/wiki/Python' \n",
    "html = requests.get(url).content\n",
    "html"
   ]
  },
  {
   "cell_type": "code",
   "execution_count": 90,
   "metadata": {},
   "outputs": [
    {
     "data": {
      "text/plain": [
       "[None,\n",
       " '#mw-head',\n",
       " '#p-search',\n",
       " 'https://en.wiktionary.org/wiki/Python',\n",
       " 'https://en.wiktionary.org/wiki/python',\n",
       " '#Snakes',\n",
       " '#Ancient_Greece',\n",
       " '#Media_and_entertainment',\n",
       " '#Computing',\n",
       " '#Engineering',\n",
       " '#Roller_coasters',\n",
       " '#Vehicles',\n",
       " '#Weaponry',\n",
       " '#People',\n",
       " '#Other_uses',\n",
       " '#See_also',\n",
       " '/w/index.php?title=Python&action=edit&section=1',\n",
       " '/wiki/Pythonidae',\n",
       " '/wiki/Python_(genus)',\n",
       " '/w/index.php?title=Python&action=edit&section=2',\n",
       " '/wiki/Python_(mythology)',\n",
       " '/wiki/Python_of_Aenus',\n",
       " '/wiki/Python_(painter)',\n",
       " '/wiki/Python_of_Byzantium',\n",
       " '/wiki/Python_of_Catana',\n",
       " '/w/index.php?title=Python&action=edit&section=3',\n",
       " '/wiki/Python_(film)',\n",
       " '/wiki/Pythons_2',\n",
       " '/wiki/Monty_Python',\n",
       " '/wiki/Python_(Monty)_Pictures',\n",
       " '/w/index.php?title=Python&action=edit&section=4',\n",
       " '/wiki/Python_(programming_language)',\n",
       " '/wiki/CPython',\n",
       " '/wiki/CMU_Common_Lisp',\n",
       " '/wiki/PERQ#PERQ_3',\n",
       " '/w/index.php?title=Python&action=edit&section=5',\n",
       " '/w/index.php?title=Python&action=edit&section=6',\n",
       " '/wiki/Python_(Busch_Gardens_Tampa_Bay)',\n",
       " '/wiki/Python_(Coney_Island,_Cincinnati,_Ohio)',\n",
       " '/wiki/Python_(Efteling)',\n",
       " '/w/index.php?title=Python&action=edit&section=7',\n",
       " '/wiki/Python_(automobile_maker)',\n",
       " '/wiki/Python_(Ford_prototype)',\n",
       " '/w/index.php?title=Python&action=edit&section=8',\n",
       " '/wiki/Colt_Python',\n",
       " '/wiki/Python_(missile)',\n",
       " '/wiki/Python_(nuclear_primary)',\n",
       " '/w/index.php?title=Python&action=edit&section=9',\n",
       " '/wiki/Python_Anghelo',\n",
       " '/w/index.php?title=Python&action=edit&section=10',\n",
       " '/wiki/PYTHON',\n",
       " '/w/index.php?title=Python&action=edit&section=11',\n",
       " '/wiki/Cython',\n",
       " '/wiki/Pyton',\n",
       " '/wiki/File:Disambig_gray.svg',\n",
       " '/wiki/Help:Disambiguation',\n",
       " '//en.wikipedia.org/w/index.php?title=Special:WhatLinksHere/Python&namespace=0',\n",
       " 'https://en.wikipedia.org/w/index.php?title=Python&oldid=905477736',\n",
       " '/wiki/Help:Category',\n",
       " '/wiki/Category:Disambiguation_pages',\n",
       " '/wiki/Category:Disambiguation_pages_with_short_description',\n",
       " '/wiki/Category:All_article_disambiguation_pages',\n",
       " '/wiki/Category:All_disambiguation_pages',\n",
       " '/wiki/Category:Animal_common_name_disambiguation_pages',\n",
       " '/wiki/Special:MyTalk',\n",
       " '/wiki/Special:MyContributions',\n",
       " '/w/index.php?title=Special:CreateAccount&returnto=Python',\n",
       " '/w/index.php?title=Special:UserLogin&returnto=Python',\n",
       " '/wiki/Python',\n",
       " '/wiki/Talk:Python',\n",
       " '/wiki/Python',\n",
       " '/w/index.php?title=Python&action=edit',\n",
       " '/w/index.php?title=Python&action=history',\n",
       " '/wiki/Main_Page',\n",
       " '/wiki/Main_Page',\n",
       " '/wiki/Portal:Contents',\n",
       " '/wiki/Portal:Featured_content',\n",
       " '/wiki/Portal:Current_events',\n",
       " '/wiki/Special:Random',\n",
       " 'https://donate.wikimedia.org/wiki/Special:FundraiserRedirector?utm_source=donate&utm_medium=sidebar&utm_campaign=C13_en.wikipedia.org&uselang=en',\n",
       " '//shop.wikimedia.org',\n",
       " '/wiki/Help:Contents',\n",
       " '/wiki/Wikipedia:About',\n",
       " '/wiki/Wikipedia:Community_portal',\n",
       " '/wiki/Special:RecentChanges',\n",
       " '//en.wikipedia.org/wiki/Wikipedia:Contact_us',\n",
       " '/wiki/Special:WhatLinksHere/Python',\n",
       " '/wiki/Special:RecentChangesLinked/Python',\n",
       " '/wiki/Wikipedia:File_Upload_Wizard',\n",
       " '/wiki/Special:SpecialPages',\n",
       " '/w/index.php?title=Python&oldid=905477736',\n",
       " '/w/index.php?title=Python&action=info',\n",
       " 'https://www.wikidata.org/wiki/Special:EntityPage/Q747452',\n",
       " '/w/index.php?title=Special:CiteThisPage&page=Python&id=905477736',\n",
       " 'https://commons.wikimedia.org/wiki/Category:Python',\n",
       " '/w/index.php?title=Special:Book&bookcmd=book_creator&referer=Python',\n",
       " '/w/index.php?title=Special:ElectronPdf&page=Python&action=show-download-screen',\n",
       " '/w/index.php?title=Python&printable=yes',\n",
       " 'https://af.wikipedia.org/wiki/Python',\n",
       " 'https://als.wikipedia.org/wiki/Python',\n",
       " 'https://az.wikipedia.org/wiki/Python',\n",
       " 'https://bn.wikipedia.org/wiki/%E0%A6%AA%E0%A6%BE%E0%A6%87%E0%A6%A5%E0%A6%A8_(%E0%A6%A6%E0%A7%8D%E0%A6%AC%E0%A7%8D%E0%A6%AF%E0%A6%B0%E0%A7%8D%E0%A6%A5%E0%A6%A4%E0%A6%BE_%E0%A6%A8%E0%A6%BF%E0%A6%B0%E0%A6%B8%E0%A6%A8)',\n",
       " 'https://be.wikipedia.org/wiki/Python',\n",
       " 'https://bg.wikipedia.org/wiki/%D0%9F%D0%B8%D1%82%D0%BE%D0%BD_(%D0%BF%D0%BE%D1%8F%D1%81%D0%BD%D0%B5%D0%BD%D0%B8%D0%B5)',\n",
       " 'https://cs.wikipedia.org/wiki/Python_(rozcestn%C3%ADk)',\n",
       " 'https://da.wikipedia.org/wiki/Python',\n",
       " 'https://de.wikipedia.org/wiki/Python',\n",
       " 'https://eo.wikipedia.org/wiki/Pitono_(apartigilo)',\n",
       " 'https://eu.wikipedia.org/wiki/Python_(argipena)',\n",
       " 'https://fa.wikipedia.org/wiki/%D9%BE%D8%A7%DB%8C%D8%AA%D9%88%D9%86',\n",
       " 'https://fr.wikipedia.org/wiki/Python',\n",
       " 'https://ko.wikipedia.org/wiki/%ED%8C%8C%EC%9D%B4%EC%84%A0',\n",
       " 'https://hr.wikipedia.org/wiki/Python_(razdvojba)',\n",
       " 'https://io.wikipedia.org/wiki/Pitono',\n",
       " 'https://id.wikipedia.org/wiki/Python',\n",
       " 'https://ia.wikipedia.org/wiki/Python_(disambiguation)',\n",
       " 'https://is.wikipedia.org/wiki/Python_(a%C3%B0greining)',\n",
       " 'https://it.wikipedia.org/wiki/Python_(disambigua)',\n",
       " 'https://he.wikipedia.org/wiki/%D7%A4%D7%99%D7%AA%D7%95%D7%9F',\n",
       " 'https://ka.wikipedia.org/wiki/%E1%83%9E%E1%83%98%E1%83%97%E1%83%9D%E1%83%9C%E1%83%98_(%E1%83%9B%E1%83%A0%E1%83%90%E1%83%95%E1%83%90%E1%83%9A%E1%83%9B%E1%83%9C%E1%83%98%E1%83%A8%E1%83%95%E1%83%9C%E1%83%94%E1%83%9A%E1%83%9D%E1%83%95%E1%83%90%E1%83%9C%E1%83%98)',\n",
       " 'https://kg.wikipedia.org/wiki/Mboma_(nyoka)',\n",
       " 'https://la.wikipedia.org/wiki/Python_(discretiva)',\n",
       " 'https://lb.wikipedia.org/wiki/Python',\n",
       " 'https://hu.wikipedia.org/wiki/Python_(egy%C3%A9rtelm%C5%B1s%C3%ADt%C5%91_lap)',\n",
       " 'https://mr.wikipedia.org/wiki/%E0%A4%AA%E0%A4%BE%E0%A4%AF%E0%A4%A5%E0%A5%89%E0%A4%A8_(%E0%A4%86%E0%A4%9C%E0%A5%8D%E0%A4%9E%E0%A4%BE%E0%A4%B5%E0%A4%B2%E0%A5%80_%E0%A4%AD%E0%A4%BE%E0%A4%B7%E0%A4%BE)',\n",
       " 'https://nl.wikipedia.org/wiki/Python',\n",
       " 'https://ja.wikipedia.org/wiki/%E3%83%91%E3%82%A4%E3%82%BD%E3%83%B3',\n",
       " 'https://no.wikipedia.org/wiki/Pyton',\n",
       " 'https://pl.wikipedia.org/wiki/Pyton',\n",
       " 'https://pt.wikipedia.org/wiki/Python_(desambigua%C3%A7%C3%A3o)',\n",
       " 'https://ru.wikipedia.org/wiki/Python_(%D0%B7%D0%BD%D0%B0%D1%87%D0%B5%D0%BD%D0%B8%D1%8F)',\n",
       " 'https://sd.wikipedia.org/wiki/%D8%A7%D8%B1%DA%99',\n",
       " 'https://sk.wikipedia.org/wiki/Python',\n",
       " 'https://sh.wikipedia.org/wiki/Python',\n",
       " 'https://fi.wikipedia.org/wiki/Python',\n",
       " 'https://sv.wikipedia.org/wiki/Pyton',\n",
       " 'https://th.wikipedia.org/wiki/%E0%B9%84%E0%B8%9E%E0%B8%97%E0%B8%AD%E0%B8%99',\n",
       " 'https://tr.wikipedia.org/wiki/Python',\n",
       " 'https://uk.wikipedia.org/wiki/%D0%9F%D1%96%D1%84%D0%BE%D0%BD',\n",
       " 'https://ur.wikipedia.org/wiki/%D9%BE%D8%A7%D8%A6%DB%8C%D8%AA%DA%BE%D9%88%D9%86',\n",
       " 'https://vi.wikipedia.org/wiki/Python',\n",
       " 'https://zh.wikipedia.org/wiki/Python_(%E6%B6%88%E6%AD%A7%E4%B9%89)',\n",
       " 'https://www.wikidata.org/wiki/Special:EntityPage/Q747452#sitelinks-wikipedia',\n",
       " '//en.wikipedia.org/wiki/Wikipedia:Text_of_Creative_Commons_Attribution-ShareAlike_3.0_Unported_License',\n",
       " '//creativecommons.org/licenses/by-sa/3.0/',\n",
       " '//foundation.wikimedia.org/wiki/Terms_of_Use',\n",
       " '//foundation.wikimedia.org/wiki/Privacy_policy',\n",
       " '//www.wikimediafoundation.org/',\n",
       " 'https://foundation.wikimedia.org/wiki/Privacy_policy',\n",
       " '/wiki/Wikipedia:About',\n",
       " '/wiki/Wikipedia:General_disclaimer',\n",
       " '//en.wikipedia.org/wiki/Wikipedia:Contact_us',\n",
       " 'https://www.mediawiki.org/wiki/Special:MyLanguage/How_to_contribute',\n",
       " 'https://foundation.wikimedia.org/wiki/Cookie_statement',\n",
       " '//en.m.wikipedia.org/w/index.php?title=Python&mobileaction=toggle_view_mobile',\n",
       " 'https://wikimediafoundation.org/',\n",
       " 'https://www.mediawiki.org/']"
      ]
     },
     "execution_count": 90,
     "metadata": {},
     "output_type": "execute_result"
    }
   ],
   "source": [
    "#your code\n",
    "lists = []\n",
    "soup = BeautifulSoup(html, \"lxml\")\n",
    "lien = [link.get('href') for link in soup.find_all('a') ]\n",
    "lien"
   ]
  },
  {
   "cell_type": "markdown",
   "metadata": {},
   "source": [
    "#### Number of Titles that have changed in the United States Code since its last release point "
   ]
  },
  {
   "cell_type": "code",
   "execution_count": 100,
   "metadata": {},
   "outputs": [
    {
     "data": {
      "text/plain": [
       "b'<?xml version=\\'1.0\\' encoding=\\'UTF-8\\' ?>\\n<!DOCTYPE html PUBLIC \"-//W3C//DTD XHTML 1.0 Transitional//EN\" \"http://www.w3.org/TR/xhtml1/DTD/xhtml1-transitional.dtd\">\\n<html xmlns=\"http://www.w3.org/1999/xhtml\"><head>\\n        <meta http-equiv=\"Content-Type\" content=\"text/html; charset=UTF-8\" />\\n        <meta http-equiv=\"X-UA-Compatible\" content=\"IE=8\" />\\n        <meta http-equiv=\"pragma\" content=\"no-cache\" /><!-- HTTP 1.0 -->\\n        <meta http-equiv=\"cache-control\" content=\"no-cache,must-revalidate\" /><!-- HTTP 1.1 -->\\n        <meta http-equiv=\"expires\" content=\"0\" />\\n        <link rel=\"shortcut icon\" href=\"/javax.faces.resource/favicon.ico.xhtml?ln=images\" /><link type=\"text/css\" rel=\"stylesheet\" href=\"/javax.faces.resource/cssLayout.css.xhtml?ln=css\" /><script type=\"text/javascript\" src=\"/javax.faces.resource/jsf.js.xhtml?ln=javax.faces\"></script><link type=\"text/css\" rel=\"stylesheet\" href=\"/javax.faces.resource/static.css.xhtml?ln=css\" /></head><body><script type=\"text/javascript\" src=\"/javax.faces.resource/browserPreferences.js.xhtml?ln=scripts\"></script>\\n        <div id=\"body\">\\n    <noscript>\\n        <div style=\"font-size: 12px; font-family: Arial; background-color: #F0F0FE;\">\\n            This page is better viewed with a JavaScript enabled browser.\\n        </div>\\n    </noscript>\\n    <div id=\"header\"><a href=\"/browse.xhtml;jsessionid=DC4502E16D7B9A991BCD59D11158FC7E\"><img src=\"/javax.faces.resource/u4.png.xhtml?ln=images\" alt=\"OLRC home\" style=\"border: none;\" /></a>\\n    </div>\\n            <div style=\"margin-left: 2px; clear: both;  background-color: rgb(201, 173, 109);\"><div id=\"menu_homeLink\">\\n        <div style=\"float:right;             width: 55px; height: 18px; font-family: Arial; margin-top: -20px;             text-align: center; cursor: pointer; background-color: rgb(187, 154, 74);             opacity: .9;             -ms-filter:\\'progid:DXImageTransform.Microsoft.Alpha(Opacity=90)\\';             filter: alpha(opacity=90);\"><a href=\"/browse.xhtml;jsessionid=DC4502E16D7B9A991BCD59D11158FC7E\" style=\"text-decoration: none; font-family: \\'Calibri\\'; color: rgb(69, 38, 35); font-size: 15px; font-weight: bold;\">\\n                    Home</a>\\n        </div></div>\\n    <div id=\"menu\"><script type=\"text/javascript\" src=\"/javax.faces.resource/menu.js.xhtml?ln=scripts\"></script>\\n        <div id=\"subMenu\">\\n\\t\\t<!-- <c:if test=\"true\"> --> <!-- class=\"children_item_-1\" -->\\n\\t        <div id=\"item_SEARCH_BROWSE\" onclick=\"showHideChildren(\\'item_SEARCH_BROWSE\\',\\'false\\',\\'-1\\');\" class=\"child_item_-1 main_item\" style=\"position: relative; top: 0px; left: 0px; width: 100%; height: 31px; overflow: visible;\">\\n\\t            <span id=\"item_SEARCH_BROWSE\" style=\"width: 100%; height: 31px;\"><img src=\"/javax.faces.resource/u6.png.xhtml?ln=images\" style=\"width: 100%; height: 31px;\" />\\n\\t            </span>\\n\\t            <div style=\"position: absolute; left: 16px; top: 6px; width: 100%; height: 18px; font-family: Arial; text-align: left; word-wrap: break-word; cursor: pointer;\">\\n\\t                <span id=\"text_SEARCH_BROWSE\" class=\"item_text\" style=\"font-family: \\'Calibri\\'; color: rgb(49, 28, 26); font-size: 15px; font-weight: bold;\">\\n\\t                    Search &amp; Browse\\n\\t                </span>\\n\\t            </div><a href=\"/browse.xhtml;jsessionid=DC4502E16D7B9A991BCD59D11158FC7E\"><img src=\"/javax.faces.resource/transparent.gif.xhtml?ln=images\" style=\"position: absolute; top: 0px; left: 0px; width: 100%; height: 31px; cursor: pointer; border: none;\" /></a>\\n\\t        </div>\\n        <!-- </c:if> -->\\n\\t\\t<!-- <c:if test=\"true\"> --> <!-- class=\"children_item_-1\" -->\\n\\t        <div id=\"item_CURRENCY1\" onclick=\"showHideChildren(\\'item_CURRENCY1\\',\\'false\\',\\'-1\\');\" class=\"child_item_-1 main_item\" style=\"position: relative; top: 0px; left: 0px; width: 100%; height: 31px; overflow: visible;\">\\n\\t            <span id=\"item_CURRENCY1\" style=\"width: 100%; height: 31px;\"><img src=\"/javax.faces.resource/u6.png.xhtml?ln=images\" style=\"width: 100%; height: 31px;\" />\\n\\t            </span>\\n\\t            <div style=\"position: absolute; left: 16px; top: 6px; width: 100%; height: 18px; font-family: Arial; text-align: left; word-wrap: break-word; cursor: pointer;\">\\n\\t                <span id=\"text_CURRENCY1\" class=\"item_text\" style=\"font-family: \\'Calibri\\'; color: rgb(49, 28, 26); font-size: 15px; font-weight: bold;\">\\n\\t                    Currency and Updating\\n\\t                </span>\\n\\t            </div><a href=\"/currency/currency.shtml;jsessionid=DC4502E16D7B9A991BCD59D11158FC7E\"><img src=\"/javax.faces.resource/transparent.gif.xhtml?ln=images\" style=\"position: absolute; top: 0px; left: 0px; width: 100%; height: 31px; cursor: pointer; border: none;\" /></a>\\n\\t        </div>\\n        <!-- </c:if> -->\\n\\t\\t<!-- <c:if test=\"true\"> --> <!-- class=\"children_item_-1\" -->\\n\\t        <div id=\"item_CLASSIFICATION_TABLES\" onclick=\"showHideChildren(\\'item_CLASSIFICATION_TABLES\\',\\'false\\',\\'-1\\');\" class=\"child_item_-1 main_item\" style=\"position: relative; top: 0px; left: 0px; width: 100%; height: 31px; overflow: visible;\">\\n\\t            <span id=\"item_CLASSIFICATION_TABLES\" style=\"width: 100%; height: 31px;\"><img src=\"/javax.faces.resource/u6.png.xhtml?ln=images\" style=\"width: 100%; height: 31px;\" />\\n\\t            </span>\\n\\t            <div style=\"position: absolute; left: 16px; top: 6px; width: 100%; height: 18px; font-family: Arial; text-align: left; word-wrap: break-word; cursor: pointer;\">\\n\\t                <span id=\"text_CLASSIFICATION_TABLES\" class=\"item_text\" style=\"font-family: \\'Calibri\\'; color: rgb(49, 28, 26); font-size: 15px; font-weight: bold;\">\\n\\t                    Classification Tables\\n\\t                </span>\\n\\t            </div><a href=\"/classification/tables.shtml;jsessionid=DC4502E16D7B9A991BCD59D11158FC7E\"><img src=\"/javax.faces.resource/transparent.gif.xhtml?ln=images\" style=\"position: absolute; top: 0px; left: 0px; width: 100%; height: 31px; cursor: pointer; border: none;\" /></a>\\n\\t        </div>\\n        <!-- </c:if> -->\\n\\t\\t<!-- <c:if test=\"true\"> --> <!-- class=\"children_item_-1\" -->\\n\\t        <div id=\"item_POPULAR_NAME_TOOL\" onclick=\"showHideChildren(\\'item_POPULAR_NAME_TOOL\\',\\'false\\',\\'-1\\');\" class=\"child_item_-1 main_item\" style=\"position: relative; top: 0px; left: 0px; width: 100%; height: 31px; overflow: visible;\">\\n\\t            <span id=\"item_POPULAR_NAME_TOOL\" style=\"width: 100%; height: 31px;\"><img src=\"/javax.faces.resource/u6.png.xhtml?ln=images\" style=\"width: 100%; height: 31px;\" />\\n\\t            </span>\\n\\t            <div style=\"position: absolute; left: 16px; top: 6px; width: 100%; height: 18px; font-family: Arial; text-align: left; word-wrap: break-word; cursor: pointer;\">\\n\\t                <span id=\"text_POPULAR_NAME_TOOL\" class=\"item_text\" style=\"font-family: \\'Calibri\\'; color: rgb(49, 28, 26); font-size: 15px; font-weight: bold;\">\\n\\t                    Popular Name Tool\\n\\t                </span>\\n\\t            </div><a href=\"/popularnames/popularnames.htm;jsessionid=DC4502E16D7B9A991BCD59D11158FC7E\"><img src=\"/javax.faces.resource/transparent.gif.xhtml?ln=images\" style=\"position: absolute; top: 0px; left: 0px; width: 100%; height: 31px; cursor: pointer; border: none;\" /></a>\\n\\t        </div>\\n        <!-- </c:if> -->\\n\\t\\t<!-- <c:if test=\"true\"> --> <!-- class=\"children_item_-1\" -->\\n\\t        <div id=\"item_OTHER_TABLES_TOOLS\" onclick=\"showHideChildren(\\'item_OTHER_TABLES_TOOLS\\',\\'true\\',\\'-1\\');\" class=\"child_item_-1 main_item\" style=\"position: relative; top: 0px; left: 0px; width: 100%; height: 31px; overflow: visible;\">\\n\\t            <span id=\"item_OTHER_TABLES_TOOLS\" style=\"width: 100%; height: 31px;\"><img src=\"/javax.faces.resource/u6.png.xhtml?ln=images\" style=\"width: 100%; height: 31px;\" />\\n\\t            </span>\\n\\t            <div style=\"position: absolute; left: 16px; top: 6px; width: 100%; height: 18px; font-family: Arial; text-align: left; word-wrap: break-word; cursor: pointer;\">\\n\\t                <span id=\"text_OTHER_TABLES_TOOLS\" class=\"item_text\" style=\"font-family: \\'Calibri\\'; color: rgb(49, 28, 26); font-size: 15px; font-weight: bold;\">\\n\\t                    Other OLRC Tables and Tools\\n\\t                </span>\\n\\t            </div><a href=\"#.xhtml\"><img src=\"/javax.faces.resource/transparent.gif.xhtml?ln=images\" style=\"position: absolute; top: 0px; left: 0px; width: 100%; height: 31px; cursor: pointer; border: none;\" /></a>\\n\\t        </div>\\n        <!-- </c:if> -->\\n\\t\\t<!-- <c:if test=\"false\"> --> <!-- class=\"children_item_OTHER_TABLES_TOOLS\" -->\\n\\t        <div id=\"item_CITE_CHECKER\" onclick=\"showHideChildren(\\'item_CITE_CHECKER\\',\\'false\\',\\'OTHER_TABLES_TOOLS\\');\" class=\"child_item_OTHER_TABLES_TOOLS children\" style=\"position: relative; top: 0px; left: 0px; width: 100%; height: 31px; overflow: visible;\">\\n\\t            <span id=\"item_CITE_CHECKER\" style=\"width: 100%; height: 31px;\"><img src=\"/javax.faces.resource/u6.png.xhtml?ln=images\" style=\"width: 100%; height: 31px;\" />\\n\\t            </span>\\n\\t            <div style=\"position: absolute; left: 16px; top: 6px; width: 100%; height: 18px; font-family: Arial; text-align: left; word-wrap: break-word; cursor: pointer;\">\\n\\t                <span id=\"text_CITE_CHECKER\" class=\"subitem_text\" style=\"font-family: \\'Calibri\\'; color: rgb(49, 28, 26); font-size: 15px; font-weight: bold;\">\\n\\t                    Cite Checker\\n\\t                </span>\\n\\t            </div><a href=\"/cite.xhtml;jsessionid=DC4502E16D7B9A991BCD59D11158FC7E\"><img src=\"/javax.faces.resource/transparent.gif.xhtml?ln=images\" style=\"position: absolute; top: 0px; left: 0px; width: 100%; height: 31px; cursor: pointer; border: none;\" /></a>\\n\\t        </div>\\n        <!-- </c:if> -->\\n\\t\\t<!-- <c:if test=\"false\"> --> <!-- class=\"children_item_OTHER_TABLES_TOOLS\" -->\\n\\t        <div id=\"item_TABLEIII\" onclick=\"showHideChildren(\\'item_TABLEIII\\',\\'false\\',\\'OTHER_TABLES_TOOLS\\');\" class=\"child_item_OTHER_TABLES_TOOLS children\" style=\"position: relative; top: 0px; left: 0px; width: 100%; height: 31px; overflow: visible;\">\\n\\t            <span id=\"item_TABLEIII\" style=\"width: 100%; height: 31px;\"><img src=\"/javax.faces.resource/u6.png.xhtml?ln=images\" style=\"width: 100%; height: 31px;\" />\\n\\t            </span>\\n\\t            <div style=\"position: absolute; left: 16px; top: 6px; width: 100%; height: 18px; font-family: Arial; text-align: left; word-wrap: break-word; cursor: pointer;\">\\n\\t                <span id=\"text_TABLEIII\" class=\"subitem_text\" style=\"font-family: \\'Calibri\\'; color: rgb(49, 28, 26); font-size: 15px; font-weight: bold;\">\\n\\t                    Table III - Statutes at Large\\n\\t                </span>\\n\\t            </div><a href=\"/table3/table3years.htm;jsessionid=DC4502E16D7B9A991BCD59D11158FC7E\"><img src=\"/javax.faces.resource/transparent.gif.xhtml?ln=images\" style=\"position: absolute; top: 0px; left: 0px; width: 100%; height: 31px; cursor: pointer; border: none;\" /></a>\\n\\t        </div>\\n        <!-- </c:if> -->\\n\\t\\t<!-- <c:if test=\"false\"> --> <!-- class=\"children_item_OTHER_TABLES_TOOLS\" -->\\n\\t        <div id=\"item_OTHER_TABLES\" onclick=\"showHideChildren(\\'item_OTHER_TABLES\\',\\'false\\',\\'OTHER_TABLES_TOOLS\\');\" class=\"child_item_OTHER_TABLES_TOOLS children\" style=\"position: relative; top: 0px; left: 0px; width: 100%; height: 31px; overflow: visible;\">\\n\\t            <span id=\"item_OTHER_TABLES\" style=\"width: 100%; height: 31px;\"><img src=\"/javax.faces.resource/u6.png.xhtml?ln=images\" style=\"width: 100%; height: 31px;\" />\\n\\t            </span>\\n\\t            <div style=\"position: absolute; left: 16px; top: 6px; width: 100%; height: 18px; font-family: Arial; text-align: left; word-wrap: break-word; cursor: pointer;\">\\n\\t                <span id=\"text_OTHER_TABLES\" class=\"subitem_text\" style=\"font-family: \\'Calibri\\'; color: rgb(49, 28, 26); font-size: 15px; font-weight: bold;\">\\n\\t                    Other Tables\\n\\t                </span>\\n\\t            </div><a href=\"/tables/usctable1.htm;jsessionid=DC4502E16D7B9A991BCD59D11158FC7E\"><img src=\"/javax.faces.resource/transparent.gif.xhtml?ln=images\" style=\"position: absolute; top: 0px; left: 0px; width: 100%; height: 31px; cursor: pointer; border: none;\" /></a>\\n\\t        </div>\\n        <!-- </c:if> -->\\n\\t\\t<!-- <c:if test=\"true\"> --> <!-- class=\"children_item_-1\" -->\\n\\t        <div id=\"item_UNDERSTANTING\" onclick=\"showHideChildren(\\'item_UNDERSTANTING\\',\\'true\\',\\'-1\\');\" class=\"child_item_-1 main_item\" style=\"position: relative; top: 0px; left: 0px; width: 100%; height: 31px; overflow: visible;\">\\n\\t            <span id=\"item_UNDERSTANTING\" style=\"width: 100%; height: 31px;\"><img src=\"/javax.faces.resource/u6.png.xhtml?ln=images\" style=\"width: 100%; height: 31px;\" />\\n\\t            </span>\\n\\t            <div style=\"position: absolute; left: 16px; top: 6px; width: 100%; height: 18px; font-family: Arial; text-align: left; word-wrap: break-word; cursor: pointer;\">\\n\\t                <span id=\"text_UNDERSTANTING\" class=\"item_text\" style=\"font-family: \\'Calibri\\'; color: rgb(49, 28, 26); font-size: 15px; font-weight: bold;\">\\n\\t                    Understanding the Code\\n\\t                </span>\\n\\t            </div><a href=\"#.xhtml\"><img src=\"/javax.faces.resource/transparent.gif.xhtml?ln=images\" style=\"position: absolute; top: 0px; left: 0px; width: 100%; height: 31px; cursor: pointer; border: none;\" /></a>\\n\\t        </div>\\n        <!-- </c:if> -->\\n\\t\\t<!-- <c:if test=\"false\"> --> <!-- class=\"children_item_UNDERSTANTING\" -->\\n\\t        <div id=\"item_ABOUT_CODE\" onclick=\"showHideChildren(\\'item_ABOUT_CODE\\',\\'false\\',\\'UNDERSTANTING\\');\" class=\"child_item_UNDERSTANTING children\" style=\"position: relative; top: 0px; left: 0px; width: 100%; height: 31px; overflow: visible;\">\\n\\t            <span id=\"item_ABOUT_CODE\" style=\"width: 100%; height: 31px;\"><img src=\"/javax.faces.resource/u6.png.xhtml?ln=images\" style=\"width: 100%; height: 31px;\" />\\n\\t            </span>\\n\\t            <div style=\"position: absolute; left: 16px; top: 6px; width: 100%; height: 18px; font-family: Arial; text-align: left; word-wrap: break-word; cursor: pointer;\">\\n\\t                <span id=\"text_ABOUT_CODE\" class=\"subitem_text\" style=\"font-family: \\'Calibri\\'; color: rgb(49, 28, 26); font-size: 15px; font-weight: bold;\">\\n\\t                    About the Code and Website\\n\\t                </span>\\n\\t            </div><a href=\"/about_code.xhtml;jsessionid=DC4502E16D7B9A991BCD59D11158FC7E\"><img src=\"/javax.faces.resource/transparent.gif.xhtml?ln=images\" style=\"position: absolute; top: 0px; left: 0px; width: 100%; height: 31px; cursor: pointer; border: none;\" /></a>\\n\\t        </div>\\n        <!-- </c:if> -->\\n\\t\\t<!-- <c:if test=\"false\"> --> <!-- class=\"children_item_UNDERSTANTING\" -->\\n\\t        <div id=\"item_ABOUT_CLASSIFICATION\" onclick=\"showHideChildren(\\'item_ABOUT_CLASSIFICATION\\',\\'false\\',\\'UNDERSTANTING\\');\" class=\"child_item_UNDERSTANTING children\" style=\"position: relative; top: 0px; left: 0px; width: 100%; height: 31px; overflow: visible;\">\\n\\t            <span id=\"item_ABOUT_CLASSIFICATION\" style=\"width: 100%; height: 31px;\"><img src=\"/javax.faces.resource/u6.png.xhtml?ln=images\" style=\"width: 100%; height: 31px;\" />\\n\\t            </span>\\n\\t            <div style=\"position: absolute; left: 16px; top: 6px; width: 100%; height: 18px; font-family: Arial; text-align: left; word-wrap: break-word; cursor: pointer;\">\\n\\t                <span id=\"text_ABOUT_CLASSIFICATION\" class=\"subitem_text\" style=\"font-family: \\'Calibri\\'; color: rgb(49, 28, 26); font-size: 15px; font-weight: bold;\">\\n\\t                    About Classification\\n\\t                </span>\\n\\t            </div><a href=\"/about_classification.xhtml;jsessionid=DC4502E16D7B9A991BCD59D11158FC7E\"><img src=\"/javax.faces.resource/transparent.gif.xhtml?ln=images\" style=\"position: absolute; top: 0px; left: 0px; width: 100%; height: 31px; cursor: pointer; border: none;\" /></a>\\n\\t        </div>\\n        <!-- </c:if> -->\\n\\t\\t<!-- <c:if test=\"false\"> --> <!-- class=\"children_item_UNDERSTANTING\" -->\\n\\t        <div id=\"item_DETAILED_GUIDE\" onclick=\"showHideChildren(\\'item_DETAILED_GUIDE\\',\\'false\\',\\'UNDERSTANTING\\');\" class=\"child_item_UNDERSTANTING children\" style=\"position: relative; top: 0px; left: 0px; width: 100%; height: 31px; overflow: visible;\">\\n\\t            <span id=\"item_DETAILED_GUIDE\" style=\"width: 100%; height: 31px;\"><img src=\"/javax.faces.resource/u6.png.xhtml?ln=images\" style=\"width: 100%; height: 31px;\" />\\n\\t            </span>\\n\\t            <div style=\"position: absolute; left: 16px; top: 6px; width: 100%; height: 18px; font-family: Arial; text-align: left; word-wrap: break-word; cursor: pointer;\">\\n\\t                <span id=\"text_DETAILED_GUIDE\" class=\"subitem_text\" style=\"font-family: \\'Calibri\\'; color: rgb(49, 28, 26); font-size: 15px; font-weight: bold;\">\\n\\t                    Detailed Guide to the Code\\n\\t                </span>\\n\\t            </div><a href=\"/detailed_guide.xhtml;jsessionid=DC4502E16D7B9A991BCD59D11158FC7E\"><img src=\"/javax.faces.resource/transparent.gif.xhtml?ln=images\" style=\"position: absolute; top: 0px; left: 0px; width: 100%; height: 31px; cursor: pointer; border: none;\" /></a>\\n\\t        </div>\\n        <!-- </c:if> -->\\n\\t\\t<!-- <c:if test=\"false\"> --> <!-- class=\"children_item_UNDERSTANTING\" -->\\n\\t        <div id=\"item_FAQ\" onclick=\"showHideChildren(\\'item_FAQ\\',\\'false\\',\\'UNDERSTANTING\\');\" class=\"child_item_UNDERSTANTING children\" style=\"position: relative; top: 0px; left: 0px; width: 100%; height: 31px; overflow: visible;\">\\n\\t            <span id=\"item_FAQ\" style=\"width: 100%; height: 31px;\"><img src=\"/javax.faces.resource/u6.png.xhtml?ln=images\" style=\"width: 100%; height: 31px;\" />\\n\\t            </span>\\n\\t            <div style=\"position: absolute; left: 16px; top: 6px; width: 100%; height: 18px; font-family: Arial; text-align: left; word-wrap: break-word; cursor: pointer;\">\\n\\t                <span id=\"text_FAQ\" class=\"subitem_text\" style=\"font-family: \\'Calibri\\'; color: rgb(49, 28, 26); font-size: 15px; font-weight: bold;\">\\n\\t                    FAQ and Glossary\\n\\t                </span>\\n\\t            </div><a href=\"/faq.xhtml;jsessionid=DC4502E16D7B9A991BCD59D11158FC7E\"><img src=\"/javax.faces.resource/transparent.gif.xhtml?ln=images\" style=\"position: absolute; top: 0px; left: 0px; width: 100%; height: 31px; cursor: pointer; border: none;\" /></a>\\n\\t        </div>\\n        <!-- </c:if> -->\\n\\t\\t<!-- <c:if test=\"true\"> --> <!-- class=\"children_item_-1\" -->\\n\\t        <div id=\"item_POSITIVE_LAW\" onclick=\"showHideChildren(\\'item_POSITIVE_LAW\\',\\'false\\',\\'-1\\');\" class=\"child_item_-1 main_item\" style=\"position: relative; top: 0px; left: 0px; width: 100%; height: 31px; overflow: visible;\">\\n\\t            <span id=\"item_POSITIVE_LAW\" style=\"width: 100%; height: 31px;\"><img src=\"/javax.faces.resource/u6.png.xhtml?ln=images\" style=\"width: 100%; height: 31px;\" />\\n\\t            </span>\\n\\t            <div style=\"position: absolute; left: 16px; top: 6px; width: 100%; height: 18px; font-family: Arial; text-align: left; word-wrap: break-word; cursor: pointer;\">\\n\\t                <span id=\"text_POSITIVE_LAW\" class=\"item_text\" style=\"font-family: \\'Calibri\\'; color: rgb(49, 28, 26); font-size: 15px; font-weight: bold;\">\\n\\t                    Positive Law Codification\\n\\t                </span>\\n\\t            </div><a href=\"/codification/legislation.shtml;jsessionid=DC4502E16D7B9A991BCD59D11158FC7E\"><img src=\"/javax.faces.resource/transparent.gif.xhtml?ln=images\" style=\"position: absolute; top: 0px; left: 0px; width: 100%; height: 31px; cursor: pointer; border: none;\" /></a>\\n\\t        </div>\\n        <!-- </c:if> -->\\n\\t\\t<!-- <c:if test=\"true\"> --> <!-- class=\"children_item_-1\" -->\\n\\t        <div id=\"item_EDITORIAL_RECLASSIFICATION\" onclick=\"showHideChildren(\\'item_EDITORIAL_RECLASSIFICATION\\',\\'false\\',\\'-1\\');\" class=\"child_item_-1 main_item\" style=\"position: relative; top: 0px; left: 0px; width: 100%; height: 31px; overflow: visible;\">\\n\\t            <span id=\"item_EDITORIAL_RECLASSIFICATION\" style=\"width: 100%; height: 31px;\"><img src=\"/javax.faces.resource/u6.png.xhtml?ln=images\" style=\"width: 100%; height: 31px;\" />\\n\\t            </span>\\n\\t            <div style=\"position: absolute; left: 16px; top: 6px; width: 100%; height: 18px; font-family: Arial; text-align: left; word-wrap: break-word; cursor: pointer;\">\\n\\t                <span id=\"text_EDITORIAL_RECLASSIFICATION\" class=\"item_text\" style=\"font-family: \\'Calibri\\'; color: rgb(49, 28, 26); font-size: 15px; font-weight: bold;\">\\n\\t                    Editorial Reclassification\\n\\t                </span>\\n\\t            </div><a href=\"/editorialreclassification/reclassification.html;jsessionid=DC4502E16D7B9A991BCD59D11158FC7E\"><img src=\"/javax.faces.resource/transparent.gif.xhtml?ln=images\" style=\"position: absolute; top: 0px; left: 0px; width: 100%; height: 31px; cursor: pointer; border: none;\" /></a>\\n\\t        </div>\\n        <!-- </c:if> -->\\n\\t\\t<!-- <c:if test=\"true\"> --> <!-- class=\"children_item_-1\" -->\\n\\t        <div id=\"item_DOWNLOADS\" onclick=\"showHideChildren(\\'item_DOWNLOADS\\',\\'false\\',\\'-1\\');\" class=\"child_item_-1 main_item\" style=\"position: relative; top: 0px; left: 0px; width: 100%; height: 31px; overflow: visible;\">\\n\\t            <span id=\"item_DOWNLOADS\" style=\"width: 100%; height: 31px;\"><img src=\"/javax.faces.resource/u29.png.xhtml?ln=images\" style=\"width: 100%; height: 31px;\" />\\n\\t            </span>\\n\\t            <div style=\"position: absolute; left: 16px; top: 6px; width: 100%; height: 18px; font-family: Arial; text-align: left; word-wrap: break-word; cursor: pointer;\">\\n\\t                <span id=\"text_DOWNLOADS\" class=\"item_text\" style=\"font-family: \\'Calibri\\'; color: rgb(0, 0, 0); font-size: 15px; font-weight: bold;\">\\n\\t                    Downloads\\n\\t                </span>\\n\\t            </div><a href=\"/download/download.shtml;jsessionid=DC4502E16D7B9A991BCD59D11158FC7E\"><img src=\"/javax.faces.resource/transparent.gif.xhtml?ln=images\" style=\"position: absolute; top: 0px; left: 0px; width: 100%; height: 31px; cursor: pointer; border: none;\" /></a>\\n\\t        </div>\\n        <!-- </c:if> -->\\n\\t\\t<!-- <c:if test=\"true\"> --> <!-- class=\"children_item_-1\" -->\\n\\t        <div id=\"item_OTHER_RESOURCES\" onclick=\"showHideChildren(\\'item_OTHER_RESOURCES\\',\\'true\\',\\'-1\\');\" class=\"child_item_-1 main_item\" style=\"position: relative; top: 0px; left: 0px; width: 100%; height: 31px; overflow: visible;\">\\n\\t            <span id=\"item_OTHER_RESOURCES\" style=\"width: 100%; height: 31px;\"><img src=\"/javax.faces.resource/u6.png.xhtml?ln=images\" style=\"width: 100%; height: 31px;\" />\\n\\t            </span>\\n\\t            <div style=\"position: absolute; left: 16px; top: 6px; width: 100%; height: 18px; font-family: Arial; text-align: left; word-wrap: break-word; cursor: pointer;\">\\n\\t                <span id=\"text_OTHER_RESOURCES\" class=\"item_text\" style=\"font-family: \\'Calibri\\'; color: rgb(49, 28, 26); font-size: 15px; font-weight: bold;\">\\n\\t                    Other Legislative Resources\\n\\t                </span>\\n\\t            </div><a href=\"#.xhtml\"><img src=\"/javax.faces.resource/transparent.gif.xhtml?ln=images\" style=\"position: absolute; top: 0px; left: 0px; width: 100%; height: 31px; cursor: pointer; border: none;\" /></a>\\n\\t        </div>\\n        <!-- </c:if> -->\\n\\t\\t<!-- <c:if test=\"false\"> --> <!-- class=\"children_item_OTHER_RESOURCES\" -->\\n\\t        <div id=\"item_CONGRESS_GOV\" onclick=\"showHideChildren(\\'item_CONGRESS_GOV\\',\\'false\\',\\'OTHER_RESOURCES\\');\" class=\"child_item_OTHER_RESOURCES children\" style=\"position: relative; top: 0px; left: 0px; width: 100%; height: 31px; overflow: visible;\">\\n\\t            <span id=\"item_CONGRESS_GOV\" style=\"width: 100%; height: 31px;\"><img src=\"/javax.faces.resource/u6.png.xhtml?ln=images\" style=\"width: 100%; height: 31px;\" />\\n\\t            </span>\\n\\t            <div style=\"position: absolute; left: 16px; top: 6px; width: 100%; height: 18px; font-family: Arial; text-align: left; word-wrap: break-word; cursor: pointer;\">\\n\\t                <span id=\"text_CONGRESS_GOV\" class=\"subitem_text\" style=\"font-family: \\'Calibri\\'; color: rgb(49, 28, 26); font-size: 15px; font-weight: bold;\">\\n\\t                    CONGRESS.GOV\\n\\t                </span>\\n\\t            </div><a href=\"https://congress.gov/\"><img src=\"/javax.faces.resource/transparent.gif.xhtml?ln=images\" style=\"position: absolute; top: 0px; left: 0px; width: 100%; height: 31px; cursor: pointer; border: none;\" /></a>\\n\\t        </div>\\n        <!-- </c:if> -->\\n\\t\\t<!-- <c:if test=\"false\"> --> <!-- class=\"children_item_OTHER_RESOURCES\" -->\\n\\t        <div id=\"item_GOVINFO\" onclick=\"showHideChildren(\\'item_GOVINFO\\',\\'false\\',\\'OTHER_RESOURCES\\');\" class=\"child_item_OTHER_RESOURCES children\" style=\"position: relative; top: 0px; left: 0px; width: 100%; height: 31px; overflow: visible;\">\\n\\t            <span id=\"item_GOVINFO\" style=\"width: 100%; height: 31px;\"><img src=\"/javax.faces.resource/u6.png.xhtml?ln=images\" style=\"width: 100%; height: 31px;\" />\\n\\t            </span>\\n\\t            <div style=\"position: absolute; left: 16px; top: 6px; width: 100%; height: 18px; font-family: Arial; text-align: left; word-wrap: break-word; cursor: pointer;\">\\n\\t                <span id=\"text_GOVINFO\" class=\"subitem_text\" style=\"font-family: \\'Calibri\\'; color: rgb(49, 28, 26); font-size: 15px; font-weight: bold;\">\\n\\t                    govinfo\\n\\t                </span>\\n\\t            </div><a href=\"https://www.govinfo.gov\"><img src=\"/javax.faces.resource/transparent.gif.xhtml?ln=images\" style=\"position: absolute; top: 0px; left: 0px; width: 100%; height: 31px; cursor: pointer; border: none;\" /></a>\\n\\t        </div>\\n        <!-- </c:if> -->\\n\\t\\t<!-- <c:if test=\"false\"> --> <!-- class=\"children_item_OTHER_RESOURCES\" -->\\n\\t        <div id=\"item_HOLC_STATUTE_COMPILATIONS\" onclick=\"showHideChildren(\\'item_HOLC_STATUTE_COMPILATIONS\\',\\'false\\',\\'OTHER_RESOURCES\\');\" class=\"child_item_OTHER_RESOURCES children\" style=\"position: relative; top: 0px; left: 0px; width: 100%; height: 31px; overflow: visible;\">\\n\\t            <span id=\"item_HOLC_STATUTE_COMPILATIONS\" style=\"width: 100%; height: 31px;\"><img src=\"/javax.faces.resource/u6.png.xhtml?ln=images\" style=\"width: 100%; height: 31px;\" />\\n\\t            </span>\\n\\t            <div style=\"position: absolute; left: 16px; top: 6px; width: 100%; height: 18px; font-family: Arial; text-align: left; word-wrap: break-word; cursor: pointer;\">\\n\\t                <span id=\"text_HOLC_STATUTE_COMPILATIONS\" class=\"subitem_text\" style=\"font-family: \\'Calibri\\'; color: rgb(49, 28, 26); font-size: 15px; font-weight: bold;\">\\n\\t                    HOLC Statutory Compilations\\n\\t                </span>\\n\\t            </div><a href=\"https://legcounsel.house.gov/HOLC/Resources/comps_alpha.html\"><img src=\"/javax.faces.resource/transparent.gif.xhtml?ln=images\" style=\"position: absolute; top: 0px; left: 0px; width: 100%; height: 31px; cursor: pointer; border: none;\" /></a>\\n\\t        </div>\\n        <!-- </c:if> -->\\n        <script type=\"text/javascript\"><!--\\n           menu_init(\\'DOWNLOADS\\');\\n        --></script>\\n    </div>\\n</div>\\n                <div id=\"content\" class=\"page_content\">\\n                    <div class=\"page_content_internal\"><head><title>DOWNLOAD THE UNITED STATES CODE</title></head>\\n\\n\\n\\n<style>\\n\\n  div.pageframe{\\n   border-style:solid;\\n   border-width:5px;\\n   padding:3px;\\n   border-color:rgb(187, 154, 74);\\n   width:800px;\\n   overflow: auto;\\n  }\\n\\n\\n\\n  div.uscitemlist{\\n   padding: 15px;\\n   width:750px;\\n  }\\n\\n div.uscitem{\\n  width: 750px;\\n  overflow:hidden;\\n }\\n \\n\\t div.uscitemblank{\\n  width: 750px;\\n  overflow:hidden;\\n }\\n\\tdiv.uscitem:hover{\\n\\t\\tbackground-color:rgb(225, 210, 174); \\n\\t}\\n\\t \\n  div.usctitle{\\n   float:left;\\n   text-align:left;\\n   text-indent: -70px;\\n   padding-left: 70px;\\n  }\\n\\n  \\n  div.usctitlechanged{\\n   float:left;\\n   text-align:left;\\n   text-indent: -70px;\\n   padding-left: 70px;\\n   font-weight: bold;\\n  }\\n  \\n  \\n    div.usctitleminoreditorialchange{\\n   float:left;\\n   text-align:left;\\n   text-indent: -70px;\\n   padding-left: 70px;\\n   color: Grey;\\n   font-weight: bold;\\n  }\\n\\n\\n\\n\\t\\t\\n  div.usctitle#alltitles{\\n   float:left;\\n   text-align:left;\\n   text-indent: -70px;\\n   padding-left: 70px;\\n  }\\n\\n\\t\\t\\n\\n  div.usctitleappendix{\\n   float:left;\\n   text-align:left;\\n   padding-left:70px;\\n   font-style:italic;\\n  }\\n\\n\\n  div.usctitleappendixchanged{\\n   float:left;\\n   text-align:left;\\n   padding-left:70px;\\n   font-style:italic;\\n   font-weight: bold;\\n  }\\n\\n  div.itemcurrency{\\n   display:none;\\n  }\\n\\n\\n  div.usctitleheading{\\n   float:left;\\n   width:350px;\\n   text-align:left;\\n   text-indent: -70px;\\n   padding-left: 70px;\\n   font-size: smaller;\\n   text-decoration: underline;\\n  }\\n\\n\\t\\t\\n\\n  div.currencyheading{\\n   display:none;\\n  }\\n\\n\\n\\n  div.itemdownloadlinks{\\n   float:right;\\n   text-align:right;\\n   font-size: smaller;\\n  }\\n\\n\\n  div.schemacss{\\n   padding-left:30px;\\n   font-style:italic;\\n   font-size: 90%;\\n  }\\n\\n\\t\\t\\n\\n  a{\\n   color:rgb(111, 11, 11);\\n  }\\n\\n\\n\\n  span.deadlink{\\n   color:grey;\\n   text-decoration: underline;\\n   cursor: default;\\n  }\\n\\n\\n\\n  h3.releasepointinformation{\\n   text-indent: 10px;\\n   font-style: italic;\\n   font-size: larger;\\n   margin-bottom: 0px;\\n  }\\n\\n\\t\\t\\n\\n   h3.releasepointinformationline2{\\n\\t\\t\\t\\ttext-indent: 10px;\\n\\t\\t\\t\\tfont-weight: normal;\\n\\t\\t\\t\\tcolor: black;\\n\\t\\t\\t\\tmargin-top: 0px;\\n\\t\\t}\\n\\n\\t\\t\\n\\n\\t\\th4.inpageheader{\\n\\t\\t text-indent: 10px;\\n\\t\\t margin-bottom: 0px;\\n\\t\\t padding-bottom: 0px;\\n\\t\\t}\\n\\n\\n\\n\\t\\tp.uscxmlresources{\\n\\t\\t padding-top: 0px;\\n\\t\\t margin-top: 15px;\\n\\t\\t text-indent: 0px;\\n\\t\\t}\\n\\n\\t\\t\\n\\n\\t\\tp.releasepointdescription{\\n\\t\\t\\ttext-indent: 0px;\\n   margin-top: 15px;\\t\\t\\t\\n\\t\\t}\\n\\n\\n\\n\\t\\thr.textbreak{\\n\\t\\t\\twidth: 400px;\\n\\t\\t}\\n\\n\\t\\t\\n</style>\\n\\n\\t\\t  <div class=\"pageframe\">\\n\\n\\n<h2>Current Release Point</h2>\\n<h3 class=\"releasepointinformation\">Public Law 116-29 (07/5/2019)</h3>\\n\\n<p class=\"releasepointdescription\">\\nEach update of the United States Code is a release point. This page provides downloadable files for the current release point. All files are current through Public Law 116-29 (07/5/2019). Titles in <b>bold</b> have been changed since the last release point.\\n</p>\\n\\n\\n<p class=\"uscxmlresources\">A <a href=\"resources/USLM-User-Guide.pdf\">User Guide</a> and the <a href=\"resources/schemaandcss.zip\">USLM Schema and stylesheet</a> are provided for the United States Code in XML. A <a href=\"resources/uscxhtmlcss.zip\">stylesheet</a> is provided for the XHTML. PCC files are text files containing <a href=\"http://www.gpo.gov\">GPO</a> <b>p</b>hoto<b>c</b>omposition <b>c</b>odes (i.e., locators).\\n</p>\\n\\n  \\t\\t\\n<p class=\"releasepointdescription\">Information about the currency of United States Code titles is available on the <a href=\"http://uscode.house.gov/currency/currency.shtml\">Currency</a> page.  Files for prior release points are available on the <a href=\"priorreleasepoints.htm\">Prior Release Points</a> page. Older materials are available on the <a href=\"annualhistoricalarchives/annualhistoricalarchives.htm\">Annual Historical Archives</a> page.</p>\\n\\n\\t\\t\\n  \\n  \\n\\t\\t<br/>\\n\\t\\t<hr class=\"textbreak\"/>\\n\\n\\n\\n\\n\\n\\t\\n\\n\\t\\t\\t\\t\\t\\t<div class=uscitemlist>\\n\\n\\t\\t\\t\\t\\t\\t<div class=\"uscitem\">\\n\\n        <div class=\"usctitle\" id=\"alltitles\">\\n\\n          All titles in the format selected compressed into a zip archive.\\n\\n        </div>\\n\\n\\n\\n        <div class=\"itemcurrency\">\\n\\n          &nbsp;\\n\\n        </div>\\n\\n\\n\\n        <div class=\"itemdownloadlinks\">\\n\\n          <a href=\"releasepoints/us/pl/116/29/xml_uscAll@116-29.zip\" title=\"All USC Titles in XML\">[XML]</a>&nbsp;<a href=\"releasepoints/us/pl/116/29/htm_uscAll@116-29.zip\" title=\"All USC Titles in XHTML\">[XHTML]</a>&nbsp;<a href=\"releasepoints/us/pl/116/29/pcc_uscAll@116-29.zip\" title=\"All USC Titles in PCC\">[PCC]</a>&nbsp;<a href=\"releasepoints/us/pl/116/29/pdf_uscAll@116-29.zip\" title=\"All USC Titles in PDF\">[PDF]</a>\\n\\n        </div>\\n\\n      </div>\\n\\n\\t\\t\\t\\t\\t\\t\\n\\n\\t\\t\\t\\t\\t\\t<div class=\"uscitemblank\">\\n\\n\\t        <div class=\"usctitle\" id=\"heading\">\\n\\n             &nbsp;\\n\\n\\t        </div>\\n\\n\\n\\n\\t        <div class=\"currencyheading\">\\n\\n\\t          &nbsp;\\n\\n\\t        </div>\\n\\n\\n\\n\\t        <div class=\"itemdownloadlinks\">\\n\\n          &nbsp;\\n\\n\\t        </div>\\n\\n\\t      </div>\\n\\n\\t\\t\\t\\t\\t\\t\\n\\n      <div>\\n\\n\\t        <div class=\"usctitleheading\" id=\"heading\">\\n\\n             Individual Titles \\n\\n\\t        </div>\\n\\n\\n\\n\\t        <div class=\"currencyheading\">\\n\\n\\t          Current Through\\n\\n\\t        </div>\\n\\n\\n\\n\\t        <div class=\"itemdownloadlinks\">\\n\\n          &nbsp;\\n\\n\\t        </div>\\n\\n\\t      </div>\\n\\n\\n\\n\\n\\n      <div class=\"uscitem\">\\n\\n        <div class=\"usctitle\" id=\"us/usc/t1\">\\n\\n          Title 1 - General Provisions\\n\\n        </div>\\n\\n\\n\\n        <div class=\"itemcurrency\">\\n\\n          116-29\\n\\n        </div>\\n\\n\\n\\n        <div class=\"itemdownloadlinks\">\\n\\n          <a href=\"releasepoints/us/pl/116/29/xml_usc01@116-29.zip\" title=\"Title 1 XML\">[XML]</a>&nbsp;<a href=\"releasepoints/us/pl/116/29/htm_usc01@116-29.zip\" title=\"Title 1 XHTML\">[XHTML]</a>&nbsp;<a href=\"releasepoints/us/pl/116/29/pcc_usc01@116-29.zip\" title=\"Title 1 PCC\">[PCC]</a>&nbsp;<a href=\"releasepoints/us/pl/116/29/pdf_usc01@116-29.zip\" title=\"Title 1 PDF\">[PDF]</a>\\n\\n        </div>\\n\\n      </div>\\n\\n\\n\\n      <div class=\"uscitem\">\\n\\n        <div class=\"usctitlechanged\" id=\"us/usc/t2\">\\n\\n          Title 2 - The Congress\\n\\n        </div>\\n\\n\\n\\n        <div class=\"itemcurrency\">\\n\\n          116-29\\n\\n        </div>\\n\\n\\n\\n        <div class=\"itemdownloadlinks\">\\n\\n          <a href=\"releasepoints/us/pl/116/29/xml_usc02@116-29.zip\" title=\"Title 2 XML\">[XML]</a>&nbsp;<a href=\"releasepoints/us/pl/116/29/htm_usc02@116-29.zip\" title=\"Title 2 XHTML\">[XHTML]</a>&nbsp;<a href=\"releasepoints/us/pl/116/29/pcc_usc02@116-29.zip\" title=\"Title 2 PCC\">[PCC]</a>&nbsp;<a href=\"releasepoints/us/pl/116/29/pdf_usc02@116-29.zip\" title=\"Title 2 PDF\">[PDF]</a>\\n\\n        </div>\\n\\n      </div>\\n\\n\\n\\n      <div class=\"uscitem\">\\n\\n        <div class=\"usctitle\" id=\"us/usc/t3\">\\n\\n          Title 3 - The President\\n\\n        </div>\\n\\n\\n\\n        <div class=\"itemcurrency\">\\n\\n          116-29\\n\\n        </div>\\n\\n\\n\\n        <div class=\"itemdownloadlinks\">\\n\\n          <a href=\"releasepoints/us/pl/116/29/xml_usc03@116-29.zip\" title=\"Title ? XML\">[XML]</a>&nbsp;<a href=\"releasepoints/us/pl/116/29/htm_usc03@116-29.zip\" title=\"Title 3 XHTML\">[XHTML]</a>&nbsp;<a href=\"releasepoints/us/pl/116/29/pcc_usc03@116-29.zip\" title=\"Title 3 PCC\">[PCC]</a>&nbsp;<a href=\"releasepoints/us/pl/116/29/pdf_usc03@116-29.zip\" title=\"Title 3 PDF\">[PDF]</a>\\n\\n        </div>\\n\\n      </div>\\n\\n\\n\\n      <div class=\"uscitem\">\\n\\n        <div class=\"usctitle\" id=\"us/usc/t4\">\\n\\n          Title 4 - Flag and Seal, Seat of Government, and the States\\n\\n        </div>\\n\\n\\n\\n        <div class=\"itemcurrency\">\\n\\n          116-29\\n\\n        </div>\\n\\n\\n\\n        <div class=\"itemdownloadlinks\">\\n\\n          <a href=\"releasepoints/us/pl/116/29/xml_usc04@116-29.zip\" title=\"Title 4 XML\">[XML]</a>&nbsp;<a href=\"releasepoints/us/pl/116/29/htm_usc04@116-29.zip\" title=\"Title 4 XHTML\">[XHTML]</a>&nbsp;<a href=\"releasepoints/us/pl/116/29/pcc_usc04@116-29.zip\" title=\"Title 4 PCC\">[PCC]</a>&nbsp;<a href=\"releasepoints/us/pl/116/29/pdf_usc04@116-29.zip\" title=\"Title 4 PDF\">[PDF]</a>\\n\\n        </div>\\n\\n      </div>\\n\\n\\n\\n      <div class=\"uscitem\">\\n\\n        <div class=\"usctitle\" id=\"us/usc/t5\">\\n\\n          Title 5 - Government Organization and Employees\\n\\n        </div>\\n\\n\\n\\n        <div class=\"itemcurrency\">\\n\\n          116-29\\n\\n        </div>\\n\\n\\n\\n        <div class=\"itemdownloadlinks\">\\n\\n          <a href=\"releasepoints/us/pl/116/29/xml_usc05@116-29.zip\" title=\"Title 5 XML\">[XML]</a>&nbsp;<a href=\"releasepoints/us/pl/116/29/htm_usc05@116-29.zip\" title=\"Title 5 XHTML\">[XHTML]</a>&nbsp;<a href=\"releasepoints/us/pl/116/29/pcc_usc05@116-29.zip\" title=\"Title 5 PCC\">[PCC]</a>&nbsp;<a href=\"releasepoints/us/pl/116/29/pdf_usc05@116-29.zip\" title=\"Title 5 PDF\">[PDF]</a>\\n\\n        </div>\\n\\n      </div>\\n\\n\\n\\n      <div class=\"uscitem\">\\n\\n        <div class=\"usctitleappendix\" id=\"us/usc/t5a\">\\n\\n          Appendix\\n\\n        </div>\\n\\n\\n\\n        <div class=\"itemcurrency\">\\n\\n          116-29\\n\\n        </div>\\n\\n\\n\\n        <div class=\"itemdownloadlinks\">\\n\\n          <a href=\"releasepoints/us/pl/116/29/xml_usc05a@116-29.zip\" title=\"Title 5 App. XML\">[XML]</a>&nbsp;<a href=\"releasepoints/us/pl/116/29/htm_usc05a@116-29.zip\" title=\"Title 5 App. XHTML\">[XHTML]</a>&nbsp;<a href=\"releasepoints/us/pl/116/29/pcc_usc05a@116-29.zip\" title=\"Title 5 App. PCC\">[PCC]</a>&nbsp;<a href=\"releasepoints/us/pl/116/29/pdf_usc05a@116-29.zip\" title=\"Title 5 App. PDF\">[PDF]</a>\\n\\n        </div>\\n\\n      </div>\\n\\n\\n\\n      <div class=\"uscitem\">\\n\\n        <div class=\"usctitlechanged\" id=\"us/usc/t6\">\\n\\n          Title 6 - Domestic Security\\n\\n        </div>\\n\\n\\n\\n        <div class=\"itemcurrency\">\\n\\n          116-29\\n\\n        </div>\\n\\n\\n\\n        <div class=\"itemdownloadlinks\">\\n\\n          <a href=\"releasepoints/us/pl/116/29/xml_usc06@116-29.zip\" title=\"Title 6 XML\">[XML]</a>&nbsp;<a href=\"releasepoints/us/pl/116/29/htm_usc06@116-29.zip\" title=\"Title 6 XHTML\">[XHTML]</a>&nbsp;<a href=\"releasepoints/us/pl/116/29/pcc_usc06@116-29.zip\" title=\"Title 6 PCC\">[PCC]</a>&nbsp;<a href=\"releasepoints/us/pl/116/29/pdf_usc06@116-29.zip\" title=\"Title 6 PDF\">[PDF]</a>\\n\\n        </div>\\n\\n      </div>\\n\\n\\n\\n      <div class=\"uscitem\">\\n\\n        <div class=\"usctitlechanged\" id=\"us/usc/t7\">\\n\\n          Title 7 - Agriculture\\n\\n        </div>\\n\\n\\n\\n        <div class=\"itemcurrency\">\\n\\n          116-29\\n\\n        </div>\\n\\n\\n\\n        <div class=\"itemdownloadlinks\">\\n\\n          <a href=\"releasepoints/us/pl/116/29/xml_usc07@116-29.zip\" title=\"Title 7 XML\">[XML]</a>&nbsp;<a href=\"releasepoints/us/pl/116/29/htm_usc07@116-29.zip\" title=\"Title 7 XHTML\">[XHTML]</a>&nbsp;<a href=\"releasepoints/us/pl/116/29/pcc_usc07@116-29.zip\" title=\"Title 7 PCC\">[PCC]</a>&nbsp;<a href=\"releasepoints/us/pl/116/29/pdf_usc07@116-29.zip\" title=\"Title 7 PDF\">[PDF]</a>\\n\\n        </div>\\n\\n      </div>\\n\\n\\n\\n      <div class=\"uscitem\">\\n\\n        <div class=\"usctitle\" id=\"us/usc/t8\">\\n\\n          Title 8 - Aliens and Nationality\\n\\n        </div>\\n\\n\\n\\n        <div class=\"itemcurrency\">\\n\\n          116-29\\n\\n        </div>\\n\\n\\n\\n        <div class=\"itemdownloadlinks\">\\n\\n          <a href=\"releasepoints/us/pl/116/29/xml_usc08@116-29.zip\" title=\"Title 8 XML\">[XML]</a>&nbsp;<a href=\"releasepoints/us/pl/116/29/htm_usc08@116-29.zip\" title=\"Title 8 XHTML\">[XHTML]</a>&nbsp;<a href=\"releasepoints/us/pl/116/29/pcc_usc08@116-29.zip\" title=\"Title 8 PCC\">[PCC]</a>&nbsp;<a href=\"releasepoints/us/pl/116/29/pdf_usc08@116-29.zip\" title=\"Title 8 PDF\">[PDF]</a>\\n\\n        </div>\\n\\n      </div>\\n\\n\\n\\n      <div class=\"uscitem\">\\n\\n        <div class=\"usctitle\" id=\"us/usc/t9\">\\n\\n          Title 9 - Arbitration\\n\\n        </div>\\n\\n\\n\\n        <div class=\"itemcurrency\">\\n\\n          116-29\\n\\n        </div>\\n\\n\\n\\n        <div class=\"itemdownloadlinks\">\\n\\n          <a href=\"releasepoints/us/pl/116/29/xml_usc09@116-29.zip\" title=\"Title 9 XML\">[XML]</a>&nbsp;<a href=\"releasepoints/us/pl/116/29/htm_usc09@116-29.zip\" title=\"Title 9 XHTML\">[XHTML]</a>&nbsp;<a href=\"releasepoints/us/pl/116/29/pcc_usc09@116-29.zip\" title=\"Title 9 PCC\">[PCC]</a>&nbsp;<a href=\"releasepoints/us/pl/116/29/pdf_usc09@116-29.zip\" title=\"Title 9 PDF\">[PDF]</a>\\n\\n        </div>\\n\\n      </div>\\n\\n\\n\\n      <div class=\"uscitem\">\\n\\n        <div class=\"usctitle\" id=\"us/usc/t10\">\\n\\n          Title 10 - Armed Forces\\n\\n        </div>\\n\\n\\n\\n        <div class=\"itemcurrency\">\\n\\n          116-29\\n\\n        </div>\\n\\n\\n\\n        <div class=\"itemdownloadlinks\">\\n\\n          <a href=\"releasepoints/us/pl/116/29/xml_usc10@116-29.zip\" title=\"Title 10 XML\">[XML]</a>&nbsp;<a href=\"releasepoints/us/pl/116/29/htm_usc10@116-29.zip\" title=\"Title 10 XHTML\">[XHTML]</a>&nbsp;<a href=\"releasepoints/us/pl/116/29/pcc_usc10@116-29.zip\" title=\"Title 10 PCC\">[PCC]</a>&nbsp;<a href=\"releasepoints/us/pl/116/29/pdf_usc10@116-29.zip\" title=\"Title 10 PDF\">[PDF]</a>\\n\\n        </div>\\n\\n      </div>\\n\\n\\n\\n      <div class=\"uscitem\">\\n\\n        <div class=\"usctitle\" id=\"us/usc/t11\">\\n\\n          Title 11 - Bankruptcy\\n\\n        </div>\\n\\n\\n\\n        <div class=\"itemcurrency\">\\n\\n          116-29\\n\\n        </div>\\n\\n\\n\\n        <div class=\"itemdownloadlinks\">\\n\\n          <a href=\"releasepoints/us/pl/116/29/xml_usc11@116-29.zip\" title=\"Title 11 XML\">[XML]</a>&nbsp;<a href=\"releasepoints/us/pl/116/29/htm_usc11@116-29.zip\" title=\"Title 11 XHTML\">[XHTML]</a>&nbsp;<a href=\"releasepoints/us/pl/116/29/pcc_usc11@116-29.zip\" title=\"Title 11 PCC\">[PCC]</a>&nbsp;<a href=\"releasepoints/us/pl/116/29/pdf_usc11@116-29.zip\" title=\"Title 11 PDF\">[PDF]</a>\\n\\n        </div>\\n\\n      </div>\\n\\n\\n\\n      <div class=\"uscitem\">\\n\\n        <div class=\"usctitleappendix\" id=\"us/usc/t11a\">\\n\\n          Appendix\\n\\n        </div>\\n\\n\\n\\n        <div class=\"itemcurrency\">\\n\\n          116-29\\n\\n        </div>\\n\\n\\n\\n        <div class=\"itemdownloadlinks\">\\n\\n          <a href=\"releasepoints/us/pl/116/29/xml_usc11a@116-29.zip\" title=\"Title 11 App.  XML\">[XML]</a>&nbsp;<a href=\"releasepoints/us/pl/116/29/htm_usc11a@116-29.zip\" title=\"Title 11 App. XHTML\">[XHTML]</a>&nbsp;<a href=\"releasepoints/us/pl/116/29/pcc_usc11a@116-29.zip\" title=\"Title 11 App. PCC\">[PCC]</a>&nbsp;<a href=\"releasepoints/us/pl/116/29/pdf_usc11a@116-29.zip\" title=\"Title 11 App. PDF\">[PDF]</a>\\n\\n        </div>\\n\\n      </div>\\n\\n\\n\\n      <div class=\"uscitem\">\\n\\n        <div class=\"usctitle\" id=\"us/usc/t12\">\\n\\n          Title 12 - Banks and Banking\\n\\n        </div>\\n\\n\\n\\n        <div class=\"itemcurrency\">\\n\\n          116-29\\n\\n        </div>\\n\\n\\n\\n        <div class=\"itemdownloadlinks\">\\n\\n          <a href=\"releasepoints/us/pl/116/29/xml_usc12@116-29.zip\" title=\"Title 12 XML\">[XML]</a>&nbsp;<a href=\"releasepoints/us/pl/116/29/htm_usc12@116-29.zip\" title=\"Title 12 XHTML\">[XHTML]</a>&nbsp;<a href=\"releasepoints/us/pl/116/29/pcc_usc12@116-29.zip\" title=\"Title 12 PCC\">[PCC]</a>&nbsp;<a href=\"releasepoints/us/pl/116/29/pdf_usc12@116-29.zip\" title=\"Title 12 PDF\">[PDF]</a>\\n\\n        </div>\\n\\n      </div>\\n\\n\\n\\n      <div class=\"uscitem\">\\n\\n        <div class=\"usctitle\" id=\"us/usc/t13\">\\n\\n          Title 13 - Census\\n\\n        </div>\\n\\n\\n\\n        <div class=\"itemcurrency\">\\n\\n          116-29\\n\\n        </div>\\n\\n\\n\\n        <div class=\"itemdownloadlinks\">\\n\\n          <a href=\"releasepoints/us/pl/116/29/xml_usc13@116-29.zip\" title=\"Title 13 XML\">[XML]</a>&nbsp;<a href=\"releasepoints/us/pl/116/29/htm_usc13@116-29.zip\" title=\"Title 13 XHTML\">[XHTML]</a>&nbsp;<a href=\"releasepoints/us/pl/116/29/pcc_usc13@116-29.zip\" title=\"Title 13 PCC\">[PCC]</a>&nbsp;<a href=\"releasepoints/us/pl/116/29/pdf_usc13@116-29.zip\" title=\"Title 13 PDF\">[PDF]</a>\\n\\n        </div>\\n\\n      </div>\\n\\n\\n\\n      <div class=\"uscitem\">\\n\\n        <div class=\"usctitle\" id=\"us/usc/t14\">\\n\\n          Title 14 - Coast Guard\\n\\n        </div>\\n\\n\\n\\n        <div class=\"itemcurrency\">\\n\\n          116-29\\n\\n        </div>\\n\\n\\n\\n        <div class=\"itemdownloadlinks\">\\n\\n          <a href=\"releasepoints/us/pl/116/29/xml_usc14@116-29.zip\" title=\"Title 14 XML\">[XML]</a>&nbsp;<a href=\"releasepoints/us/pl/116/29/htm_usc14@116-29.zip\" title=\"Title 14 XHTML\">[XHTML]</a>&nbsp;<a href=\"releasepoints/us/pl/116/29/pcc_usc14@116-29.zip\" title=\"Title 14 PCC\">[PCC]</a>&nbsp;<a href=\"releasepoints/us/pl/116/29/pdf_usc14@116-29.zip\" title=\"Title 14 PDF\">[PDF]</a>\\n\\n        </div>\\n\\n      </div>\\n\\n\\n\\n      <div class=\"uscitem\">\\n\\n        <div class=\"usctitlechanged\" id=\"us/usc/t15\">\\n\\n          Title 15 - Commerce and Trade\\n\\n        </div>\\n\\n\\n\\n        <div class=\"itemcurrency\">\\n\\n          116-29\\n\\n        </div>\\n\\n\\n\\n        <div class=\"itemdownloadlinks\">\\n\\n          <a href=\"releasepoints/us/pl/116/29/xml_usc15@116-29.zip\" title=\"Title 15 XML\">[XML]</a>&nbsp;<a href=\"releasepoints/us/pl/116/29/htm_usc15@116-29.zip\" title=\"Title 15 XHTML\">[XHTML]</a>&nbsp;<a href=\"releasepoints/us/pl/116/29/pcc_usc15@116-29.zip\" title=\"Title 15 PCC\">[PCC]</a>&nbsp;<a href=\"releasepoints/us/pl/116/29/pdf_usc15@116-29.zip\" title=\"Title 15 PDF\">[PDF]</a>\\n\\n        </div>\\n\\n      </div>\\n\\n\\n\\n      <div class=\"uscitem\">\\n\\n        <div class=\"usctitlechanged\" id=\"us/usc/t16\">\\n\\n          Title 16 - Conservation\\n\\n        </div>\\n\\n\\n\\n        <div class=\"itemcurrency\">\\n\\n          116-29\\n\\n        </div>\\n\\n\\n\\n        <div class=\"itemdownloadlinks\">\\n\\n          <a href=\"releasepoints/us/pl/116/29/xml_usc16@116-29.zip\" title=\"Title 16 XML\">[XML]</a>&nbsp;<a href=\"releasepoints/us/pl/116/29/htm_usc16@116-29.zip\" title=\"Title 16 XHTML\">[XHTML]</a>&nbsp;<a href=\"releasepoints/us/pl/116/29/pcc_usc16@116-29.zip\" title=\"Title 16 PCC\">[PCC]</a>&nbsp;<a href=\"releasepoints/us/pl/116/29/pdf_usc16@116-29.zip\" title=\"Title 16 PDF\">[PDF]</a>\\n\\n        </div>\\n\\n      </div>\\n\\n\\n\\n      <div class=\"uscitem\">\\n\\n        <div class=\"usctitle\" id=\"us/usc/t17\">\\n\\n          Title 17 - Copyrights\\n\\n        </div>\\n\\n\\n\\n        <div class=\"itemcurrency\">\\n\\n          116-29\\n\\n        </div>\\n\\n\\n\\n        <div class=\"itemdownloadlinks\">\\n\\n          <a href=\"releasepoints/us/pl/116/29/xml_usc17@116-29.zip\" title=\"Title 17 XML\">[XML]</a>&nbsp;<a href=\"releasepoints/us/pl/116/29/htm_usc17@116-29.zip\" title=\"Title 17 XHTML\">[XHTML]</a>&nbsp;<a href=\"releasepoints/us/pl/116/29/pcc_usc17@116-29.zip\" title=\"Title 17 PCC\">[PCC]</a>&nbsp;<a href=\"releasepoints/us/pl/116/29/pdf_usc17@116-29.zip\" title=\"Title 17 PDF\">[PDF]</a>\\n\\n        </div>\\n\\n      </div>\\n\\n\\n\\n      <div class=\"uscitem\">\\n\\n        <div class=\"usctitle\" id=\"us/usc/t18\">\\n\\n          Title 18 - Crimes and Criminal Procedure\\n\\n        </div>\\n\\n\\n\\n        <div class=\"itemcurrency\">\\n\\n          116-29\\n\\n        </div>\\n\\n\\n\\n        <div class=\"itemdownloadlinks\">\\n\\n          <a href=\"releasepoints/us/pl/116/29/xml_usc18@116-29.zip\" title=\"Title 18 XML\">[XML]</a>&nbsp;<a href=\"releasepoints/us/pl/116/29/htm_usc18@116-29.zip\" title=\"Title 18 XHTML\">[XHTML]</a>&nbsp;<a href=\"releasepoints/us/pl/116/29/pcc_usc18@116-29.zip\" title=\"Title 18 PCC\">[PCC]</a>&nbsp;<a href=\"releasepoints/us/pl/116/29/pdf_usc18@116-29.zip\" title=\"Title 18 PDF\">[PDF]</a>\\n\\n        </div>\\n\\n      </div>\\n\\n\\n\\n      <div class=\"uscitem\">\\n\\n        <div class=\"usctitleappendix\" id=\"us/usc/t18a\">\\n\\n          Appendix\\n\\n        </div>\\n\\n\\n\\n        <div class=\"itemcurrency\">\\n\\n          116-29\\n\\n        </div>\\n\\n\\n\\n        <div class=\"itemdownloadlinks\">\\n\\n         <a href=\"releasepoints/us/pl/116/29/xml_usc18a@116-29.zip\" title=\"Title 18 App. XML\">[XML]</a>&nbsp;<a href=\"releasepoints/us/pl/116/29/htm_usc18a@116-29.zip\" title=\"Title 18 App. XHTML\">[XHTML]</a>&nbsp;<a href=\"releasepoints/us/pl/116/29/pcc_usc18a@116-29.zip\" title=\"Title 18 App. PCC\">[PCC]</a>&nbsp;<a href=\"releasepoints/us/pl/116/29/pdf_usc18a@116-29.zip\" title=\"Title 18 App. PDF\">[PDF]</a>\\n\\n        </div>\\n\\n      </div>\\n\\n\\n\\n      <div class=\"uscitem\">\\n\\n        <div class=\"usctitlechanged\" id=\"us/usc/t19\">\\n\\n          Title 19 - Customs Duties\\n\\n        </div>\\n\\n\\n\\n        <div class=\"itemcurrency\">\\n\\n          116-29\\n\\n        </div>\\n\\n\\n\\n        <div class=\"itemdownloadlinks\">\\n\\n          <a href=\"releasepoints/us/pl/116/29/xml_usc19@116-29.zip\" title=\"Title 19 XML\">[XML]</a>&nbsp;<a href=\"releasepoints/us/pl/116/29/htm_usc19@116-29.zip\" title=\"Title 19 XHTML\">[XHTML]</a>&nbsp;<a href=\"releasepoints/us/pl/116/29/pcc_usc19@116-29.zip\" title=\"Title 19 PCC\">[PCC]</a>&nbsp;<a href=\"releasepoints/us/pl/116/29/pdf_usc19@116-29.zip\" title=\"Title 19 PDF\">[PDF]</a>\\n\\n        </div>\\n\\n      </div>\\n\\n\\n\\n      <div class=\"uscitem\">\\n\\n        <div class=\"usctitle\" id=\"us/usc/t20\">\\n\\n          Title 20 - Education\\n\\n        </div>\\n\\n\\n\\n        <div class=\"itemcurrency\">\\n\\n          116-29\\n\\n        </div>\\n\\n\\n\\n        <div class=\"itemdownloadlinks\">\\n\\n          <a href=\"releasepoints/us/pl/116/29/xml_usc20@116-29.zip\" title=\"Title 20 XML\">[XML]</a>&nbsp;<a href=\"releasepoints/us/pl/116/29/htm_usc20@116-29.zip\" title=\"Title 20 XHTML\">[XHTML]</a>&nbsp;<a href=\"releasepoints/us/pl/116/29/pcc_usc20@116-29.zip\" title=\"Title 20 PCC\">[PCC]</a>&nbsp;<a href=\"releasepoints/us/pl/116/29/pdf_usc20@116-29.zip\" title=\"Title 20 PDF\">[PDF]</a>\\n\\n        </div>\\n\\n      </div>\\n\\n\\n\\n      <div class=\"uscitem\">\\n\\n        <div class=\"usctitlechanged\" id=\"us/usc/t21\">\\n\\n          Title 21 - Food and Drugs\\n\\n        </div>\\n\\n\\n\\n        <div class=\"itemcurrency\">\\n\\n          116-29\\n\\n        </div>\\n\\n\\n\\n        <div class=\"itemdownloadlinks\">\\n\\n          <a href=\"releasepoints/us/pl/116/29/xml_usc21@116-29.zip\" title=\"Title 21 XML\">[XML]</a>&nbsp;<a href=\"releasepoints/us/pl/116/29/htm_usc21@116-29.zip\" title=\"Title 21 XHTML\">[XHTML]</a>&nbsp;<a href=\"releasepoints/us/pl/116/29/pcc_usc21@116-29.zip\" title=\"Title 21 PCC\">[PCC]</a>&nbsp;<a href=\"releasepoints/us/pl/116/29/pdf_usc21@116-29.zip\" title=\"Title 21 PDF\">[PDF]</a>\\n\\n        </div>\\n\\n      </div>\\n\\n\\n\\n      <div class=\"uscitem\">\\n\\n        <div class=\"usctitle\" id=\"us/usc/t22\">\\n\\n          Title 22 - Foreign Relations and Intercourse\\n\\n        </div>\\n\\n\\n\\n        <div class=\"itemcurrency\">\\n\\n          116-29\\n\\n        </div>\\n\\n\\n\\n        <div class=\"itemdownloadlinks\">\\n\\n          <a href=\"releasepoints/us/pl/116/29/xml_usc22@116-29.zip\" title=\"Title 22 XML\">[XML]</a>&nbsp;<a href=\"releasepoints/us/pl/116/29/htm_usc22@116-29.zip\" title=\"Title 22 XHTML\">[XHTML]</a>&nbsp;<a href=\"releasepoints/us/pl/116/29/pcc_usc22@116-29.zip\" title=\"Title 22 PCC\">[PCC]</a>&nbsp;<a href=\"releasepoints/us/pl/116/29/pdf_usc22@116-29.zip\" title=\"Title 22 PDF\">[PDF]</a>\\n\\n        </div>\\n\\n      </div>\\n\\n\\n\\n      <div class=\"uscitem\">\\n\\n        <div class=\"usctitle\" id=\"us/usc/t23\">\\n\\n          Title 23 - Highways\\n\\n        </div>\\n\\n\\n\\n        <div class=\"itemcurrency\">\\n\\n          116-29\\n\\n        </div>\\n\\n\\n\\n        <div class=\"itemdownloadlinks\">\\n\\n          <a href=\"releasepoints/us/pl/116/29/xml_usc23@116-29.zip\" title=\"Title 23 XML\">[XML]</a>&nbsp;<a href=\"releasepoints/us/pl/116/29/htm_usc23@116-29.zip\" title=\"Title 23 XHTML\">[XHTML]</a>&nbsp;<a href=\"releasepoints/us/pl/116/29/pcc_usc23@116-29.zip\" title=\"Title 23 PCC\">[PCC]</a>&nbsp;<a href=\"releasepoints/us/pl/116/29/pdf_usc23@116-29.zip\" title=\"Title 23 PDF\">[PDF]</a>\\n\\n        </div>\\n\\n      </div>\\n\\n\\n\\n      <div class=\"uscitem\">\\n\\n        <div class=\"usctitle\" id=\"us/usc/t24\">\\n\\n          Title 24 - Hospitals and Asylums\\n\\n        </div>\\n\\n\\n\\n        <div class=\"itemcurrency\">\\n\\n          116-29\\n\\n        </div>\\n\\n\\n\\n        <div class=\"itemdownloadlinks\">\\n\\n          <a href=\"releasepoints/us/pl/116/29/xml_usc24@116-29.zip\" title=\"Title 24 XML\">[XML]</a>&nbsp;<a href=\"releasepoints/us/pl/116/29/htm_usc24@116-29.zip\" title=\"Title 24 XHTML\">[XHTML]</a>&nbsp;<a href=\"releasepoints/us/pl/116/29/pcc_usc24@116-29.zip\" title=\"Title 24 PCC\">[PCC]</a>&nbsp;<a href=\"releasepoints/us/pl/116/29/pdf_usc24@116-29.zip\" title=\"Title 24 PDF\">[PDF]</a>\\n\\n        </div>\\n\\n      </div>\\n\\n\\n\\n      <div class=\"uscitem\">\\n\\n        <div class=\"usctitle\" id=\"us/usc/t25\">\\n\\n          Title 25 - Indians\\n\\n        </div>\\n\\n\\n\\n        <div class=\"itemcurrency\">\\n\\n          116-29\\n\\n        </div>\\n\\n\\n\\n        <div class=\"itemdownloadlinks\">\\n\\n          <a href=\"releasepoints/us/pl/116/29/xml_usc25@116-29.zip\" title=\"Title 25 XML\">[XML]</a>&nbsp;<a href=\"releasepoints/us/pl/116/29/htm_usc25@116-29.zip\" title=\"Title 25 XHTML\">[XHTML]</a>&nbsp;<a href=\"releasepoints/us/pl/116/29/pcc_usc25@116-29.zip\" title=\"Title 25 PCC\">[PCC]</a>&nbsp;<a href=\"releasepoints/us/pl/116/29/pdf_usc25@116-29.zip\" title=\"Title 25 PDF\">[PDF]</a>\\n\\n        </div>\\n\\n      </div>\\n\\n\\n\\n      <div class=\"uscitem\">\\n\\n        <div class=\"usctitlechanged\" id=\"us/usc/t26\">\\n\\n          Title 26 - Internal Revenue Code\\n\\n        </div>\\n\\n\\n\\n        <div class=\"itemcurrency\">\\n\\n          116-29\\n\\n        </div>\\n\\n\\n\\n        <div class=\"itemdownloadlinks\">\\n\\n          <a href=\"releasepoints/us/pl/116/29/xml_usc26@116-29.zip\" title=\"Title 26 XML\">[XML]</a>&nbsp;<a href=\"releasepoints/us/pl/116/29/htm_usc26@116-29.zip\" title=\"Title 26 XHTML\">[XHTML]</a>&nbsp;<a href=\"releasepoints/us/pl/116/29/pcc_usc26@116-29.zip\" title=\"Title 26 PCC\">[PCC]</a>&nbsp;<a href=\"releasepoints/us/pl/116/29/pdf_usc26@116-29.zip\" title=\"Title 26 PDF\">[PDF]</a>\\n\\n        </div>\\n\\n      </div>\\n\\n\\n\\n      <div class=\"uscitem\">\\n\\n        <div class=\"usctitle\" id=\"us/usc/t27\">\\n\\n          Title 27 - Intoxicating Liquors\\n\\n        </div>\\n\\n\\n\\n        <div class=\"itemcurrency\">\\n\\n          116-29\\n\\n        </div>\\n\\n\\n\\n        <div class=\"itemdownloadlinks\">\\n\\n          <a href=\"releasepoints/us/pl/116/29/xml_usc27@116-29.zip\" title=\"Title 27 XML\">[XML]</a>&nbsp;<a href=\"releasepoints/us/pl/116/29/htm_usc27@116-29.zip\" title=\"Title 27 XHTML\">[XHTML]</a>&nbsp;<a href=\"releasepoints/us/pl/116/29/pcc_usc27@116-29.zip\" title=\"Title 27 PCC\">[PCC]</a>&nbsp;<a href=\"releasepoints/us/pl/116/29/pdf_usc27@116-29.zip\" title=\"Title 27 PDF\">[PDF]</a>\\n\\n        </div>\\n\\n      </div>\\n\\n\\n\\n      <div class=\"uscitem\">\\n\\n        <div class=\"usctitle\" id=\"us/usc/t28\">\\n\\n          Title 28 - Judiciary and Judicial Procedure\\n\\n        </div>\\n\\n\\n\\n        <div class=\"itemcurrency\">\\n\\n          116-29\\n\\n        </div>\\n\\n\\n\\n        <div class=\"itemdownloadlinks\">\\n\\n          <a href=\"releasepoints/us/pl/116/29/xml_usc28@116-29.zip\" title=\"Title 28 XML\">[XML]</a>&nbsp;<a href=\"releasepoints/us/pl/116/29/htm_usc28@116-29.zip\" title=\"Title 28 XHTML\">[XHTML]</a>&nbsp;<a href=\"releasepoints/us/pl/116/29/pcc_usc28@116-29.zip\" title=\"Title 28 PCC\">[PCC]</a>&nbsp;<a href=\"releasepoints/us/pl/116/29/pdf_usc28@116-29.zip\" title=\"Title 28 PDF\">[PDF]</a>\\n\\n        </div>\\n\\n      </div>\\n\\n\\n\\n      <div class=\"uscitem\">\\n\\n        <div class=\"usctitleappendix\" id=\"us/usc/t28a\">\\n\\n          Appendix\\n\\n        </div>\\n\\n\\n\\n        <div class=\"itemcurrency\">\\n\\n          116-29\\n\\n        </div>\\n\\n\\n\\n        <div class=\"itemdownloadlinks\">\\n\\n          <a href=\"releasepoints/us/pl/116/29/xml_usc28a@116-29.zip\" title=\"Title 28 App. XML\">[XML]</a>&nbsp;<a href=\"releasepoints/us/pl/116/29/htm_usc28a@116-29.zip\" title=\"Title 28 App. XHTML\">[XHTML]</a>&nbsp;<a href=\"releasepoints/us/pl/116/29/pcc_usc28a@116-29.zip\" title=\"Title 28 App. PCC\">[PCC]</a>&nbsp;<a href=\"releasepoints/us/pl/116/29/pdf_usc28a@116-29.zip\" title=\"Title 28 App. PDF\">[PDF]</a>\\n\\n        </div>\\n\\n      </div>\\n\\n\\n\\n      <div class=\"uscitem\">\\n\\n        <div class=\"usctitle\" id=\"us/usc/t29\">\\n\\n          Title 29 - Labor\\n\\n        </div>\\n\\n\\n\\n        <div class=\"itemcurrency\">\\n\\n          116-29\\n\\n        </div>\\n\\n\\n\\n        <div class=\"itemdownloadlinks\">\\n\\n          <a href=\"releasepoints/us/pl/116/29/xml_usc29@116-29.zip\" title=\"Title 29 XML\">[XML]</a>&nbsp;<a href=\"releasepoints/us/pl/116/29/htm_usc29@116-29.zip\" title=\"Title 29 XHTML\">[XHTML]</a>&nbsp;<a href=\"releasepoints/us/pl/116/29/pcc_usc29@116-29.zip\" title=\"Title 29 PCC\">[PCC]</a>&nbsp;<a href=\"releasepoints/us/pl/116/29/pdf_usc29@116-29.zip\" title=\"Title 29 PDF\">[PDF]</a>\\n\\n        </div>\\n\\n      </div>\\n\\n\\n\\n      <div class=\"uscitem\">\\n\\n        <div class=\"usctitle\" id=\"us/usc/t30\">\\n\\n          Title 30 - Mineral Lands and Mining\\n\\n        </div>\\n\\n\\n\\n        <div class=\"itemcurrency\">\\n\\n          116-29\\n\\n        </div>\\n\\n\\n\\n        <div class=\"itemdownloadlinks\">\\n\\n          <a href=\"releasepoints/us/pl/116/29/xml_usc30@116-29.zip\" title=\"Title 30 XML\">[XML]</a>&nbsp;<a href=\"releasepoints/us/pl/116/29/htm_usc30@116-29.zip\" title=\"Title 30 XHTML\">[XHTML]</a>&nbsp;<a href=\"releasepoints/us/pl/116/29/pcc_usc30@116-29.zip\" title=\"Title 30 PCC\">[PCC]</a>&nbsp;<a href=\"releasepoints/us/pl/116/29/pdf_usc30@116-29.zip\" title=\"Title 30 PDF\">[PDF]</a>\\n\\n        </div>\\n\\n      </div>\\n\\n\\n\\n      <div class=\"uscitem\">\\n\\n        <div class=\"usctitle\" id=\"us/usc/t31\">\\n\\n          Title 31 - Money and Finance\\n\\n        </div>\\n\\n\\n\\n        <div class=\"itemcurrency\">\\n\\n          116-29\\n\\n        </div>\\n\\n\\n\\n        <div class=\"itemdownloadlinks\">\\n\\n          <a href=\"releasepoints/us/pl/116/29/xml_usc31@116-29.zip\" title=\"Title 31 XML\">[XML]</a>&nbsp;<a href=\"releasepoints/us/pl/116/29/htm_usc31@116-29.zip\" title=\"Title 31 XHTML\">[XHTML]</a>&nbsp;<a href=\"releasepoints/us/pl/116/29/pcc_usc31@116-29.zip\" title=\"Title 31 PCC\">[PCC]</a>&nbsp;<a href=\"releasepoints/us/pl/116/29/pdf_usc31@116-29.zip\" title=\"Title 31 PDF\">[PDF]</a>\\n\\n        </div>\\n\\n      </div>\\n\\n\\n\\n      <div class=\"uscitem\">\\n\\n        <div class=\"usctitle\" id=\"us/usc/t32\">\\n\\n          Title 32 - National Guard\\n\\n        </div>\\n\\n\\n\\n        <div class=\"itemcurrency\">\\n\\n          116-29\\n\\n        </div>\\n\\n\\n\\n        <div class=\"itemdownloadlinks\">\\n\\n          <a href=\"releasepoints/us/pl/116/29/xml_usc32@116-29.zip\" title=\"Title 32 XML\">[XML]</a>&nbsp;<a href=\"releasepoints/us/pl/116/29/htm_usc32@116-29.zip\" title=\"Title 32 XHTML\">[XHTML]</a>&nbsp;<a href=\"releasepoints/us/pl/116/29/pcc_usc32@116-29.zip\" title=\"Title 32 PCC\">[PCC]</a>&nbsp;<a href=\"releasepoints/us/pl/116/29/pdf_usc32@116-29.zip\" title=\"Title 32 PDF\">[PDF]</a>\\n\\n        </div>\\n\\n      </div>\\n\\n\\n\\n      <div class=\"uscitem\">\\n\\n        <div class=\"usctitle\" id=\"us/usc/t33\">\\n\\n          Title 33 - Navigation and Navigable Waters\\n\\n        </div>\\n\\n\\n\\n        <div class=\"itemcurrency\">\\n\\n          116-29\\n\\n        </div>\\n\\n\\n\\n        <div class=\"itemdownloadlinks\">\\n\\n          <a href=\"releasepoints/us/pl/116/29/xml_usc33@116-29.zip\" title=\"Title 33 XML\">[XML]</a>&nbsp;<a href=\"releasepoints/us/pl/116/29/htm_usc33@116-29.zip\" title=\"Title 33 XHTML\">[XHTML]</a>&nbsp;<a href=\"releasepoints/us/pl/116/29/pcc_usc33@116-29.zip\" title=\"Title 33 PCC\">[PCC]</a>&nbsp;<a href=\"releasepoints/us/pl/116/29/pdf_usc33@116-29.zip\" title=\"Title 33 PDF\">[PDF]</a>\\n\\n        </div>\\n\\n      </div>\\n\\n\\n\\n      <div class=\"uscitem\">\\n\\n        <div class=\"usctitlechanged\" id=\"us/usc/t34\">\\n\\n          Title 34 - Crime Control and Law Enforcement\\n\\n        </div>\\n\\n\\n\\n        <div class=\"itemcurrency\">\\n\\n          116-29\\n\\n        </div>\\n\\n\\n\\n        <div class=\"itemdownloadlinks\">\\n\\n          <a href=\"releasepoints/us/pl/116/29/xml_usc34@116-29.zip\" title=\"Title 34 XML\">[XML]</a>&nbsp;<a href=\"releasepoints/us/pl/116/29/htm_usc34@116-29.zip\" title=\"Title 34 XHTML\">[XHTML]</a>&nbsp;<a href=\"releasepoints/us/pl/116/29/pcc_usc34@116-29.zip\" title=\"Title 34 PCC\">[PCC]</a>&nbsp;<a href=\"releasepoints/us/pl/116/29/pdf_usc34@116-29.zip\" title=\"Title 34 PDF\">[PDF]</a>\\n\\n        </div>\\n\\n      </div>\\n\\n\\n\\n      <div class=\"uscitem\">\\n\\n        <div class=\"usctitle\" id=\"us/usc/t35\">\\n\\n          Title 35 - Patents\\n\\n        </div>\\n\\n\\n\\n        <div class=\"itemcurrency\">\\n\\n          116-29\\n\\n        </div>\\n\\n\\n\\n        <div class=\"itemdownloadlinks\">\\n\\n          <a href=\"releasepoints/us/pl/116/29/xml_usc35@116-29.zip\" title=\"Title 35 XML\">[XML]</a>&nbsp;<a href=\"releasepoints/us/pl/116/29/htm_usc35@116-29.zip\" title=\"Title 35 XHTML\">[XHTML]</a>&nbsp;<a href=\"releasepoints/us/pl/116/29/pcc_usc35@116-29.zip\" title=\"Title 35 PCC\">[PCC]</a>&nbsp;<a href=\"releasepoints/us/pl/116/29/pdf_usc35@116-29.zip\" title=\"Title 35 PDF\">[PDF]</a>\\n\\n        </div>\\n\\n      </div>\\n\\n\\n\\n      <div class=\"uscitem\">\\n\\n        <div class=\"usctitle\" id=\"us/usc/t36\">\\n\\n          Title 36 - Patriotic and National Observances, Ceremonies, and Organizations\\n\\n        </div>\\n\\n\\n\\n        <div class=\"itemcurrency\">\\n\\n          116-29\\n\\n        </div>\\n\\n\\n\\n        <div class=\"itemdownloadlinks\">\\n\\n          <a href=\"releasepoints/us/pl/116/29/xml_usc36@116-29.zip\" title=\"Title 36 XML\">[XML]</a>&nbsp;<a href=\"releasepoints/us/pl/116/29/htm_usc36@116-29.zip\" title=\"Title 36 XHTML\">[XHTML]</a>&nbsp;<a href=\"releasepoints/us/pl/116/29/pcc_usc36@116-29.zip\" title=\"Title 36 PCC\">[PCC]</a>&nbsp;<a href=\"releasepoints/us/pl/116/29/pdf_usc36@116-29.zip\" title=\"Title 36 PDF\">[PDF]</a>\\n\\n        </div>\\n\\n      </div>\\n\\n\\n\\n \\n\\n\\n\\n      <div class=\"uscitem\">\\n\\n        <div class=\"usctitle\" id=\"us/usc/t37\">\\n\\n          Title 37 - Pay and Allowances of the Uniformed Services\\n\\n        </div>\\n\\n\\n\\n        <div class=\"itemcurrency\">\\n\\n          116-29\\n\\n        </div>\\n\\n\\n\\n        <div class=\"itemdownloadlinks\">\\n\\n          <a href=\"releasepoints/us/pl/116/29/xml_usc37@116-29.zip\" title=\"Title 37 XML\">[XML]</a>&nbsp;<a href=\"releasepoints/us/pl/116/29/htm_usc37@116-29.zip\" title=\"Title 37 XHTML\">[XHTML]</a>&nbsp;<a href=\"releasepoints/us/pl/116/29/pcc_usc37@116-29.zip\" title=\"Title 37 PCC\">[PCC]</a>&nbsp;<a href=\"releasepoints/us/pl/116/29/pdf_usc37@116-29.zip\" title=\"Title 37 PDF\">[PDF]</a>\\n\\n        </div>\\n\\n      </div>\\n\\n\\n\\n      <div class=\"uscitem\">\\n\\n        <div class=\"usctitlechanged\" id=\"us/usc/t38\">\\n\\n          Title 38 - Veterans\\' Benefits\\n\\n        </div>\\n\\n\\n\\n        <div class=\"itemcurrency\">\\n\\n          116-29\\n\\n        </div>\\n\\n\\n\\n        <div class=\"itemdownloadlinks\">\\n\\n          <a href=\"releasepoints/us/pl/116/29/xml_usc38@116-29.zip\" title=\"Title 38 XML\">[XML]</a>&nbsp;<a href=\"releasepoints/us/pl/116/29/htm_usc38@116-29.zip\" title=\"Title 38 XHTML\">[XHTML]</a>&nbsp;<a href=\"releasepoints/us/pl/116/29/pcc_usc38@116-29.zip\" title=\"Title 38 PCC\">[PCC]</a>&nbsp;<a href=\"releasepoints/us/pl/116/29/pdf_usc38@116-29.zip\" title=\"Title 38 PDF\">[PDF]</a>\\n\\n        </div>\\n\\n      </div>\\n\\n\\n\\n      <div class=\"uscitem\">\\n\\n        <div class=\"usctitle\" id=\"us/usc/t39\">\\n\\n          Title 39 - Postal Service\\n\\n        </div>\\n\\n\\n\\n        <div class=\"itemcurrency\">\\n\\n          116-29\\n\\n        </div>\\n\\n\\n\\n        <div class=\"itemdownloadlinks\">\\n\\n          <a href=\"releasepoints/us/pl/116/29/xml_usc39@116-29.zip\" title=\"Title 39 XML\">[XML]</a>&nbsp;<a href=\"releasepoints/us/pl/116/29/htm_usc39@116-29.zip\" title=\"Title 39 XHTML\">[XHTML]</a>&nbsp;<a href=\"releasepoints/us/pl/116/29/pcc_usc39@116-29.zip\" title=\"Title 39 PCC\">[PCC]</a>&nbsp;<a href=\"releasepoints/us/pl/116/29/pdf_usc39@116-29.zip\" title=\"Title 39 PDF\">[PDF]</a>\\n\\n        </div>\\n\\n      </div>\\n\\n\\n\\n      <div class=\"uscitem\">\\n\\n        <div class=\"usctitle\" id=\"us/usc/t40\">\\n\\n          Title 40 - Public Buildings, Property, and Works\\n\\n        </div>\\n\\n\\n\\n        <div class=\"itemcurrency\">\\n\\n          116-29\\n\\n        </div>\\n\\n\\n\\n        <div class=\"itemdownloadlinks\">\\n\\n          <a href=\"releasepoints/us/pl/116/29/xml_usc40@116-29.zip\" title=\"Title 40 XML\">[XML]</a>&nbsp;<a href=\"releasepoints/us/pl/116/29/htm_usc40@116-29.zip\" title=\"Title 40 XHTML\">[XHTML]</a>&nbsp;<a href=\"releasepoints/us/pl/116/29/pcc_usc40@116-29.zip\" title=\"Title 40 PCC\">[PCC]</a>&nbsp;<a href=\"releasepoints/us/pl/116/29/pdf_usc40@116-29.zip\" title=\"Title 40 PDF\">[PDF]</a>\\n\\n        </div>\\n\\n      </div>\\n\\n\\n\\n      <div class=\"uscitem\">\\n\\n        <div class=\"usctitle\" id=\"us/usc/t41\">\\n\\n          Title 41 - Public Contracts\\n\\n        </div>\\n\\n\\n\\n        <div class=\"itemcurrency\">\\n\\n          116-29\\n\\n        </div>\\n\\n\\n\\n        <div class=\"itemdownloadlinks\">\\n\\n          <a href=\"releasepoints/us/pl/116/29/xml_usc41@116-29.zip\" title=\"Title 41 XML\">[XML]</a>&nbsp;<a href=\"releasepoints/us/pl/116/29/htm_usc41@116-29.zip\" title=\"Title 41 XHTML\">[XHTML]</a>&nbsp;<a href=\"releasepoints/us/pl/116/29/pcc_usc41@116-29.zip\" title=\"Title 41 PCC\">[PCC]</a>&nbsp;<a href=\"releasepoints/us/pl/116/29/pdf_usc41@116-29.zip\" title=\"Title 41 PDF\">[PDF]</a>\\n\\n        </div>\\n\\n      </div>\\n\\n\\n\\n      <div class=\"uscitem\">\\n\\n        <div class=\"usctitlechanged\" id=\"us/usc/t42\">\\n\\n          Title 42 - The Public Health and Welfare\\n\\n        </div>\\n\\n\\n\\n        <div class=\"itemcurrency\">\\n\\n          116-29\\n\\n        </div>\\n\\n\\n\\n        <div class=\"itemdownloadlinks\">\\n\\n          <a href=\"releasepoints/us/pl/116/29/xml_usc42@116-29.zip\" title=\"Title 42 XML\">[XML]</a>&nbsp;<a href=\"releasepoints/us/pl/116/29/htm_usc42@116-29.zip\" title=\"Title 42 XHTML\">[XHTML]</a>&nbsp;<a href=\"releasepoints/us/pl/116/29/pcc_usc42@116-29.zip\" title=\"Title 42 PCC\">[PCC]</a>&nbsp;<a href=\"releasepoints/us/pl/116/29/pdf_usc42@116-29.zip\" title=\"Title 42 PDF\">[PDF]</a>\\n\\n        </div>\\n\\n      </div>\\n\\n\\n\\n      <div class=\"uscitem\">\\n\\n        <div class=\"usctitlechanged\" id=\"us/usc/t43\">\\n\\n          Title 43 - Public Lands\\n\\n        </div>\\n\\n\\n\\n        <div class=\"itemcurrency\">\\n\\n          116-29\\n\\n        </div>\\n\\n\\n\\n        <div class=\"itemdownloadlinks\">\\n\\n          <a href=\"releasepoints/us/pl/116/29/xml_usc43@116-29.zip\" title=\"Title 43 XML\">[XML]</a>&nbsp;<a href=\"releasepoints/us/pl/116/29/htm_usc43@116-29.zip\" title=\"Title 43 XHTML\">[XHTML]</a>&nbsp;<a href=\"releasepoints/us/pl/116/29/pcc_usc43@116-29.zip\" title=\"Title 43 PCC\">[PCC]</a>&nbsp;<a href=\"releasepoints/us/pl/116/29/pdf_usc43@116-29.zip\" title=\"Title 43 PDF\">[PDF]</a>\\n\\n        </div>\\n\\n      </div>\\n\\n\\n\\n      <div class=\"uscitem\">\\n\\n        <div class=\"usctitle\" id=\"us/usc/t44\">\\n\\n          Title 44 - Public Printing and Documents\\n\\n        </div>\\n\\n\\n\\n        <div class=\"itemcurrency\">\\n\\n          116-29\\n\\n        </div>\\n\\n\\n\\n        <div class=\"itemdownloadlinks\">\\n\\n          <a href=\"releasepoints/us/pl/116/29/xml_usc44@116-29.zip\" title=\"Title 44 XML\">[XML]</a>&nbsp;<a href=\"releasepoints/us/pl/116/29/htm_usc44@116-29.zip\" title=\"Title 44 XHTML\">[XHTML]</a>&nbsp;<a href=\"releasepoints/us/pl/116/29/pcc_usc44@116-29.zip\" title=\"Title 44 PCC\">[PCC]</a>&nbsp;<a href=\"releasepoints/us/pl/116/29/pdf_usc44@116-29.zip\" title=\"Title 44 PDF\">[PDF]</a>\\n\\n        </div>\\n\\n      </div>\\n\\n\\n\\n      <div class=\"uscitem\">\\n\\n        <div class=\"usctitle\" id=\"us/usc/t45\">\\n\\n          Title 45 - Railroads\\n\\n        </div>\\n\\n\\n\\n        <div class=\"itemcurrency\">\\n\\n          116-29\\n\\n        </div>\\n\\n\\n\\n        <div class=\"itemdownloadlinks\">\\n\\n          <a href=\"releasepoints/us/pl/116/29/xml_usc45@116-29.zip\" title=\"Title 45 XML\">[XML]</a>&nbsp;<a href=\"releasepoints/us/pl/116/29/htm_usc45@116-29.zip\" title=\"Title 45 XHTML\">[XHTML]</a>&nbsp;<a href=\"releasepoints/us/pl/116/29/pcc_usc45@116-29.zip\" title=\"Title 45 PCC\">[PCC]</a>&nbsp;<a href=\"releasepoints/us/pl/116/29/pdf_usc45@116-29.zip\" title=\"Title 45 PDF\">[PDF]</a>\\n\\n        </div>\\n\\n      </div>\\n\\n\\n\\n      <div class=\"uscitem\">\\n\\n        <div class=\"usctitle\" id=\"us/usc/t46\">\\n\\n          Title 46 - Shipping\\n\\n        </div>\\n\\n\\n\\n        <div class=\"itemcurrency\">\\n\\n          116-29\\n\\n        </div>\\n\\n\\n\\n        <div class=\"itemdownloadlinks\">\\n\\n          <a href=\"releasepoints/us/pl/116/29/xml_usc46@116-29.zip\" title=\"Title 46 XML\">[XML]</a>&nbsp;<a href=\"releasepoints/us/pl/116/29/htm_usc46@116-29.zip\" title=\"Title 46 XHTML\">[XHTML]</a>&nbsp;<a href=\"releasepoints/us/pl/116/29/pcc_usc46@116-29.zip\" title=\"Title 46 PCC\">[PCC]</a>&nbsp;<a href=\"releasepoints/us/pl/116/29/pdf_usc46@116-29.zip\" title=\"Title 46 PDF\">[PDF]</a>\\n\\n        </div>\\n\\n      </div>\\n\\n\\n\\n      <div class=\"uscitem\">\\n\\n        <div class=\"usctitle\" id=\"us/usc/t47\">\\n\\n          Title 47 - Telecommunications\\n\\n        </div>\\n\\n\\n\\n        <div class=\"itemcurrency\">\\n\\n          116-29\\n\\n        </div>\\n\\n\\n\\n        <div class=\"itemdownloadlinks\">\\n\\n          <a href=\"releasepoints/us/pl/116/29/xml_usc47@116-29.zip\" title=\"Title 47 XML\">[XML]</a>&nbsp;<a href=\"releasepoints/us/pl/116/29/htm_usc47@116-29.zip\" title=\"Title 47 XHTML\">[XHTML]</a>&nbsp;<a href=\"releasepoints/us/pl/116/29/pcc_usc47@116-29.zip\" title=\"Title 47 PCC\">[PCC]</a>&nbsp;<a href=\"releasepoints/us/pl/116/29/pdf_usc47@116-29.zip\" title=\"Title 47 PDF\">[PDF]</a>\\n\\n        </div>\\n\\n      </div>\\n\\n\\n\\n      <div class=\"uscitem\">\\n\\n        <div class=\"usctitlechanged\" id=\"us/usc/t48\">\\n\\n          Title 48 - Territories and Insular Possessions\\n\\n        </div>\\n\\n\\n\\n        <div class=\"itemcurrency\">\\n\\n          116-29\\n\\n        </div>\\n\\n\\n\\n        <div class=\"itemdownloadlinks\">\\n\\n          <a href=\"releasepoints/us/pl/116/29/xml_usc48@116-29.zip\" title=\"Title 48 XML\">[XML]</a>&nbsp;<a href=\"releasepoints/us/pl/116/29/htm_usc48@116-29.zip\" title=\"Title 48 XHTML\">[XHTML]</a>&nbsp;<a href=\"releasepoints/us/pl/116/29/pcc_usc48@116-29.zip\" title=\"Title 48 PCC\">[PCC]</a>&nbsp;<a href=\"releasepoints/us/pl/116/29/pdf_usc48@116-29.zip\" title=\"Title 48 PDF\">[PDF]</a>\\n\\n        </div>\\n\\n      </div>\\n\\n\\n\\n      <div class=\"uscitem\">\\n\\n        <div class=\"usctitlechanged\" id=\"us/usc/t49\">\\n\\n          Title 49 - Transportation\\n\\n        </div>\\n\\n\\n\\n        <div class=\"itemcurrency\">\\n\\n          116-29\\n\\n        </div>\\n\\n\\n\\n        <div class=\"itemdownloadlinks\">\\n\\n          <a href=\"releasepoints/us/pl/116/29/xml_usc49@116-29.zip\" title=\"Title 49 XML\">[XML]</a>&nbsp;<a href=\"releasepoints/us/pl/116/29/htm_usc49@116-29.zip\" title=\"Title 49 XHTML\">[XHTML]</a>&nbsp;<a href=\"releasepoints/us/pl/116/29/pcc_usc49@116-29.zip\" title=\"Title 49 PCC\">[PCC]</a>&nbsp;<a href=\"releasepoints/us/pl/116/29/pdf_usc49@116-29.zip\" title=\"Title 49 PDF\">[PDF]</a>\\n\\n        </div>\\n\\n      </div>\\n\\n\\n\\n      <div class=\"uscitem\">\\n\\n        <div class=\"usctitlechanged\" id=\"us/usc/t50\">\\n\\n          Title 50 - War and National Defense\\n\\n        </div>\\n\\n\\n\\n        <div class=\"itemcurrency\">\\n\\n          116-29\\n\\n        </div>\\n\\n\\n\\n        <div class=\"itemdownloadlinks\">\\n\\n          <a href=\"releasepoints/us/pl/116/29/xml_usc50@116-29.zip\" title=\"Title 50 XML\">[XML]</a>&nbsp;<a href=\"releasepoints/us/pl/116/29/htm_usc50@116-29.zip\" title=\"Title 50 XHTML\">[XHTML]</a>&nbsp;<a href=\"releasepoints/us/pl/116/29/pcc_usc50@116-29.zip\" title=\"Title 50 PCC\">[PCC]</a>&nbsp;<a href=\"releasepoints/us/pl/116/29/pdf_usc50@116-29.zip\" title=\"Title 50 PDF\">[PDF]</a>\\n\\n        </div>\\n\\n      </div>\\n\\n\\n\\n      <div class=\"uscitem\">\\n\\n        <div class=\"usctitleappendix\" id=\"us/usc/t50a\">\\n\\n          Appendix\\n\\n        </div>\\n\\n\\n\\n        <div class=\"itemcurrency\">\\n\\n          116-29\\n\\n        </div>\\n\\n\\n\\n        <div class=\"itemdownloadlinks\">\\n\\n          <a href=\"releasepoints/us/pl/116/29/xml_usc50a@116-29.zip\" title=\"Title 50 App. XML\">[XML]</a>&nbsp;<a href=\"releasepoints/us/pl/116/29/htm_usc50a@116-29.zip\" title=\"Title 50 App. XHTML\">[XHTML]</a>&nbsp;<a href=\"releasepoints/us/pl/116/29/pcc_usc50a@116-29.zip\" title=\"Title 50 App. PCC\">[PCC]</a>&nbsp;<a href=\"releasepoints/us/pl/116/29/pdf_usc50a@116-29.zip\" title=\"Title 50 App. PDF\">[PDF]</a>\\n\\n        </div>\\n\\n      </div>\\n\\n\\n\\n      <div class=\"uscitem\">\\n\\n        <div class=\"usctitle\" id=\"us/usc/t51\">\\n\\n          Title 51 - National and Commercial Space Programs\\n\\n        </div>\\n\\n\\n\\n        <div class=\"itemcurrency\">\\n\\n          116-29\\n\\n        </div>\\n\\n\\n\\n        <div class=\"itemdownloadlinks\">\\n\\n          <a href=\"releasepoints/us/pl/116/29/xml_usc51@116-29.zip\" title=\"Title 51 XML\">[XML]</a>&nbsp;<a href=\"releasepoints/us/pl/116/29/htm_usc51@116-29.zip\" title=\"Title 51 XHTML\">[XHTML]</a>&nbsp;<a href=\"releasepoints/us/pl/116/29/pcc_usc51@116-29.zip\" title=\"Title 51 PCC\">[PCC]</a>&nbsp;<a href=\"releasepoints/us/pl/116/29/pdf_usc51@116-29.zip\" title=\"Title 51 PDF\">[PDF]</a>\\n\\n        </div>\\n\\n      </div>\\n\\n\\t  \\n      <div class=\"uscitem\">\\n\\n        <div class=\"usctitle\" id=\"us/usc/t52\">\\n\\n          Title 52 - Voting and Elections\\n\\n        </div>\\n\\n\\n\\n        <div class=\"itemcurrency\">\\n\\n          116-29\\n\\n        </div>\\n\\n\\n\\n        <div class=\"itemdownloadlinks\">\\n\\n          <a href=\"releasepoints/us/pl/116/29/xml_usc52@116-29.zip\" title=\"Title 52 XML\">[XML]</a>&nbsp;<a href=\"releasepoints/us/pl/116/29/htm_usc52@116-29.zip\" title=\"Title 52 XHTML\">[XHTML]</a>&nbsp;<a href=\"releasepoints/us/pl/116/29/pcc_usc52@116-29.zip\" title=\"Title 52 PCC\">[PCC]</a>&nbsp;<a href=\"releasepoints/us/pl/116/29/pdf_usc52@116-29.zip\" title=\"Title 52 PDF\">[PDF]</a>\\n\\n        </div>\\n\\n      </div>\\n\\n\\n\\t  \\n      <div class=\"uscitem\">\\n\\n        <div class=\"usctitle\" id=\"us/usc/t53\">\\n\\n          Title 53 [Reserved]\\n\\n        </div>\\n\\n\\n\\n        <div class=\"itemcurrency\">\\n\\n          116-29\\n\\n        </div>\\n\\n\\n\\n        <div class=\"itemdownloadlinks\">\\n\\n          <a href=\"releasepoints/us/pl/116/29/xml_usc53@116-29.zip\" title=\"Title 53 XML\">[XML]</a>&nbsp;<a href=\"releasepoints/us/pl/116/29/htm_usc53@116-29.zip\" title=\"Title 53 XHTML\">[XHTML]</a>&nbsp;<a href=\"releasepoints/us/pl/116/29/pcc_usc53@116-29.zip\" title=\"Title 53 PCC\">[PCC]</a>&nbsp;<a href=\"releasepoints/us/pl/116/29/pdf_usc53@116-29.zip\" title=\"Title 53 PDF\">[PDF]</a>\\n\\n        </div>\\n\\n      </div>\\n\\t  \\n\\t  \\n\\t  \\n      <div class=\"uscitem\">\\n\\n        <div class=\"usctitle\" id=\"us/usc/t54\" style=\"padding-bottom: 10px;\">\\n\\n          Title 54 - National Park Service and Related Programs\\n\\n        </div>\\n\\n\\n\\n        <div class=\"itemcurrency\">\\n\\n          116-29\\n\\n        </div>\\n\\n\\n\\n        <div class=\"itemdownloadlinks\">\\n\\n          <a href=\"releasepoints/us/pl/116/29/xml_usc54@116-29.zip\" title=\"Title 54 XML\">[XML]</a>&nbsp;<a href=\"releasepoints/us/pl/116/29/htm_usc54@116-29.zip\" title=\"Title 54 XHTML\">[XHTML]</a>&nbsp;<a href=\"releasepoints/us/pl/116/29/pcc_usc54@116-29.zip\" title=\"Title 54 PCC\">[PCC]</a>&nbsp;<a href=\"releasepoints/us/pl/116/29/pdf_usc54@116-29.zip\" title=\"Title 54 PDF\">[PDF]</a>\\n\\n        </div>\\n\\n      </div>\\n\\t  \\n\\n\\n</div>    \\t\\t\\t\\t\\t\\t\\n\\n<!--\\n\\n\\t\\t\\t\\t\\t\\t<div class=\"notes\">\\n\\n   <p>&#x00B9; - Changes to the title were due to the execution of an Act</p>\\n\\n\\t\\t\\t<p>&#x00B2; - Changes to the title were editorial</p>\\n\\n\\t\\t\\t<p>&#x00B3; - Chnages to the title for multiple reasons (Act, editorial, other)</p>\\n\\n      </div>\\n\\n-->\\n\\n\\n\\n\\t\\t\\t\\t\\t\\t\\n\\n\\t\\t\\t\\t\\t\\t\\n\\n\\t\\t\\t\\t\\t\\t\\n\\n    </div>\\n\\n\\t\\n\\n\\n\\n\\t\\n\\n \\n\\n\\n\\n                    </div>\\n                </div>\\n                <div style=\"clear: both; width: 0px; height: 0px;\">             \\n                </div>\\n            </div>\\n    <div id=\"footer\">\\n        <div style=\"margin-left: 2px; margin-top: 2px; width: 161px; height: 28px; overflow: visible; float: left;\">\\n            <form target=\"_blank\" action=\"https://twitter.com/uscode\">\\n                <input type=\"image\" src=\"/javax.faces.resource/u35.png.xhtml?ln=images\" style=\"width: 160px; height: 27px;\" />\\n            </form>\\n        </div>\\n        <div style=\"margin-top: 9px; margin-right: 10px; width: 310px; height: 16px; font-family: Arial; float: right; word-wrap: break-word;\" id=\"u34\">\\n            <div style=\"text-align: right;\">\\n                <span class=\"footer\"><a href=\"/about_office.xhtml;jsessionid=DC4502E16D7B9A991BCD59D11158FC7E\">About the Office</a>\\xc2\\xa0\\n                    \\xc2\\xa0 \\xc2\\xa0 \\xc2\\xa0 <a href=\"/privacy_policy.xhtml;jsessionid=DC4502E16D7B9A991BCD59D11158FC7E\">Privacy Policy</a>\\xc2\\xa0 \\xc2\\xa0 \\xc2\\xa0\\n                    \\xc2\\xa0 <a href=\"/sitemap.xhtml;jsessionid=DC4502E16D7B9A991BCD59D11158FC7E\">Sitemap</a>\\n                </span>\\n            </div>\\n        </div>\\n    </div>\\n        </div><span id=\"resizeWindow\" class=\"debugCode\">\\n<form id=\"form1\" name=\"form1\" method=\"post\" action=\"/static.xhtml;jsessionid=DC4502E16D7B9A991BCD59D11158FC7E\" enctype=\"application/x-www-form-urlencoded\">\\n<input type=\"hidden\" name=\"form1\" value=\"form1\" />\\n<input id=\"winTop\" type=\"hidden\" name=\"winTop\" value=\"0\" /><input id=\"left\" type=\"hidden\" name=\"left\" value=\"0\" /><input id=\"width\" type=\"hidden\" name=\"width\" value=\"0\" /><input id=\"height\" type=\"hidden\" name=\"height\" value=\"0\" /><input id=\"submitBtn\" type=\"submit\" name=\"submitBtn\" value=\"change value\" onclick=\"jsf.ajax.request(this, event, {execute:\\'@form\\', render: \\'@form\\'}); return false;\" /><input id=\"refreshBtn\" type=\"submit\" name=\"refreshBtn\" value=\"refresh value\" onclick=\"jsf.ajax.request(this, event, {render: \\'@form\\'}); return false;\" /><input type=\"hidden\" name=\"javax.faces.ViewState\" id=\"javax.faces.ViewState\" value=\"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\" autocomplete=\"off\" />\\n</form>\\n<form id=\"formStdRef\" name=\"formStdRef\" method=\"post\" action=\"/static.xhtml;jsessionid=DC4502E16D7B9A991BCD59D11158FC7E\" enctype=\"application/x-www-form-urlencoded\">\\n<input type=\"hidden\" name=\"formStdRef\" value=\"formStdRef\" />\\n<input id=\"first\" type=\"hidden\" name=\"first\" value=\"\" /><input id=\"second\" type=\"hidden\" name=\"second\" value=\"\" /><input id=\"type\" type=\"hidden\" name=\"type\" value=\"\" /><input id=\"url\" type=\"hidden\" name=\"url\" value=\"\" /><input id=\"stdRefBtn\" type=\"submit\" name=\"stdRefBtn\" value=\"open std ref value\" onclick=\"jsf.ajax.request(this, event, {execute:\\'@form\\', render: \\'@form\\'}); return false;\" /><input type=\"hidden\" name=\"javax.faces.ViewState\" id=\"javax.faces.ViewState\" value=\"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\" autocomplete=\"off\" />\\n</form></span></body>\\n</html>'"
      ]
     },
     "execution_count": 100,
     "metadata": {},
     "output_type": "execute_result"
    }
   ],
   "source": [
    "# This is the url you will scrape in this exercise\n",
    "url = 'http://uscode.house.gov/download/download.shtml'\n",
    "html = requests.get(url).content\n",
    "html"
   ]
  },
  {
   "cell_type": "code",
   "execution_count": 101,
   "metadata": {},
   "outputs": [
    {
     "data": {
      "text/plain": [
       "[]"
      ]
     },
     "execution_count": 101,
     "metadata": {},
     "output_type": "execute_result"
    }
   ],
   "source": [
    "#your code\n",
    "lists = []\n",
    "soup = BeautifulSoup(html, \"lxml\")\n",
    "titles = [element.find_all('p') for element in soup.find_all('p', class_='uscitem')]\n",
    "titles\n"
   ]
  },
  {
   "cell_type": "markdown",
   "metadata": {},
   "source": [
    "#### A Python list with the top ten FBI's Most Wanted names "
   ]
  },
  {
   "cell_type": "code",
   "execution_count": null,
   "metadata": {},
   "outputs": [],
   "source": [
    "# This is the url you will scrape in this exercise\n",
    "url = 'https://www.fbi.gov/wanted/topten'"
   ]
  },
  {
   "cell_type": "code",
   "execution_count": null,
   "metadata": {},
   "outputs": [],
   "source": [
    "#your code "
   ]
  },
  {
   "cell_type": "markdown",
   "metadata": {},
   "source": [
    "####  20 latest earthquakes info (date, time, latitude, longitude and region name) by the EMSC as a pandas dataframe"
   ]
  },
  {
   "cell_type": "code",
   "execution_count": 102,
   "metadata": {},
   "outputs": [],
   "source": [
    "# This is the url you will scrape in this exercise\n",
    "url = 'https://www.emsc-csem.org/Earthquake/'\n",
    "html = requests.get(url).content"
   ]
  },
  {
   "cell_type": "code",
   "execution_count": 105,
   "metadata": {},
   "outputs": [
    {
     "data": {
      "text/plain": [
       "[]"
      ]
     },
     "execution_count": 105,
     "metadata": {},
     "output_type": "execute_result"
    }
   ],
   "source": [
    "#your code\n",
    "region = soup.find_all('tb',{'class':'tb_region'})\n",
    "region"
   ]
  },
  {
   "cell_type": "markdown",
   "metadata": {},
   "source": [
    "#### Display the date, days, title, city, country of next 25 hackathon events as a Pandas dataframe table"
   ]
  },
  {
   "cell_type": "code",
   "execution_count": null,
   "metadata": {},
   "outputs": [],
   "source": [
    "# This is the url you will scrape in this exercise\n",
    "url ='https://hackevents.co/hackathons'"
   ]
  },
  {
   "cell_type": "code",
   "execution_count": null,
   "metadata": {},
   "outputs": [],
   "source": [
    "#your code"
   ]
  },
  {
   "cell_type": "markdown",
   "metadata": {},
   "source": [
    "#### Count number of tweets by a given Twitter account."
   ]
  },
  {
   "cell_type": "markdown",
   "metadata": {},
   "source": [
    "You will need to include a ***try/except block*** for account names not found. \n",
    "<br>***Hint:*** the program should count the number of tweets for any provided account"
   ]
  },
  {
   "cell_type": "code",
   "execution_count": null,
   "metadata": {},
   "outputs": [],
   "source": [
    "# This is the url you will scrape in this exercise \n",
    "# You will need to add the account credentials to this url\n",
    "url = 'https://twitter.com/'"
   ]
  },
  {
   "cell_type": "code",
   "execution_count": null,
   "metadata": {},
   "outputs": [],
   "source": [
    "#your code"
   ]
  },
  {
   "cell_type": "markdown",
   "metadata": {},
   "source": [
    "#### Number of followers of a given twitter account"
   ]
  },
  {
   "cell_type": "markdown",
   "metadata": {},
   "source": [
    "You will need to include a ***try/except block*** in case account/s name not found. \n",
    "<br>***Hint:*** the program should count the followers for any provided account"
   ]
  },
  {
   "cell_type": "code",
   "execution_count": null,
   "metadata": {},
   "outputs": [],
   "source": [
    "# This is the url you will scrape in this exercise \n",
    "# You will need to add the account credentials to this url\n",
    "url = 'https://twitter.com/'"
   ]
  },
  {
   "cell_type": "code",
   "execution_count": null,
   "metadata": {},
   "outputs": [],
   "source": [
    "#your code"
   ]
  },
  {
   "cell_type": "markdown",
   "metadata": {},
   "source": [
    "#### List all language names and number of related articles in the order they appear in wikipedia.org"
   ]
  },
  {
   "cell_type": "code",
   "execution_count": null,
   "metadata": {},
   "outputs": [],
   "source": [
    "# This is the url you will scrape in this exercise\n",
    "url = 'https://www.wikipedia.org/'"
   ]
  },
  {
   "cell_type": "code",
   "execution_count": null,
   "metadata": {},
   "outputs": [],
   "source": [
    "#your code"
   ]
  },
  {
   "cell_type": "markdown",
   "metadata": {},
   "source": [
    "#### A list with the different kind of datasets available in data.gov.uk "
   ]
  },
  {
   "cell_type": "code",
   "execution_count": null,
   "metadata": {},
   "outputs": [],
   "source": [
    "# This is the url you will scrape in this exercise\n",
    "url = 'https://data.gov.uk/'"
   ]
  },
  {
   "cell_type": "code",
   "execution_count": null,
   "metadata": {},
   "outputs": [],
   "source": [
    "#your code "
   ]
  },
  {
   "cell_type": "markdown",
   "metadata": {},
   "source": [
    "#### Top 10 languages by number of native speakers stored in a Pandas Dataframe"
   ]
  },
  {
   "cell_type": "code",
   "execution_count": null,
   "metadata": {},
   "outputs": [],
   "source": [
    "# This is the url you will scrape in this exercise\n",
    "url = 'https://en.wikipedia.org/wiki/List_of_languages_by_number_of_native_speakers'"
   ]
  },
  {
   "cell_type": "code",
   "execution_count": null,
   "metadata": {},
   "outputs": [],
   "source": [
    "#your code"
   ]
  },
  {
   "cell_type": "markdown",
   "metadata": {},
   "source": [
    "### BONUS QUESTIONS"
   ]
  },
  {
   "cell_type": "markdown",
   "metadata": {},
   "source": [
    "#### Scrape a certain number of tweets of a given Twitter account."
   ]
  },
  {
   "cell_type": "code",
   "execution_count": null,
   "metadata": {},
   "outputs": [],
   "source": [
    "# This is the url you will scrape in this exercise \n",
    "# You will need to add the account credentials to this url\n",
    "url = 'https://twitter.com/'"
   ]
  },
  {
   "cell_type": "code",
   "execution_count": null,
   "metadata": {},
   "outputs": [],
   "source": [
    "# your code"
   ]
  },
  {
   "cell_type": "markdown",
   "metadata": {},
   "source": [
    "#### IMDB's Top 250 data (movie name, Initial release, director name and stars) as a pandas dataframe"
   ]
  },
  {
   "cell_type": "code",
   "execution_count": null,
   "metadata": {},
   "outputs": [],
   "source": [
    "# This is the url you will scrape in this exercise \n",
    "url = 'https://www.imdb.com/chart/top'"
   ]
  },
  {
   "cell_type": "code",
   "execution_count": null,
   "metadata": {},
   "outputs": [],
   "source": [
    "# your code"
   ]
  },
  {
   "cell_type": "markdown",
   "metadata": {},
   "source": [
    "#### Movie name, year and a brief summary of the top 10 random movies (IMDB) as a pandas dataframe."
   ]
  },
  {
   "cell_type": "code",
   "execution_count": null,
   "metadata": {},
   "outputs": [],
   "source": [
    "#This is the url you will scrape in this exercise\n",
    "url = 'http://www.imdb.com/chart/top'"
   ]
  },
  {
   "cell_type": "code",
   "execution_count": null,
   "metadata": {},
   "outputs": [],
   "source": [
    "#your code"
   ]
  },
  {
   "cell_type": "markdown",
   "metadata": {},
   "source": [
    "#### Find the live weather report (temperature, wind speed, description and weather) of a given city."
   ]
  },
  {
   "cell_type": "code",
   "execution_count": null,
   "metadata": {},
   "outputs": [],
   "source": [
    "#https://openweathermap.org/current\n",
    "city = city=input('Enter the city:')\n",
    "url = 'http://api.openweathermap.org/data/2.5/weather?'+'q='+city+'&APPID=b35975e18dc93725acb092f7272cc6b8&units=metric'"
   ]
  },
  {
   "cell_type": "code",
   "execution_count": null,
   "metadata": {},
   "outputs": [],
   "source": [
    "# your code"
   ]
  },
  {
   "cell_type": "markdown",
   "metadata": {},
   "source": [
    "#### Book name,price and stock availability as a pandas dataframe."
   ]
  },
  {
   "cell_type": "code",
   "execution_count": null,
   "metadata": {},
   "outputs": [],
   "source": [
    "# This is the url you will scrape in this exercise. \n",
    "# It is a fictional bookstore created to be scraped. \n",
    "url = 'http://books.toscrape.com/'"
   ]
  },
  {
   "cell_type": "code",
   "execution_count": null,
   "metadata": {},
   "outputs": [],
   "source": [
    "#your code"
   ]
  }
 ],
 "metadata": {
  "kernelspec": {
   "display_name": "Python 3",
   "language": "python",
   "name": "python3"
  },
  "language_info": {
   "codemirror_mode": {
    "name": "ipython",
    "version": 3
   },
   "file_extension": ".py",
   "mimetype": "text/x-python",
   "name": "python",
   "nbconvert_exporter": "python",
   "pygments_lexer": "ipython3",
   "version": "3.7.3"
  }
 },
 "nbformat": 4,
 "nbformat_minor": 2
}
